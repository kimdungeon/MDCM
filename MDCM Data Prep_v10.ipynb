{
 "cells": [
  {
   "cell_type": "code",
   "execution_count": 1,
   "outputs": [
    {
     "data": {
      "text/plain": "      team1_id  team2_id team1_position team2_position  team1_seed  \\\n0         1104      1194            Y02            Y15           2   \n1         1112      1364            Z03            Z14           3   \n2         1112      1461            Z03            Z11           3   \n3         1143      1335            Y06            Y11           6   \n4         1153      1131            Z01            Z16           1   \n...        ...       ...            ...            ...         ...   \n3653      1463      1436            W13            Z13          13   \n3654      1463      1438            W13           Y10b          13   \n3655      1463      1443            W13            Z15          13   \n3656      1463      1447            W13           X16b          13   \n3657      1463      1458            W13            Z05          13   \n\n      team2_seed  strongseed  weakseed team1_region team2_region  ...  \\\n0             15         2.0      15.0            Y            Y  ...   \n1             14         3.0      14.0            Z            Z  ...   \n2             11         3.0      11.0            Z            Z  ...   \n3             11         6.0      11.0            Y            Y  ...   \n4             16         1.0      16.0            Z            Z  ...   \n...          ...         ...       ...          ...          ...  ...   \n3653          13        13.0      13.0            W            Z  ...   \n3654          10        10.0      13.0            W            Y  ...   \n3655          15        13.0      15.0            W            Z  ...   \n3656          16        13.0      16.0            W            X  ...   \n3657           5         5.0      13.0            W            Z  ...   \n\n     team1_adjoe  team1_de team1_adjde  team2_tempo team2_adjtempo  team2_oe  \\\n0       111.4954   95.2313     93.8770      71.2357        71.2446  100.2897   \n1       117.3877  104.0411     96.9262      63.2345        64.7948  105.2163   \n2       117.3877  104.0411     96.9262      69.6172        70.4124  105.3654   \n3       108.4214   94.9897     93.0913      65.6728        66.8930  109.5414   \n4       115.7842   86.3924     88.0357      65.0025        65.8612  102.6611   \n...          ...       ...         ...          ...            ...       ...   \n3653    110.8250  102.1650    101.3520      65.4814        63.2333  107.5330   \n3654    110.8250  102.1650    101.3520      61.2676        59.9122  102.7890   \n3655    110.8250  102.1650    101.3520      75.4183        75.1443  104.9380   \n3656    110.8250  102.1650    101.3520      62.5685        61.2530   97.4514   \n3657    110.8250  102.1650    101.3520      65.7697        65.1538  113.1420   \n\n      team2_adjoe  team2_de  team2_adjde         game_id  \n0         96.8669   98.4183      99.9263  2002-1104-1194  \n1        105.4534   96.0965      97.6704  2002-1112-1364  \n2        106.0370   97.0568      96.6601  2002-1112-1461  \n3        106.9622   94.2234      95.1915  2002-1143-1335  \n4         99.5634   95.6198     101.1011  2002-1153-1131  \n...           ...       ...          ...             ...  \n3653     107.1220   97.2349     100.1450  2024-1463-1436  \n3654     105.4220   96.0936      93.3467  2024-1463-1438  \n3655     105.5520   98.5188     102.4890  2024-1463-1443  \n3656      95.7835   99.3912     105.8780  2024-1463-1447  \n3657     120.0600  104.7460      99.4602  2024-1463-1458  \n\n[3658 rows x 98 columns]",
      "text/html": "<div>\n<style scoped>\n    .dataframe tbody tr th:only-of-type {\n        vertical-align: middle;\n    }\n\n    .dataframe tbody tr th {\n        vertical-align: top;\n    }\n\n    .dataframe thead th {\n        text-align: right;\n    }\n</style>\n<table border=\"1\" class=\"dataframe\">\n  <thead>\n    <tr style=\"text-align: right;\">\n      <th></th>\n      <th>team1_id</th>\n      <th>team2_id</th>\n      <th>team1_position</th>\n      <th>team2_position</th>\n      <th>team1_seed</th>\n      <th>team2_seed</th>\n      <th>strongseed</th>\n      <th>weakseed</th>\n      <th>team1_region</th>\n      <th>team2_region</th>\n      <th>...</th>\n      <th>team1_adjoe</th>\n      <th>team1_de</th>\n      <th>team1_adjde</th>\n      <th>team2_tempo</th>\n      <th>team2_adjtempo</th>\n      <th>team2_oe</th>\n      <th>team2_adjoe</th>\n      <th>team2_de</th>\n      <th>team2_adjde</th>\n      <th>game_id</th>\n    </tr>\n  </thead>\n  <tbody>\n    <tr>\n      <th>0</th>\n      <td>1104</td>\n      <td>1194</td>\n      <td>Y02</td>\n      <td>Y15</td>\n      <td>2</td>\n      <td>15</td>\n      <td>2.0</td>\n      <td>15.0</td>\n      <td>Y</td>\n      <td>Y</td>\n      <td>...</td>\n      <td>111.4954</td>\n      <td>95.2313</td>\n      <td>93.8770</td>\n      <td>71.2357</td>\n      <td>71.2446</td>\n      <td>100.2897</td>\n      <td>96.8669</td>\n      <td>98.4183</td>\n      <td>99.9263</td>\n      <td>2002-1104-1194</td>\n    </tr>\n    <tr>\n      <th>1</th>\n      <td>1112</td>\n      <td>1364</td>\n      <td>Z03</td>\n      <td>Z14</td>\n      <td>3</td>\n      <td>14</td>\n      <td>3.0</td>\n      <td>14.0</td>\n      <td>Z</td>\n      <td>Z</td>\n      <td>...</td>\n      <td>117.3877</td>\n      <td>104.0411</td>\n      <td>96.9262</td>\n      <td>63.2345</td>\n      <td>64.7948</td>\n      <td>105.2163</td>\n      <td>105.4534</td>\n      <td>96.0965</td>\n      <td>97.6704</td>\n      <td>2002-1112-1364</td>\n    </tr>\n    <tr>\n      <th>2</th>\n      <td>1112</td>\n      <td>1461</td>\n      <td>Z03</td>\n      <td>Z11</td>\n      <td>3</td>\n      <td>11</td>\n      <td>3.0</td>\n      <td>11.0</td>\n      <td>Z</td>\n      <td>Z</td>\n      <td>...</td>\n      <td>117.3877</td>\n      <td>104.0411</td>\n      <td>96.9262</td>\n      <td>69.6172</td>\n      <td>70.4124</td>\n      <td>105.3654</td>\n      <td>106.0370</td>\n      <td>97.0568</td>\n      <td>96.6601</td>\n      <td>2002-1112-1461</td>\n    </tr>\n    <tr>\n      <th>3</th>\n      <td>1143</td>\n      <td>1335</td>\n      <td>Y06</td>\n      <td>Y11</td>\n      <td>6</td>\n      <td>11</td>\n      <td>6.0</td>\n      <td>11.0</td>\n      <td>Y</td>\n      <td>Y</td>\n      <td>...</td>\n      <td>108.4214</td>\n      <td>94.9897</td>\n      <td>93.0913</td>\n      <td>65.6728</td>\n      <td>66.8930</td>\n      <td>109.5414</td>\n      <td>106.9622</td>\n      <td>94.2234</td>\n      <td>95.1915</td>\n      <td>2002-1143-1335</td>\n    </tr>\n    <tr>\n      <th>4</th>\n      <td>1153</td>\n      <td>1131</td>\n      <td>Z01</td>\n      <td>Z16</td>\n      <td>1</td>\n      <td>16</td>\n      <td>1.0</td>\n      <td>16.0</td>\n      <td>Z</td>\n      <td>Z</td>\n      <td>...</td>\n      <td>115.7842</td>\n      <td>86.3924</td>\n      <td>88.0357</td>\n      <td>65.0025</td>\n      <td>65.8612</td>\n      <td>102.6611</td>\n      <td>99.5634</td>\n      <td>95.6198</td>\n      <td>101.1011</td>\n      <td>2002-1153-1131</td>\n    </tr>\n    <tr>\n      <th>...</th>\n      <td>...</td>\n      <td>...</td>\n      <td>...</td>\n      <td>...</td>\n      <td>...</td>\n      <td>...</td>\n      <td>...</td>\n      <td>...</td>\n      <td>...</td>\n      <td>...</td>\n      <td>...</td>\n      <td>...</td>\n      <td>...</td>\n      <td>...</td>\n      <td>...</td>\n      <td>...</td>\n      <td>...</td>\n      <td>...</td>\n      <td>...</td>\n      <td>...</td>\n      <td>...</td>\n    </tr>\n    <tr>\n      <th>3653</th>\n      <td>1463</td>\n      <td>1436</td>\n      <td>W13</td>\n      <td>Z13</td>\n      <td>13</td>\n      <td>13</td>\n      <td>13.0</td>\n      <td>13.0</td>\n      <td>W</td>\n      <td>Z</td>\n      <td>...</td>\n      <td>110.8250</td>\n      <td>102.1650</td>\n      <td>101.3520</td>\n      <td>65.4814</td>\n      <td>63.2333</td>\n      <td>107.5330</td>\n      <td>107.1220</td>\n      <td>97.2349</td>\n      <td>100.1450</td>\n      <td>2024-1463-1436</td>\n    </tr>\n    <tr>\n      <th>3654</th>\n      <td>1463</td>\n      <td>1438</td>\n      <td>W13</td>\n      <td>Y10b</td>\n      <td>13</td>\n      <td>10</td>\n      <td>10.0</td>\n      <td>13.0</td>\n      <td>W</td>\n      <td>Y</td>\n      <td>...</td>\n      <td>110.8250</td>\n      <td>102.1650</td>\n      <td>101.3520</td>\n      <td>61.2676</td>\n      <td>59.9122</td>\n      <td>102.7890</td>\n      <td>105.4220</td>\n      <td>96.0936</td>\n      <td>93.3467</td>\n      <td>2024-1463-1438</td>\n    </tr>\n    <tr>\n      <th>3655</th>\n      <td>1463</td>\n      <td>1443</td>\n      <td>W13</td>\n      <td>Z15</td>\n      <td>13</td>\n      <td>15</td>\n      <td>13.0</td>\n      <td>15.0</td>\n      <td>W</td>\n      <td>Z</td>\n      <td>...</td>\n      <td>110.8250</td>\n      <td>102.1650</td>\n      <td>101.3520</td>\n      <td>75.4183</td>\n      <td>75.1443</td>\n      <td>104.9380</td>\n      <td>105.5520</td>\n      <td>98.5188</td>\n      <td>102.4890</td>\n      <td>2024-1463-1443</td>\n    </tr>\n    <tr>\n      <th>3656</th>\n      <td>1463</td>\n      <td>1447</td>\n      <td>W13</td>\n      <td>X16b</td>\n      <td>13</td>\n      <td>16</td>\n      <td>13.0</td>\n      <td>16.0</td>\n      <td>W</td>\n      <td>X</td>\n      <td>...</td>\n      <td>110.8250</td>\n      <td>102.1650</td>\n      <td>101.3520</td>\n      <td>62.5685</td>\n      <td>61.2530</td>\n      <td>97.4514</td>\n      <td>95.7835</td>\n      <td>99.3912</td>\n      <td>105.8780</td>\n      <td>2024-1463-1447</td>\n    </tr>\n    <tr>\n      <th>3657</th>\n      <td>1463</td>\n      <td>1458</td>\n      <td>W13</td>\n      <td>Z05</td>\n      <td>13</td>\n      <td>5</td>\n      <td>5.0</td>\n      <td>13.0</td>\n      <td>W</td>\n      <td>Z</td>\n      <td>...</td>\n      <td>110.8250</td>\n      <td>102.1650</td>\n      <td>101.3520</td>\n      <td>65.7697</td>\n      <td>65.1538</td>\n      <td>113.1420</td>\n      <td>120.0600</td>\n      <td>104.7460</td>\n      <td>99.4602</td>\n      <td>2024-1463-1458</td>\n    </tr>\n  </tbody>\n</table>\n<p>3658 rows × 98 columns</p>\n</div>"
     },
     "execution_count": 1,
     "metadata": {},
     "output_type": "execute_result"
    }
   ],
   "source": [
    "# MDCM Data Prep File\n",
    "\n",
    "# Import Packages\n",
    "import pandas as pd \n",
    "import numpy as np\n",
    "\n",
    "# Load data for 2002-2022 and drop duplicates\n",
    "df_2022 = pd.read_csv('DATA/NCAA_Tourney_2002_2022.csv')\n",
    "df_2022 = df_2022.drop_duplicates()\n",
    "\n",
    "# Load data for 2023 and drop duplicates\n",
    "df_2023 = pd.read_csv('DATA/NCAA_Tourney_2023.csv')\n",
    "df_2023 = df_2023.drop_duplicates()\n",
    "\n",
    "df_2024 = pd.read_csv('DATA/NCAA_Tourney_2024.csv')\n",
    "df_2024 = df_2024.drop_duplicates()\n",
    "\n",
    "# Delete fields from 2002-2022 data not in 2023 data\n",
    "drop_cols_2022 = ['num_ot', 'team1_coaches_before_final', 'team2_coaches_before_final', 'WLoc', 'team1_score', 'team2_score']\n",
    "\n",
    "df_2022 = df_2022.drop(columns=drop_cols_2022)\n",
    "\n",
    "# Delete fields from 2023 data not in 2022 data\n",
    "drop_cols_2023_24 = ['team1_coach_name', 'team2_coach_name', 'team1_coaches_final', 'team2_coaches_final']\n",
    "\n",
    "df_2023 = df_2023.drop(columns=drop_cols_2023_24)\n",
    "df_2024 = df_2024.drop(columns=drop_cols_2023_24)\n",
    "\n",
    "# Concat df together\n",
    "df_init = pd.concat([df_2022, df_2023, df_2024])\n",
    "\n",
    "# Sort data by season and game_id\n",
    "df_init = df_init.sort_values(by=['game_id'], ascending=True)\n",
    "\n",
    "# Reset index\n",
    "df_init.reset_index(drop=True)"
   ],
   "metadata": {
    "collapsed": false,
    "ExecuteTime": {
     "end_time": "2024-03-21T04:22:04.631534Z",
     "start_time": "2024-03-21T04:22:04.535927Z"
    }
   },
   "id": "bd7fc925f5c2a36c"
  },
  {
   "cell_type": "code",
   "execution_count": 2,
   "outputs": [
    {
     "data": {
      "text/plain": "                        Variable            VIF\n0                          const  481792.679290\n1    team1_pt_career_school_wins     123.754787\n2    team2_pt_career_school_wins     102.165792\n3   team1_pt_career_overall_wins      94.356748\n4   team2_pt_career_overall_wins      93.387727\n..                           ...            ...\n75                     team1_lat       1.685080\n76     team1_pt_team_season_wins       1.517641\n77                     host_long       1.420580\n78                      host_lat       1.405971\n79                    team2_long       1.395512\n\n[80 rows x 2 columns]",
      "text/html": "<div>\n<style scoped>\n    .dataframe tbody tr th:only-of-type {\n        vertical-align: middle;\n    }\n\n    .dataframe tbody tr th {\n        vertical-align: top;\n    }\n\n    .dataframe thead th {\n        text-align: right;\n    }\n</style>\n<table border=\"1\" class=\"dataframe\">\n  <thead>\n    <tr style=\"text-align: right;\">\n      <th></th>\n      <th>Variable</th>\n      <th>VIF</th>\n    </tr>\n  </thead>\n  <tbody>\n    <tr>\n      <th>0</th>\n      <td>const</td>\n      <td>481792.679290</td>\n    </tr>\n    <tr>\n      <th>1</th>\n      <td>team1_pt_career_school_wins</td>\n      <td>123.754787</td>\n    </tr>\n    <tr>\n      <th>2</th>\n      <td>team2_pt_career_school_wins</td>\n      <td>102.165792</td>\n    </tr>\n    <tr>\n      <th>3</th>\n      <td>team1_pt_career_overall_wins</td>\n      <td>94.356748</td>\n    </tr>\n    <tr>\n      <th>4</th>\n      <td>team2_pt_career_overall_wins</td>\n      <td>93.387727</td>\n    </tr>\n    <tr>\n      <th>...</th>\n      <td>...</td>\n      <td>...</td>\n    </tr>\n    <tr>\n      <th>75</th>\n      <td>team1_lat</td>\n      <td>1.685080</td>\n    </tr>\n    <tr>\n      <th>76</th>\n      <td>team1_pt_team_season_wins</td>\n      <td>1.517641</td>\n    </tr>\n    <tr>\n      <th>77</th>\n      <td>host_long</td>\n      <td>1.420580</td>\n    </tr>\n    <tr>\n      <th>78</th>\n      <td>host_lat</td>\n      <td>1.405971</td>\n    </tr>\n    <tr>\n      <th>79</th>\n      <td>team2_long</td>\n      <td>1.395512</td>\n    </tr>\n  </tbody>\n</table>\n<p>80 rows × 2 columns</p>\n</div>"
     },
     "execution_count": 2,
     "metadata": {},
     "output_type": "execute_result"
    }
   ],
   "source": [
    "# VIF Analysis to identify multicollinearity on initial dataset\n",
    "\n",
    "# Import packages\n",
    "from statsmodels.stats.outliers_influence import variance_inflation_factor\n",
    "from statsmodels.tools.tools import add_constant\n",
    "\n",
    "# Convert non-numeric columns to numeric\n",
    "df_vif_pca = df_init.apply(pd.to_numeric, errors='coerce')\n",
    "\n",
    "# Remove non-numeric fields\n",
    "drop_columns = ['team1_id', 'team2_id', 'game_id', 'team1_position', 'team2_position', 'team1_region', 'team2_region', 'slot', 'team1_teamname', 'team2_teamname', 'host', 'team1_coach_id', 'team2_coach_id', 'team1_ap_final', 'team2_ap_final', 'team1_seed', 'team2_seed', 'strongseed', 'weakseed']\n",
    "\n",
    "df_vif_pca = df_vif_pca.drop(columns=drop_columns)\n",
    "\n",
    "# Fill NA's with 0\n",
    "df_vif_pca = df_vif_pca.fillna(value=0)\n",
    "\n",
    "# Calculating VIF\n",
    "X = add_constant(df_vif_pca)\n",
    "vif_data = pd.DataFrame()\n",
    "vif_data[\"Variable\"] = X.columns\n",
    "vif_data[\"VIF\"] = [variance_inflation_factor(X.values, i) for i in range(X.shape[1])]\n",
    "\n",
    "vif_data = vif_data.sort_values(by='VIF', ascending=False).reset_index(drop=True)\n",
    "\n",
    "# Show results\n",
    "vif_data"
   ],
   "metadata": {
    "collapsed": false,
    "ExecuteTime": {
     "end_time": "2024-03-21T04:22:08.159281Z",
     "start_time": "2024-03-21T04:22:05.512216Z"
    }
   },
   "id": "253b8a55c5ea79e9"
  },
  {
   "cell_type": "code",
   "execution_count": 3,
   "outputs": [],
   "source": [
    "# Add data fields\n",
    "\n",
    "# Make copy of df\n",
    "df = df_init.copy()\n",
    "\n",
    "# Get seed differential; a seed_diff > 0 means the game was an upset\n",
    "df['team1_seed_diff'] = df['team2_seed'].astype(int) - df['team1_seed'].astype(int)\n",
    "df['team2_seed_diff'] = df['team1_seed_diff']*-1\n",
    "\n",
    "# Function to calculate distance between two points\n",
    "from geopy.distance import geodesic\n",
    "\n",
    "def calc_distance(lat1, lon1, lat2, lon2):\n",
    "    # Coordinates of the two points (latitude, longitude)\n",
    "    point1 = (lat1, lon1)\n",
    "    point2 = (lat2, lon2)\n",
    "\n",
    "    # Calculate the distance between the two points\n",
    "    distance = geodesic(point1, point2).kilometers\n",
    "    return distance\n",
    "\n",
    "# Calculate distance between host and team1 campus\n",
    "df['team1_dist_km'] = df.apply(lambda row: calc_distance(row['host_lat'], row['host_long'], row['team1_lat'], row['team1_long']), axis=1)\n",
    "\n",
    "# Calculate distance between host and team2 campus\n",
    "df['team2_dist_km'] = df.apply(lambda row: calc_distance(row['host_lat'], row['host_long'], row['team2_lat'], row['team2_long']), axis=1)"
   ],
   "metadata": {
    "collapsed": false,
    "ExecuteTime": {
     "end_time": "2024-03-21T04:22:10.128882Z",
     "start_time": "2024-03-21T04:22:08.715832Z"
    }
   },
   "id": "4258edcf11b2e3a1"
  },
  {
   "cell_type": "code",
   "execution_count": 4,
   "outputs": [],
   "source": [
    "# Calculate expected win % and LogOdd for each team\n",
    "\n",
    "# Make copy of df\n",
    "df1 = df.copy()\n",
    "\n",
    "# Calculate pythag expected win % using KenPom metric\n",
    "df1['team1_exp_win'] = (df1['team1_adjoe']**11.5)/ ((df1['team1_adjde']**11.5)+(df1['team1_adjoe']**11.5))\n",
    "df1['team2_exp_win'] = (df1['team2_adjoe']**11.5)/ ((df1['team2_adjde']**11.5)+(df1['team2_adjoe']**11.5))\n",
    "\n",
    "# Calculate Log5 Odds of team 1 winning the game\n",
    "df1['team1_log5'] = (df1['team1_exp_win'] - (df1['team1_exp_win']*df1['team2_exp_win']))/ (df1['team1_exp_win']+df1['team2_exp_win']-(2*df1['team1_exp_win']*df1['team2_exp_win']))\n",
    "\n",
    "# Likelihood of team 2 winning game is 1-LogOdds of team1\n",
    "df1['team2_log5'] = 1 - df1['team1_log5']\n",
    "\n",
    "# Calculate composite shooting % for each team\n",
    "weight_ft = .167\n",
    "weight_2p = .333 # worth double that of FT\n",
    "weight_3p = .5 # 3pts are 50% more than 2pt\n",
    "\n",
    "# Calculate team 1 and 2 shooting %\n",
    "df1['team1_shooting_%'] = (df1['team1_fg2pct']*weight_2p) + (df1['team1_fg3pct']*weight_3p) + (df1['team1_ftpct']*weight_ft)\n",
    "\n",
    "df1['team2_shooting_%'] = (df1['team2_fg2pct']*weight_2p) + (df1['team2_fg3pct']*weight_3p) + (df1['team2_ftpct']*weight_ft)\n",
    "\n",
    "# Calculate opp team shooting %\n",
    "df1['team1_opp_shooting%'] = (df1['team1_oppfg2pct']*weight_2p) + (df1['team1_oppfg3pct']*weight_3p) + (df1['team1_oppftpct']*weight_ft)\n",
    "\n",
    "df1['team2_opp_shooting%'] = (df1['team2_oppfg2pct']*weight_2p) + (df1['team2_oppfg3pct']*weight_3p) + (df1['team2_oppftpct']*weight_ft)"
   ],
   "metadata": {
    "collapsed": false,
    "ExecuteTime": {
     "end_time": "2024-03-21T04:22:10.932304Z",
     "start_time": "2024-03-21T04:22:10.919036Z"
    }
   },
   "id": "4fb2187509acfdd1"
  },
  {
   "cell_type": "code",
   "execution_count": 5,
   "outputs": [
    {
     "data": {
      "text/plain": "      team1_id  team2_id team1_position team2_position  team1_seed  \\\n0         1104      1194            Y02            Y15           2   \n1         1112      1364            Z03            Z14           3   \n2         1112      1461            Z03            Z11           3   \n3         1143      1335            Y06            Y11           6   \n4         1153      1131            Z01            Z16           1   \n...        ...       ...            ...            ...         ...   \n3653      1463      1436            W13            Z13          13   \n3654      1463      1438            W13           Y10b          13   \n3655      1463      1443            W13            Z15          13   \n3656      1463      1447            W13           X16b          13   \n3657      1463      1458            W13            Z05          13   \n\n      team2_seed  strongseed  weakseed team1_region team2_region  ...  \\\n0             15         2.0      15.0            Y            Y  ...   \n1             14         3.0      14.0            Z            Z  ...   \n2             11         3.0      11.0            Z            Z  ...   \n3             11         6.0      11.0            Y            Y  ...   \n4             16         1.0      16.0            Z            Z  ...   \n...          ...         ...       ...          ...          ...  ...   \n3653          13        13.0      13.0            W            Z  ...   \n3654          10        10.0      13.0            W            Y  ...   \n3655          15        13.0      15.0            W            Z  ...   \n3656          16        13.0      16.0            W            X  ...   \n3657           5         5.0      13.0            W            Z  ...   \n\n     team1_shooting_% team2_shooting_% team1_opp_shooting%  \\\n0           44.590490        43.104531           42.342928   \n1           47.658492        48.737690           45.038889   \n2           47.658492        43.946449           45.038889   \n3           44.230013        49.850830           43.674743   \n4           46.849360        44.517483           39.680530   \n...               ...              ...                 ...   \n3653        46.585738        46.488687           45.551680   \n3654        46.585738        44.364198           45.551680   \n3655        46.585738        46.538424           45.551680   \n3656        46.585738        41.879586           45.551680   \n3657        46.585738        47.570669           45.551680   \n\n      team2_opp_shooting%  avg_tempo   avg_adjoe  avg_adjde  exp_tempo  \\\n0               44.851876  69.897916  110.282764  94.681263  71.246826   \n1               42.009215  69.897916  110.282764  94.681263  67.504197   \n2               44.312180  69.897916  110.282764  94.681263  73.356697   \n3               43.724353  69.897916  110.282764  94.681263  65.084714   \n4               42.195213  69.897916  110.282764  94.681263  64.746787   \n...                   ...        ...         ...        ...        ...   \n3653            43.293950  67.259660  114.268431  99.845500  60.660088   \n3654            43.265975  67.259660  114.268431  99.845500  57.474137   \n3655            43.624359  67.259660  114.268431  99.845500  72.086383   \n3656            43.165044  67.259660  114.268431  99.845500  58.760374   \n3657            47.442297  67.259660  114.268431  99.845500  62.502435   \n\n      team1_tempo_diff  team2_tempo_diff  \n0            -1.346726         -0.002226  \n1             5.316503         -2.709397  \n2            -0.535997         -2.944297  \n3             2.923686          1.808286  \n4             3.968413          1.114413  \n...                ...               ...  \n3653          3.862512          2.573212  \n3654          7.048463          2.438063  \n3655         -7.563783          3.057917  \n3656          5.762226          2.492626  \n3657          2.020165          2.651365  \n\n[3658 rows x 116 columns]",
      "text/html": "<div>\n<style scoped>\n    .dataframe tbody tr th:only-of-type {\n        vertical-align: middle;\n    }\n\n    .dataframe tbody tr th {\n        vertical-align: top;\n    }\n\n    .dataframe thead th {\n        text-align: right;\n    }\n</style>\n<table border=\"1\" class=\"dataframe\">\n  <thead>\n    <tr style=\"text-align: right;\">\n      <th></th>\n      <th>team1_id</th>\n      <th>team2_id</th>\n      <th>team1_position</th>\n      <th>team2_position</th>\n      <th>team1_seed</th>\n      <th>team2_seed</th>\n      <th>strongseed</th>\n      <th>weakseed</th>\n      <th>team1_region</th>\n      <th>team2_region</th>\n      <th>...</th>\n      <th>team1_shooting_%</th>\n      <th>team2_shooting_%</th>\n      <th>team1_opp_shooting%</th>\n      <th>team2_opp_shooting%</th>\n      <th>avg_tempo</th>\n      <th>avg_adjoe</th>\n      <th>avg_adjde</th>\n      <th>exp_tempo</th>\n      <th>team1_tempo_diff</th>\n      <th>team2_tempo_diff</th>\n    </tr>\n  </thead>\n  <tbody>\n    <tr>\n      <th>0</th>\n      <td>1104</td>\n      <td>1194</td>\n      <td>Y02</td>\n      <td>Y15</td>\n      <td>2</td>\n      <td>15</td>\n      <td>2.0</td>\n      <td>15.0</td>\n      <td>Y</td>\n      <td>Y</td>\n      <td>...</td>\n      <td>44.590490</td>\n      <td>43.104531</td>\n      <td>42.342928</td>\n      <td>44.851876</td>\n      <td>69.897916</td>\n      <td>110.282764</td>\n      <td>94.681263</td>\n      <td>71.246826</td>\n      <td>-1.346726</td>\n      <td>-0.002226</td>\n    </tr>\n    <tr>\n      <th>1</th>\n      <td>1112</td>\n      <td>1364</td>\n      <td>Z03</td>\n      <td>Z14</td>\n      <td>3</td>\n      <td>14</td>\n      <td>3.0</td>\n      <td>14.0</td>\n      <td>Z</td>\n      <td>Z</td>\n      <td>...</td>\n      <td>47.658492</td>\n      <td>48.737690</td>\n      <td>45.038889</td>\n      <td>42.009215</td>\n      <td>69.897916</td>\n      <td>110.282764</td>\n      <td>94.681263</td>\n      <td>67.504197</td>\n      <td>5.316503</td>\n      <td>-2.709397</td>\n    </tr>\n    <tr>\n      <th>2</th>\n      <td>1112</td>\n      <td>1461</td>\n      <td>Z03</td>\n      <td>Z11</td>\n      <td>3</td>\n      <td>11</td>\n      <td>3.0</td>\n      <td>11.0</td>\n      <td>Z</td>\n      <td>Z</td>\n      <td>...</td>\n      <td>47.658492</td>\n      <td>43.946449</td>\n      <td>45.038889</td>\n      <td>44.312180</td>\n      <td>69.897916</td>\n      <td>110.282764</td>\n      <td>94.681263</td>\n      <td>73.356697</td>\n      <td>-0.535997</td>\n      <td>-2.944297</td>\n    </tr>\n    <tr>\n      <th>3</th>\n      <td>1143</td>\n      <td>1335</td>\n      <td>Y06</td>\n      <td>Y11</td>\n      <td>6</td>\n      <td>11</td>\n      <td>6.0</td>\n      <td>11.0</td>\n      <td>Y</td>\n      <td>Y</td>\n      <td>...</td>\n      <td>44.230013</td>\n      <td>49.850830</td>\n      <td>43.674743</td>\n      <td>43.724353</td>\n      <td>69.897916</td>\n      <td>110.282764</td>\n      <td>94.681263</td>\n      <td>65.084714</td>\n      <td>2.923686</td>\n      <td>1.808286</td>\n    </tr>\n    <tr>\n      <th>4</th>\n      <td>1153</td>\n      <td>1131</td>\n      <td>Z01</td>\n      <td>Z16</td>\n      <td>1</td>\n      <td>16</td>\n      <td>1.0</td>\n      <td>16.0</td>\n      <td>Z</td>\n      <td>Z</td>\n      <td>...</td>\n      <td>46.849360</td>\n      <td>44.517483</td>\n      <td>39.680530</td>\n      <td>42.195213</td>\n      <td>69.897916</td>\n      <td>110.282764</td>\n      <td>94.681263</td>\n      <td>64.746787</td>\n      <td>3.968413</td>\n      <td>1.114413</td>\n    </tr>\n    <tr>\n      <th>...</th>\n      <td>...</td>\n      <td>...</td>\n      <td>...</td>\n      <td>...</td>\n      <td>...</td>\n      <td>...</td>\n      <td>...</td>\n      <td>...</td>\n      <td>...</td>\n      <td>...</td>\n      <td>...</td>\n      <td>...</td>\n      <td>...</td>\n      <td>...</td>\n      <td>...</td>\n      <td>...</td>\n      <td>...</td>\n      <td>...</td>\n      <td>...</td>\n      <td>...</td>\n      <td>...</td>\n    </tr>\n    <tr>\n      <th>3653</th>\n      <td>1463</td>\n      <td>1436</td>\n      <td>W13</td>\n      <td>Z13</td>\n      <td>13</td>\n      <td>13</td>\n      <td>13.0</td>\n      <td>13.0</td>\n      <td>W</td>\n      <td>Z</td>\n      <td>...</td>\n      <td>46.585738</td>\n      <td>46.488687</td>\n      <td>45.551680</td>\n      <td>43.293950</td>\n      <td>67.259660</td>\n      <td>114.268431</td>\n      <td>99.845500</td>\n      <td>60.660088</td>\n      <td>3.862512</td>\n      <td>2.573212</td>\n    </tr>\n    <tr>\n      <th>3654</th>\n      <td>1463</td>\n      <td>1438</td>\n      <td>W13</td>\n      <td>Y10b</td>\n      <td>13</td>\n      <td>10</td>\n      <td>10.0</td>\n      <td>13.0</td>\n      <td>W</td>\n      <td>Y</td>\n      <td>...</td>\n      <td>46.585738</td>\n      <td>44.364198</td>\n      <td>45.551680</td>\n      <td>43.265975</td>\n      <td>67.259660</td>\n      <td>114.268431</td>\n      <td>99.845500</td>\n      <td>57.474137</td>\n      <td>7.048463</td>\n      <td>2.438063</td>\n    </tr>\n    <tr>\n      <th>3655</th>\n      <td>1463</td>\n      <td>1443</td>\n      <td>W13</td>\n      <td>Z15</td>\n      <td>13</td>\n      <td>15</td>\n      <td>13.0</td>\n      <td>15.0</td>\n      <td>W</td>\n      <td>Z</td>\n      <td>...</td>\n      <td>46.585738</td>\n      <td>46.538424</td>\n      <td>45.551680</td>\n      <td>43.624359</td>\n      <td>67.259660</td>\n      <td>114.268431</td>\n      <td>99.845500</td>\n      <td>72.086383</td>\n      <td>-7.563783</td>\n      <td>3.057917</td>\n    </tr>\n    <tr>\n      <th>3656</th>\n      <td>1463</td>\n      <td>1447</td>\n      <td>W13</td>\n      <td>X16b</td>\n      <td>13</td>\n      <td>16</td>\n      <td>13.0</td>\n      <td>16.0</td>\n      <td>W</td>\n      <td>X</td>\n      <td>...</td>\n      <td>46.585738</td>\n      <td>41.879586</td>\n      <td>45.551680</td>\n      <td>43.165044</td>\n      <td>67.259660</td>\n      <td>114.268431</td>\n      <td>99.845500</td>\n      <td>58.760374</td>\n      <td>5.762226</td>\n      <td>2.492626</td>\n    </tr>\n    <tr>\n      <th>3657</th>\n      <td>1463</td>\n      <td>1458</td>\n      <td>W13</td>\n      <td>Z05</td>\n      <td>13</td>\n      <td>5</td>\n      <td>5.0</td>\n      <td>13.0</td>\n      <td>W</td>\n      <td>Z</td>\n      <td>...</td>\n      <td>46.585738</td>\n      <td>47.570669</td>\n      <td>45.551680</td>\n      <td>47.442297</td>\n      <td>67.259660</td>\n      <td>114.268431</td>\n      <td>99.845500</td>\n      <td>62.502435</td>\n      <td>2.020165</td>\n      <td>2.651365</td>\n    </tr>\n  </tbody>\n</table>\n<p>3658 rows × 116 columns</p>\n</div>"
     },
     "execution_count": 5,
     "metadata": {},
     "output_type": "execute_result"
    }
   ],
   "source": [
    "# Get adj tempo data for each team\n",
    "efficiency_cols = ['team1_adjoe', 'team1_adjde', 'team1_adjtempo', 'team2_adjoe', 'team2_adjde', 'team2_adjtempo']\n",
    "\n",
    "df_efficiency = df1[['season', 'team1_adjoe', 'team1_adjde', 'team1_adjtempo', 'team2_adjoe', 'team2_adjde', 'team2_adjtempo']]\n",
    "\n",
    "# Get average adj tempo by year\n",
    "df_efficiency = df_efficiency.groupby(['season'])[efficiency_cols].mean().reset_index()\n",
    "\n",
    "# Calculate averages for each year\n",
    "df_efficiency['avg_tempo'] = (df_efficiency['team1_adjtempo'] + df_efficiency['team2_adjtempo'])/2\n",
    "df_efficiency['avg_adjoe'] = (df_efficiency['team1_adjoe'] + df_efficiency['team2_adjoe'])/2\n",
    "df_efficiency['avg_adjde'] = (df_efficiency['team1_adjde'] + df_efficiency['team2_adjde'])/2\n",
    "\n",
    "# Drop columns\n",
    "df_efficiency= df_efficiency.drop(columns=efficiency_cols)\n",
    "\n",
    "# Make copy of df\n",
    "df2 = df1.copy()\n",
    "\n",
    "# Join with df to get avg adj tempo for each team\n",
    "df2 = pd.merge(df2, df_efficiency, on='season', how='inner')\n",
    "\n",
    "# Make copy of df\n",
    "df3 = df2.copy()\n",
    "\n",
    "# Calculate expected tempo for each game\n",
    "df3['exp_tempo'] = (df3['team1_adjtempo']/df3['avg_tempo'])*(df3['team2_adjtempo']/df3['avg_tempo'])*df3['avg_tempo']\n",
    "\n",
    "# Calc tempo differential\n",
    "df3['team1_tempo_diff'] = df3['team1_adjtempo'] - df3['exp_tempo']\n",
    "df3['team2_tempo_diff'] = df3['team2_adjtempo'] - df3['exp_tempo']\n",
    "\n",
    "# Rename season to year so regex doesn't include preseason/season\n",
    "df3.rename(columns={'season': 'year'}, inplace=True)\n",
    "\n",
    "# Preview df\n",
    "df3"
   ],
   "metadata": {
    "collapsed": false,
    "ExecuteTime": {
     "end_time": "2024-03-21T04:22:11.798350Z",
     "start_time": "2024-03-21T04:22:11.761525Z"
    }
   },
   "id": "386f26e624f039a7"
  },
  {
   "cell_type": "code",
   "execution_count": 6,
   "outputs": [
    {
     "name": "stderr",
     "output_type": "stream",
     "text": [
      "/var/folders/65/9l3qmfc96xsdxtpbjzp_y53w0000gn/T/ipykernel_68314/1342569607.py:7: SettingWithCopyWarning: \n",
      "A value is trying to be set on a copy of a slice from a DataFrame.\n",
      "Try using .loc[row_indexer,col_indexer] = value instead\n",
      "\n",
      "See the caveats in the documentation: https://pandas.pydata.org/pandas-docs/stable/user_guide/indexing.html#returning-a-view-versus-a-copy\n",
      "  df_team1['winner'] = 1\n",
      "/var/folders/65/9l3qmfc96xsdxtpbjzp_y53w0000gn/T/ipykernel_68314/1342569607.py:13: SettingWithCopyWarning: \n",
      "A value is trying to be set on a copy of a slice from a DataFrame.\n",
      "Try using .loc[row_indexer,col_indexer] = value instead\n",
      "\n",
      "See the caveats in the documentation: https://pandas.pydata.org/pandas-docs/stable/user_guide/indexing.html#returning-a-view-versus-a-copy\n",
      "  df_team2['winner'] = 0\n"
     ]
    },
    {
     "data": {
      "text/plain": "        id position  seed region       teamname  year        lat        long  \\\n0     1104      Y02     2      Y        Alabama  2002  33.214400  -87.545766   \n0     1194      Y15    15      Y    FL Atlantic  2002  26.372536  -80.102293   \n1     1112      Z03     3      Z        Arizona  2002  32.232071 -110.950769   \n1     1364      Z14    14      Z  Santa Barbara  2002  34.415462 -119.848071   \n2     1112      Z03     3      Z        Arizona  2002  32.232071 -110.950769   \n...    ...      ...   ...    ...            ...   ...        ...         ...   \n3655  1463      W13    13      W           Yale  2024  41.310189  -72.928860   \n3656  1447     X16b    16      X         Wagner  2024  40.615003  -74.095730   \n3656  1463      W13    13      W           Yale  2024  41.310189  -72.928860   \n3657  1463      W13    13      W           Yale  2024  41.310189  -72.928860   \n3657  1458      Z05     5      Z      Wisconsin  2024  43.073858  -89.405356   \n\n               coach_id  pt_school_ncaa  ...     adjde         game_id  \\\n0      mark-gottfried-1             0.0  ...   93.8770  2002-1104-1194   \n0        sidney-green-1             0.0  ...   99.9263  2002-1104-1194   \n1          lute-olson-1            17.0  ...   96.9262  2002-1112-1364   \n1        bob-williams-1             0.0  ...   97.6704  2002-1112-1364   \n2          lute-olson-1            17.0  ...   96.9262  2002-1112-1461   \n...                 ...             ...  ...       ...             ...   \n3655      james-jones-3             3.0  ...  101.3520  2024-1463-1443   \n3656  donald-copeland-1             0.0  ...  105.8780  2024-1463-1447   \n3656      james-jones-3             3.0  ...  101.3520  2024-1463-1447   \n3657      james-jones-3             3.0  ...  101.3520  2024-1463-1458   \n3657        greg-gard-1             5.0  ...   99.4602  2024-1463-1458   \n\n      seed_diff      dist_km   exp_win      log5  shooting_%  opp_shooting%  \\\n0            13   971.569051  0.878465  0.911780   44.590490      42.342928   \n0           -13  1055.792866  0.411542  0.088220   43.104531      44.851876   \n1            11   513.706780  0.900485  0.789333   47.658492      45.038889   \n1           -11  1213.507998  0.707177  0.210667   48.737690      42.009215   \n2             8   513.706780  0.900485  0.757288   47.658492      45.038889   \n...         ...          ...       ...       ...         ...            ...   \n3655          2  3548.049582  0.736442  0.665723   46.585738      45.551680   \n3656         -3  3448.521613  0.240075  0.101577   41.879586      43.165044   \n3656          3  3548.049582  0.736442  0.898423   46.585738      45.551680   \n3657         -8  3548.049582  0.736442  0.242847   46.585738      45.551680   \n3657          8  2245.874077  0.897034  0.757153   47.570669      47.442297   \n\n      tempo_diff  winner  \n0      -1.346726       1  \n0      -0.002226       0  \n1       5.316503       1  \n1      -2.709397       0  \n2      -0.535997       1  \n...          ...     ...  \n3655   -7.563783       1  \n3656    2.492626       0  \n3656    5.762226       1  \n3657    2.020165       1  \n3657    2.651365       0  \n\n[7316 rows x 55 columns]",
      "text/html": "<div>\n<style scoped>\n    .dataframe tbody tr th:only-of-type {\n        vertical-align: middle;\n    }\n\n    .dataframe tbody tr th {\n        vertical-align: top;\n    }\n\n    .dataframe thead th {\n        text-align: right;\n    }\n</style>\n<table border=\"1\" class=\"dataframe\">\n  <thead>\n    <tr style=\"text-align: right;\">\n      <th></th>\n      <th>id</th>\n      <th>position</th>\n      <th>seed</th>\n      <th>region</th>\n      <th>teamname</th>\n      <th>year</th>\n      <th>lat</th>\n      <th>long</th>\n      <th>coach_id</th>\n      <th>pt_school_ncaa</th>\n      <th>...</th>\n      <th>adjde</th>\n      <th>game_id</th>\n      <th>seed_diff</th>\n      <th>dist_km</th>\n      <th>exp_win</th>\n      <th>log5</th>\n      <th>shooting_%</th>\n      <th>opp_shooting%</th>\n      <th>tempo_diff</th>\n      <th>winner</th>\n    </tr>\n  </thead>\n  <tbody>\n    <tr>\n      <th>0</th>\n      <td>1104</td>\n      <td>Y02</td>\n      <td>2</td>\n      <td>Y</td>\n      <td>Alabama</td>\n      <td>2002</td>\n      <td>33.214400</td>\n      <td>-87.545766</td>\n      <td>mark-gottfried-1</td>\n      <td>0.0</td>\n      <td>...</td>\n      <td>93.8770</td>\n      <td>2002-1104-1194</td>\n      <td>13</td>\n      <td>971.569051</td>\n      <td>0.878465</td>\n      <td>0.911780</td>\n      <td>44.590490</td>\n      <td>42.342928</td>\n      <td>-1.346726</td>\n      <td>1</td>\n    </tr>\n    <tr>\n      <th>0</th>\n      <td>1194</td>\n      <td>Y15</td>\n      <td>15</td>\n      <td>Y</td>\n      <td>FL Atlantic</td>\n      <td>2002</td>\n      <td>26.372536</td>\n      <td>-80.102293</td>\n      <td>sidney-green-1</td>\n      <td>0.0</td>\n      <td>...</td>\n      <td>99.9263</td>\n      <td>2002-1104-1194</td>\n      <td>-13</td>\n      <td>1055.792866</td>\n      <td>0.411542</td>\n      <td>0.088220</td>\n      <td>43.104531</td>\n      <td>44.851876</td>\n      <td>-0.002226</td>\n      <td>0</td>\n    </tr>\n    <tr>\n      <th>1</th>\n      <td>1112</td>\n      <td>Z03</td>\n      <td>3</td>\n      <td>Z</td>\n      <td>Arizona</td>\n      <td>2002</td>\n      <td>32.232071</td>\n      <td>-110.950769</td>\n      <td>lute-olson-1</td>\n      <td>17.0</td>\n      <td>...</td>\n      <td>96.9262</td>\n      <td>2002-1112-1364</td>\n      <td>11</td>\n      <td>513.706780</td>\n      <td>0.900485</td>\n      <td>0.789333</td>\n      <td>47.658492</td>\n      <td>45.038889</td>\n      <td>5.316503</td>\n      <td>1</td>\n    </tr>\n    <tr>\n      <th>1</th>\n      <td>1364</td>\n      <td>Z14</td>\n      <td>14</td>\n      <td>Z</td>\n      <td>Santa Barbara</td>\n      <td>2002</td>\n      <td>34.415462</td>\n      <td>-119.848071</td>\n      <td>bob-williams-1</td>\n      <td>0.0</td>\n      <td>...</td>\n      <td>97.6704</td>\n      <td>2002-1112-1364</td>\n      <td>-11</td>\n      <td>1213.507998</td>\n      <td>0.707177</td>\n      <td>0.210667</td>\n      <td>48.737690</td>\n      <td>42.009215</td>\n      <td>-2.709397</td>\n      <td>0</td>\n    </tr>\n    <tr>\n      <th>2</th>\n      <td>1112</td>\n      <td>Z03</td>\n      <td>3</td>\n      <td>Z</td>\n      <td>Arizona</td>\n      <td>2002</td>\n      <td>32.232071</td>\n      <td>-110.950769</td>\n      <td>lute-olson-1</td>\n      <td>17.0</td>\n      <td>...</td>\n      <td>96.9262</td>\n      <td>2002-1112-1461</td>\n      <td>8</td>\n      <td>513.706780</td>\n      <td>0.900485</td>\n      <td>0.757288</td>\n      <td>47.658492</td>\n      <td>45.038889</td>\n      <td>-0.535997</td>\n      <td>1</td>\n    </tr>\n    <tr>\n      <th>...</th>\n      <td>...</td>\n      <td>...</td>\n      <td>...</td>\n      <td>...</td>\n      <td>...</td>\n      <td>...</td>\n      <td>...</td>\n      <td>...</td>\n      <td>...</td>\n      <td>...</td>\n      <td>...</td>\n      <td>...</td>\n      <td>...</td>\n      <td>...</td>\n      <td>...</td>\n      <td>...</td>\n      <td>...</td>\n      <td>...</td>\n      <td>...</td>\n      <td>...</td>\n      <td>...</td>\n    </tr>\n    <tr>\n      <th>3655</th>\n      <td>1463</td>\n      <td>W13</td>\n      <td>13</td>\n      <td>W</td>\n      <td>Yale</td>\n      <td>2024</td>\n      <td>41.310189</td>\n      <td>-72.928860</td>\n      <td>james-jones-3</td>\n      <td>3.0</td>\n      <td>...</td>\n      <td>101.3520</td>\n      <td>2024-1463-1443</td>\n      <td>2</td>\n      <td>3548.049582</td>\n      <td>0.736442</td>\n      <td>0.665723</td>\n      <td>46.585738</td>\n      <td>45.551680</td>\n      <td>-7.563783</td>\n      <td>1</td>\n    </tr>\n    <tr>\n      <th>3656</th>\n      <td>1447</td>\n      <td>X16b</td>\n      <td>16</td>\n      <td>X</td>\n      <td>Wagner</td>\n      <td>2024</td>\n      <td>40.615003</td>\n      <td>-74.095730</td>\n      <td>donald-copeland-1</td>\n      <td>0.0</td>\n      <td>...</td>\n      <td>105.8780</td>\n      <td>2024-1463-1447</td>\n      <td>-3</td>\n      <td>3448.521613</td>\n      <td>0.240075</td>\n      <td>0.101577</td>\n      <td>41.879586</td>\n      <td>43.165044</td>\n      <td>2.492626</td>\n      <td>0</td>\n    </tr>\n    <tr>\n      <th>3656</th>\n      <td>1463</td>\n      <td>W13</td>\n      <td>13</td>\n      <td>W</td>\n      <td>Yale</td>\n      <td>2024</td>\n      <td>41.310189</td>\n      <td>-72.928860</td>\n      <td>james-jones-3</td>\n      <td>3.0</td>\n      <td>...</td>\n      <td>101.3520</td>\n      <td>2024-1463-1447</td>\n      <td>3</td>\n      <td>3548.049582</td>\n      <td>0.736442</td>\n      <td>0.898423</td>\n      <td>46.585738</td>\n      <td>45.551680</td>\n      <td>5.762226</td>\n      <td>1</td>\n    </tr>\n    <tr>\n      <th>3657</th>\n      <td>1463</td>\n      <td>W13</td>\n      <td>13</td>\n      <td>W</td>\n      <td>Yale</td>\n      <td>2024</td>\n      <td>41.310189</td>\n      <td>-72.928860</td>\n      <td>james-jones-3</td>\n      <td>3.0</td>\n      <td>...</td>\n      <td>101.3520</td>\n      <td>2024-1463-1458</td>\n      <td>-8</td>\n      <td>3548.049582</td>\n      <td>0.736442</td>\n      <td>0.242847</td>\n      <td>46.585738</td>\n      <td>45.551680</td>\n      <td>2.020165</td>\n      <td>1</td>\n    </tr>\n    <tr>\n      <th>3657</th>\n      <td>1458</td>\n      <td>Z05</td>\n      <td>5</td>\n      <td>Z</td>\n      <td>Wisconsin</td>\n      <td>2024</td>\n      <td>43.073858</td>\n      <td>-89.405356</td>\n      <td>greg-gard-1</td>\n      <td>5.0</td>\n      <td>...</td>\n      <td>99.4602</td>\n      <td>2024-1463-1458</td>\n      <td>8</td>\n      <td>2245.874077</td>\n      <td>0.897034</td>\n      <td>0.757153</td>\n      <td>47.570669</td>\n      <td>47.442297</td>\n      <td>2.651365</td>\n      <td>0</td>\n    </tr>\n  </tbody>\n</table>\n<p>7316 rows × 55 columns</p>\n</div>"
     },
     "execution_count": 6,
     "metadata": {},
     "output_type": "execute_result"
    }
   ],
   "source": [
    "# Split data\n",
    "\n",
    "# Get team 1's columns\n",
    "df_team1 = df3.filter(regex=\"team1_|game|year\")\n",
    "\n",
    "# Team 1 is winning team\n",
    "df_team1['winner'] = 1\n",
    "\n",
    "# Get team 2's columns\n",
    "df_team2 = df3.filter(regex=\"team2_|game|year\")\n",
    "\n",
    "# Team 2 is losing team\n",
    "df_team2['winner'] = 0\n",
    "\n",
    "# Dynamically rename fields\n",
    "new_prefix = \"\"\n",
    "\n",
    "def updateColNames(df, old_prefix, new_prefix):\n",
    "    df.columns = [col.replace(old_prefix, new_prefix) for col in df.columns]\n",
    "    return df\n",
    "    \n",
    "df_team1 = updateColNames(df_team1, \"team1_\", new_prefix)\n",
    "df_team2 = updateColNames(df_team2, \"team2_\", new_prefix)\n",
    "\n",
    "# Append dataframes\n",
    "df_ncaa = pd.concat([df_team1, df_team2], axis=0)\n",
    "\n",
    "# Sort on game_id\n",
    "df_ncaa = df_ncaa.sort_values(by='game_id', ascending=True)\n",
    "\n",
    "# Preview data\n",
    "df_ncaa"
   ],
   "metadata": {
    "collapsed": false,
    "ExecuteTime": {
     "end_time": "2024-03-21T04:22:12.783173Z",
     "start_time": "2024-03-21T04:22:12.746002Z"
    }
   },
   "id": "11cfbd0ffa468f7b"
  },
  {
   "cell_type": "code",
   "execution_count": 7,
   "outputs": [
    {
     "data": {
      "text/plain": "        id  seed       teamname  year           coach_id  pt_team_season_wins  \\\n0     1104     2        Alabama  2002   mark-gottfried-1                 26.0   \n0     1194    15    FL Atlantic  2002     sidney-green-1                 19.0   \n1     1112     3        Arizona  2002       lute-olson-1                 22.0   \n1     1364    14  Santa Barbara  2002     bob-williams-1                 20.0   \n2     1112     3        Arizona  2002       lute-olson-1                 22.0   \n...    ...   ...            ...   ...                ...                  ...   \n3655  1463    13           Yale  2024      james-jones-3                 22.0   \n3656  1447    16         Wagner  2024  donald-copeland-1                 16.0   \n3656  1463    13           Yale  2024      james-jones-3                 22.0   \n3657  1463    13           Yale  2024      james-jones-3                 22.0   \n3657  1458     5      Wisconsin  2024        greg-gard-1                 22.0   \n\n      pt_team_season_losses  ap_preseason  coaches_preseason     fg2pct  ...  \\\n0                         7          24.0                NaN  50.657900  ...   \n0                        11           NaN                NaN  45.035500  ...   \n1                         9           NaN                NaN  50.000000  ...   \n1                        10           NaN                NaN  47.041400  ...   \n2                         9           NaN                NaN  50.000000  ...   \n...                     ...           ...                ...        ...  ...   \n3655                      9           NaN                NaN  52.508961  ...   \n3656                     15           NaN                NaN  42.815249  ...   \n3656                      9           NaN                NaN  52.508961  ...   \n3657                      9           NaN                NaN  52.508961  ...   \n3657                     13           NaN                NaN  52.570990  ...   \n\n         adjde         game_id  seed_diff      dist_km   exp_win      log5  \\\n0      93.8770  2002-1104-1194         13   971.569051  0.878465  0.911780   \n0      99.9263  2002-1104-1194        -13  1055.792866  0.411542  0.088220   \n1      96.9262  2002-1112-1364         11   513.706780  0.900485  0.789333   \n1      97.6704  2002-1112-1364        -11  1213.507998  0.707177  0.210667   \n2      96.9262  2002-1112-1461          8   513.706780  0.900485  0.757288   \n...        ...             ...        ...          ...       ...       ...   \n3655  101.3520  2024-1463-1443          2  3548.049582  0.736442  0.665723   \n3656  105.8780  2024-1463-1447         -3  3448.521613  0.240075  0.101577   \n3656  101.3520  2024-1463-1447          3  3548.049582  0.736442  0.898423   \n3657  101.3520  2024-1463-1458         -8  3548.049582  0.736442  0.242847   \n3657   99.4602  2024-1463-1458          8  2245.874077  0.897034  0.757153   \n\n      shooting_%  opp_shooting%  tempo_diff  winner  \n0      44.590490      42.342928   -1.346726       1  \n0      43.104531      44.851876   -0.002226       0  \n1      47.658492      45.038889    5.316503       1  \n1      48.737690      42.009215   -2.709397       0  \n2      47.658492      45.038889   -0.535997       1  \n...          ...            ...         ...     ...  \n3655   46.585738      45.551680   -7.563783       1  \n3656   41.879586      43.165044    2.492626       0  \n3656   46.585738      45.551680    5.762226       1  \n3657   46.585738      45.551680    2.020165       1  \n3657   47.570669      47.442297    2.651365       0  \n\n[7316 rows x 35 columns]",
      "text/html": "<div>\n<style scoped>\n    .dataframe tbody tr th:only-of-type {\n        vertical-align: middle;\n    }\n\n    .dataframe tbody tr th {\n        vertical-align: top;\n    }\n\n    .dataframe thead th {\n        text-align: right;\n    }\n</style>\n<table border=\"1\" class=\"dataframe\">\n  <thead>\n    <tr style=\"text-align: right;\">\n      <th></th>\n      <th>id</th>\n      <th>seed</th>\n      <th>teamname</th>\n      <th>year</th>\n      <th>coach_id</th>\n      <th>pt_team_season_wins</th>\n      <th>pt_team_season_losses</th>\n      <th>ap_preseason</th>\n      <th>coaches_preseason</th>\n      <th>fg2pct</th>\n      <th>...</th>\n      <th>adjde</th>\n      <th>game_id</th>\n      <th>seed_diff</th>\n      <th>dist_km</th>\n      <th>exp_win</th>\n      <th>log5</th>\n      <th>shooting_%</th>\n      <th>opp_shooting%</th>\n      <th>tempo_diff</th>\n      <th>winner</th>\n    </tr>\n  </thead>\n  <tbody>\n    <tr>\n      <th>0</th>\n      <td>1104</td>\n      <td>2</td>\n      <td>Alabama</td>\n      <td>2002</td>\n      <td>mark-gottfried-1</td>\n      <td>26.0</td>\n      <td>7</td>\n      <td>24.0</td>\n      <td>NaN</td>\n      <td>50.657900</td>\n      <td>...</td>\n      <td>93.8770</td>\n      <td>2002-1104-1194</td>\n      <td>13</td>\n      <td>971.569051</td>\n      <td>0.878465</td>\n      <td>0.911780</td>\n      <td>44.590490</td>\n      <td>42.342928</td>\n      <td>-1.346726</td>\n      <td>1</td>\n    </tr>\n    <tr>\n      <th>0</th>\n      <td>1194</td>\n      <td>15</td>\n      <td>FL Atlantic</td>\n      <td>2002</td>\n      <td>sidney-green-1</td>\n      <td>19.0</td>\n      <td>11</td>\n      <td>NaN</td>\n      <td>NaN</td>\n      <td>45.035500</td>\n      <td>...</td>\n      <td>99.9263</td>\n      <td>2002-1104-1194</td>\n      <td>-13</td>\n      <td>1055.792866</td>\n      <td>0.411542</td>\n      <td>0.088220</td>\n      <td>43.104531</td>\n      <td>44.851876</td>\n      <td>-0.002226</td>\n      <td>0</td>\n    </tr>\n    <tr>\n      <th>1</th>\n      <td>1112</td>\n      <td>3</td>\n      <td>Arizona</td>\n      <td>2002</td>\n      <td>lute-olson-1</td>\n      <td>22.0</td>\n      <td>9</td>\n      <td>NaN</td>\n      <td>NaN</td>\n      <td>50.000000</td>\n      <td>...</td>\n      <td>96.9262</td>\n      <td>2002-1112-1364</td>\n      <td>11</td>\n      <td>513.706780</td>\n      <td>0.900485</td>\n      <td>0.789333</td>\n      <td>47.658492</td>\n      <td>45.038889</td>\n      <td>5.316503</td>\n      <td>1</td>\n    </tr>\n    <tr>\n      <th>1</th>\n      <td>1364</td>\n      <td>14</td>\n      <td>Santa Barbara</td>\n      <td>2002</td>\n      <td>bob-williams-1</td>\n      <td>20.0</td>\n      <td>10</td>\n      <td>NaN</td>\n      <td>NaN</td>\n      <td>47.041400</td>\n      <td>...</td>\n      <td>97.6704</td>\n      <td>2002-1112-1364</td>\n      <td>-11</td>\n      <td>1213.507998</td>\n      <td>0.707177</td>\n      <td>0.210667</td>\n      <td>48.737690</td>\n      <td>42.009215</td>\n      <td>-2.709397</td>\n      <td>0</td>\n    </tr>\n    <tr>\n      <th>2</th>\n      <td>1112</td>\n      <td>3</td>\n      <td>Arizona</td>\n      <td>2002</td>\n      <td>lute-olson-1</td>\n      <td>22.0</td>\n      <td>9</td>\n      <td>NaN</td>\n      <td>NaN</td>\n      <td>50.000000</td>\n      <td>...</td>\n      <td>96.9262</td>\n      <td>2002-1112-1461</td>\n      <td>8</td>\n      <td>513.706780</td>\n      <td>0.900485</td>\n      <td>0.757288</td>\n      <td>47.658492</td>\n      <td>45.038889</td>\n      <td>-0.535997</td>\n      <td>1</td>\n    </tr>\n    <tr>\n      <th>...</th>\n      <td>...</td>\n      <td>...</td>\n      <td>...</td>\n      <td>...</td>\n      <td>...</td>\n      <td>...</td>\n      <td>...</td>\n      <td>...</td>\n      <td>...</td>\n      <td>...</td>\n      <td>...</td>\n      <td>...</td>\n      <td>...</td>\n      <td>...</td>\n      <td>...</td>\n      <td>...</td>\n      <td>...</td>\n      <td>...</td>\n      <td>...</td>\n      <td>...</td>\n      <td>...</td>\n    </tr>\n    <tr>\n      <th>3655</th>\n      <td>1463</td>\n      <td>13</td>\n      <td>Yale</td>\n      <td>2024</td>\n      <td>james-jones-3</td>\n      <td>22.0</td>\n      <td>9</td>\n      <td>NaN</td>\n      <td>NaN</td>\n      <td>52.508961</td>\n      <td>...</td>\n      <td>101.3520</td>\n      <td>2024-1463-1443</td>\n      <td>2</td>\n      <td>3548.049582</td>\n      <td>0.736442</td>\n      <td>0.665723</td>\n      <td>46.585738</td>\n      <td>45.551680</td>\n      <td>-7.563783</td>\n      <td>1</td>\n    </tr>\n    <tr>\n      <th>3656</th>\n      <td>1447</td>\n      <td>16</td>\n      <td>Wagner</td>\n      <td>2024</td>\n      <td>donald-copeland-1</td>\n      <td>16.0</td>\n      <td>15</td>\n      <td>NaN</td>\n      <td>NaN</td>\n      <td>42.815249</td>\n      <td>...</td>\n      <td>105.8780</td>\n      <td>2024-1463-1447</td>\n      <td>-3</td>\n      <td>3448.521613</td>\n      <td>0.240075</td>\n      <td>0.101577</td>\n      <td>41.879586</td>\n      <td>43.165044</td>\n      <td>2.492626</td>\n      <td>0</td>\n    </tr>\n    <tr>\n      <th>3656</th>\n      <td>1463</td>\n      <td>13</td>\n      <td>Yale</td>\n      <td>2024</td>\n      <td>james-jones-3</td>\n      <td>22.0</td>\n      <td>9</td>\n      <td>NaN</td>\n      <td>NaN</td>\n      <td>52.508961</td>\n      <td>...</td>\n      <td>101.3520</td>\n      <td>2024-1463-1447</td>\n      <td>3</td>\n      <td>3548.049582</td>\n      <td>0.736442</td>\n      <td>0.898423</td>\n      <td>46.585738</td>\n      <td>45.551680</td>\n      <td>5.762226</td>\n      <td>1</td>\n    </tr>\n    <tr>\n      <th>3657</th>\n      <td>1463</td>\n      <td>13</td>\n      <td>Yale</td>\n      <td>2024</td>\n      <td>james-jones-3</td>\n      <td>22.0</td>\n      <td>9</td>\n      <td>NaN</td>\n      <td>NaN</td>\n      <td>52.508961</td>\n      <td>...</td>\n      <td>101.3520</td>\n      <td>2024-1463-1458</td>\n      <td>-8</td>\n      <td>3548.049582</td>\n      <td>0.736442</td>\n      <td>0.242847</td>\n      <td>46.585738</td>\n      <td>45.551680</td>\n      <td>2.020165</td>\n      <td>1</td>\n    </tr>\n    <tr>\n      <th>3657</th>\n      <td>1458</td>\n      <td>5</td>\n      <td>Wisconsin</td>\n      <td>2024</td>\n      <td>greg-gard-1</td>\n      <td>22.0</td>\n      <td>13</td>\n      <td>NaN</td>\n      <td>NaN</td>\n      <td>52.570990</td>\n      <td>...</td>\n      <td>99.4602</td>\n      <td>2024-1463-1458</td>\n      <td>8</td>\n      <td>2245.874077</td>\n      <td>0.897034</td>\n      <td>0.757153</td>\n      <td>47.570669</td>\n      <td>47.442297</td>\n      <td>2.651365</td>\n      <td>0</td>\n    </tr>\n  </tbody>\n</table>\n<p>7316 rows × 35 columns</p>\n</div>"
     },
     "execution_count": 7,
     "metadata": {},
     "output_type": "execute_result"
    }
   ],
   "source": [
    "# Make copy of df\n",
    "df_ncaa_1 = df_ncaa.copy()\n",
    "\n",
    "# Drop unadjusted efficiency columns\n",
    "unadjusted_eff = ['tempo', 'oe', 'de']\n",
    "df_ncaa_1 = df_ncaa_1.drop(columns=unadjusted_eff)\n",
    "\n",
    "# Drop all columns related to aggregated coach stats & irrelevant season rankings\n",
    "search_text = ['school', 'overall', 'career', 'coach_season', 'final', 'position', 'region', 'lat', 'long']\n",
    "\n",
    "# Drop columns based on each item in the search list\n",
    "for item in search_text:\n",
    "    df_ncaa_1 = df_ncaa_1.drop(columns=[col for col in df_ncaa_1.columns if item in col])\n",
    "\n",
    "# Preview df\n",
    "df_ncaa_1"
   ],
   "metadata": {
    "collapsed": false,
    "ExecuteTime": {
     "end_time": "2024-03-21T04:22:14.109471Z",
     "start_time": "2024-03-21T04:22:14.069909Z"
    }
   },
   "id": "1cfc2719bab510d3"
  },
  {
   "cell_type": "code",
   "execution_count": 8,
   "outputs": [
    {
     "data": {
      "text/plain": "        id  seed     teamname  year          coach_id  season_wins  \\\n0     1104     2      Alabama  2002  mark-gottfried-1         26.0   \n1     1104     2      Alabama  2002  mark-gottfried-1         26.0   \n2     1194    15  FL Atlantic  2002    sidney-green-1         19.0   \n3     1112     3      Arizona  2002      lute-olson-1         22.0   \n4     1112     3      Arizona  2002      lute-olson-1         22.0   \n...    ...   ...          ...   ...               ...          ...   \n7311  1235     2      Iowa St  2024  tj-otzelberger-1         27.0   \n7312  1235     2      Iowa St  2024  tj-otzelberger-1         27.0   \n7313  1235     2      Iowa St  2024  tj-otzelberger-1         27.0   \n7314  1235     2      Iowa St  2024  tj-otzelberger-1         27.0   \n7315  1235     2      Iowa St  2024  tj-otzelberger-1         27.0   \n\n      season_losses  ap_preseason  coaches_preseason     fg2pct  ...  \\\n0                 7          24.0                NaN  50.657900  ...   \n1                 7          24.0                NaN  50.657900  ...   \n2                11           NaN                NaN  45.035500  ...   \n3                 9           NaN                NaN  50.000000  ...   \n4                 9           NaN                NaN  50.000000  ...   \n...             ...           ...                ...        ...  ...   \n7311              7           NaN                NaN  51.734317  ...   \n7312              7           NaN                NaN  51.734317  ...   \n7313              7           NaN                NaN  51.734317  ...   \n7314              7           NaN                NaN  51.734317  ...   \n7315              7           NaN                NaN  51.734317  ...   \n\n          log5  shooting_%  opp_shooting%  tempo_diff  winner  \\\n0     0.911780   44.590490      42.342928   -1.346726       1   \n1     0.514803   44.590490      42.342928    3.732233       0   \n2     0.088220   43.104531      44.851876   -0.002226       0   \n3     0.789333   47.658492      45.038889    5.316503       1   \n4     0.757288   47.658492      45.038889   -0.535997       1   \n...        ...         ...            ...         ...     ...   \n7311  0.939158   46.289538      43.277478   -7.894046       1   \n7312  0.985623   46.289538      43.277478    6.013826       1   \n7313  0.786046   46.289538      43.277478    2.441970       1   \n7314  0.713136   46.289538      43.277478    2.108373       1   \n7315  0.885725   46.289538      43.277478    2.740326       1   \n\n      coach_overall_ncaa  coach_overall_s16  coach_overall_ff  \\\n0                    2.0                0.0               0.0   \n1                    2.0                0.0               0.0   \n2                    0.0                0.0               0.0   \n3                   22.0               10.0               5.0   \n4                   22.0               10.0               5.0   \n...                  ...                ...               ...   \n7311                 4.0                1.0               0.0   \n7312                 4.0                1.0               0.0   \n7313                 4.0                1.0               0.0   \n7314                 4.0                1.0               0.0   \n7315                 4.0                1.0               0.0   \n\n      coach_career_overall_wins  coach_career_overall_losses  \n0                         149.0                           73  \n1                         149.0                           73  \n2                          28.0                           63  \n3                         656.0                          239  \n4                         656.0                          239  \n...                         ...                          ...  \n7311                      167.0                           97  \n7312                      167.0                           97  \n7313                      167.0                           97  \n7314                      167.0                           97  \n7315                      167.0                           97  \n\n[7316 rows x 40 columns]",
      "text/html": "<div>\n<style scoped>\n    .dataframe tbody tr th:only-of-type {\n        vertical-align: middle;\n    }\n\n    .dataframe tbody tr th {\n        vertical-align: top;\n    }\n\n    .dataframe thead th {\n        text-align: right;\n    }\n</style>\n<table border=\"1\" class=\"dataframe\">\n  <thead>\n    <tr style=\"text-align: right;\">\n      <th></th>\n      <th>id</th>\n      <th>seed</th>\n      <th>teamname</th>\n      <th>year</th>\n      <th>coach_id</th>\n      <th>season_wins</th>\n      <th>season_losses</th>\n      <th>ap_preseason</th>\n      <th>coaches_preseason</th>\n      <th>fg2pct</th>\n      <th>...</th>\n      <th>log5</th>\n      <th>shooting_%</th>\n      <th>opp_shooting%</th>\n      <th>tempo_diff</th>\n      <th>winner</th>\n      <th>coach_overall_ncaa</th>\n      <th>coach_overall_s16</th>\n      <th>coach_overall_ff</th>\n      <th>coach_career_overall_wins</th>\n      <th>coach_career_overall_losses</th>\n    </tr>\n  </thead>\n  <tbody>\n    <tr>\n      <th>0</th>\n      <td>1104</td>\n      <td>2</td>\n      <td>Alabama</td>\n      <td>2002</td>\n      <td>mark-gottfried-1</td>\n      <td>26.0</td>\n      <td>7</td>\n      <td>24.0</td>\n      <td>NaN</td>\n      <td>50.657900</td>\n      <td>...</td>\n      <td>0.911780</td>\n      <td>44.590490</td>\n      <td>42.342928</td>\n      <td>-1.346726</td>\n      <td>1</td>\n      <td>2.0</td>\n      <td>0.0</td>\n      <td>0.0</td>\n      <td>149.0</td>\n      <td>73</td>\n    </tr>\n    <tr>\n      <th>1</th>\n      <td>1104</td>\n      <td>2</td>\n      <td>Alabama</td>\n      <td>2002</td>\n      <td>mark-gottfried-1</td>\n      <td>26.0</td>\n      <td>7</td>\n      <td>24.0</td>\n      <td>NaN</td>\n      <td>50.657900</td>\n      <td>...</td>\n      <td>0.514803</td>\n      <td>44.590490</td>\n      <td>42.342928</td>\n      <td>3.732233</td>\n      <td>0</td>\n      <td>2.0</td>\n      <td>0.0</td>\n      <td>0.0</td>\n      <td>149.0</td>\n      <td>73</td>\n    </tr>\n    <tr>\n      <th>2</th>\n      <td>1194</td>\n      <td>15</td>\n      <td>FL Atlantic</td>\n      <td>2002</td>\n      <td>sidney-green-1</td>\n      <td>19.0</td>\n      <td>11</td>\n      <td>NaN</td>\n      <td>NaN</td>\n      <td>45.035500</td>\n      <td>...</td>\n      <td>0.088220</td>\n      <td>43.104531</td>\n      <td>44.851876</td>\n      <td>-0.002226</td>\n      <td>0</td>\n      <td>0.0</td>\n      <td>0.0</td>\n      <td>0.0</td>\n      <td>28.0</td>\n      <td>63</td>\n    </tr>\n    <tr>\n      <th>3</th>\n      <td>1112</td>\n      <td>3</td>\n      <td>Arizona</td>\n      <td>2002</td>\n      <td>lute-olson-1</td>\n      <td>22.0</td>\n      <td>9</td>\n      <td>NaN</td>\n      <td>NaN</td>\n      <td>50.000000</td>\n      <td>...</td>\n      <td>0.789333</td>\n      <td>47.658492</td>\n      <td>45.038889</td>\n      <td>5.316503</td>\n      <td>1</td>\n      <td>22.0</td>\n      <td>10.0</td>\n      <td>5.0</td>\n      <td>656.0</td>\n      <td>239</td>\n    </tr>\n    <tr>\n      <th>4</th>\n      <td>1112</td>\n      <td>3</td>\n      <td>Arizona</td>\n      <td>2002</td>\n      <td>lute-olson-1</td>\n      <td>22.0</td>\n      <td>9</td>\n      <td>NaN</td>\n      <td>NaN</td>\n      <td>50.000000</td>\n      <td>...</td>\n      <td>0.757288</td>\n      <td>47.658492</td>\n      <td>45.038889</td>\n      <td>-0.535997</td>\n      <td>1</td>\n      <td>22.0</td>\n      <td>10.0</td>\n      <td>5.0</td>\n      <td>656.0</td>\n      <td>239</td>\n    </tr>\n    <tr>\n      <th>...</th>\n      <td>...</td>\n      <td>...</td>\n      <td>...</td>\n      <td>...</td>\n      <td>...</td>\n      <td>...</td>\n      <td>...</td>\n      <td>...</td>\n      <td>...</td>\n      <td>...</td>\n      <td>...</td>\n      <td>...</td>\n      <td>...</td>\n      <td>...</td>\n      <td>...</td>\n      <td>...</td>\n      <td>...</td>\n      <td>...</td>\n      <td>...</td>\n      <td>...</td>\n      <td>...</td>\n    </tr>\n    <tr>\n      <th>7311</th>\n      <td>1235</td>\n      <td>2</td>\n      <td>Iowa St</td>\n      <td>2024</td>\n      <td>tj-otzelberger-1</td>\n      <td>27.0</td>\n      <td>7</td>\n      <td>NaN</td>\n      <td>NaN</td>\n      <td>51.734317</td>\n      <td>...</td>\n      <td>0.939158</td>\n      <td>46.289538</td>\n      <td>43.277478</td>\n      <td>-7.894046</td>\n      <td>1</td>\n      <td>4.0</td>\n      <td>1.0</td>\n      <td>0.0</td>\n      <td>167.0</td>\n      <td>97</td>\n    </tr>\n    <tr>\n      <th>7312</th>\n      <td>1235</td>\n      <td>2</td>\n      <td>Iowa St</td>\n      <td>2024</td>\n      <td>tj-otzelberger-1</td>\n      <td>27.0</td>\n      <td>7</td>\n      <td>NaN</td>\n      <td>NaN</td>\n      <td>51.734317</td>\n      <td>...</td>\n      <td>0.985623</td>\n      <td>46.289538</td>\n      <td>43.277478</td>\n      <td>6.013826</td>\n      <td>1</td>\n      <td>4.0</td>\n      <td>1.0</td>\n      <td>0.0</td>\n      <td>167.0</td>\n      <td>97</td>\n    </tr>\n    <tr>\n      <th>7313</th>\n      <td>1235</td>\n      <td>2</td>\n      <td>Iowa St</td>\n      <td>2024</td>\n      <td>tj-otzelberger-1</td>\n      <td>27.0</td>\n      <td>7</td>\n      <td>NaN</td>\n      <td>NaN</td>\n      <td>51.734317</td>\n      <td>...</td>\n      <td>0.786046</td>\n      <td>46.289538</td>\n      <td>43.277478</td>\n      <td>2.441970</td>\n      <td>1</td>\n      <td>4.0</td>\n      <td>1.0</td>\n      <td>0.0</td>\n      <td>167.0</td>\n      <td>97</td>\n    </tr>\n    <tr>\n      <th>7314</th>\n      <td>1235</td>\n      <td>2</td>\n      <td>Iowa St</td>\n      <td>2024</td>\n      <td>tj-otzelberger-1</td>\n      <td>27.0</td>\n      <td>7</td>\n      <td>NaN</td>\n      <td>NaN</td>\n      <td>51.734317</td>\n      <td>...</td>\n      <td>0.713136</td>\n      <td>46.289538</td>\n      <td>43.277478</td>\n      <td>2.108373</td>\n      <td>1</td>\n      <td>4.0</td>\n      <td>1.0</td>\n      <td>0.0</td>\n      <td>167.0</td>\n      <td>97</td>\n    </tr>\n    <tr>\n      <th>7315</th>\n      <td>1235</td>\n      <td>2</td>\n      <td>Iowa St</td>\n      <td>2024</td>\n      <td>tj-otzelberger-1</td>\n      <td>27.0</td>\n      <td>7</td>\n      <td>NaN</td>\n      <td>NaN</td>\n      <td>51.734317</td>\n      <td>...</td>\n      <td>0.885725</td>\n      <td>46.289538</td>\n      <td>43.277478</td>\n      <td>2.740326</td>\n      <td>1</td>\n      <td>4.0</td>\n      <td>1.0</td>\n      <td>0.0</td>\n      <td>167.0</td>\n      <td>97</td>\n    </tr>\n  </tbody>\n</table>\n<p>7316 rows × 40 columns</p>\n</div>"
     },
     "execution_count": 8,
     "metadata": {},
     "output_type": "execute_result"
    }
   ],
   "source": [
    "# Get stats for each coach by year\n",
    "df_coaches = df_ncaa.copy()\n",
    "\n",
    "# Grab relevant columns, sort data, remove duplicates\n",
    "df_coaches = df_coaches.filter(regex=\"coach_id|overall|year\")\n",
    "df_coaches = df_coaches.sort_values('coach_id')\n",
    "df_coaches = df_coaches.drop_duplicates(subset=['coach_id', 'year'], keep='first')\n",
    "\n",
    "# Make copy of df\n",
    "df_ncaa_2 = df_ncaa_1.copy()\n",
    "\n",
    "# Join datasets to get coach stats by season\n",
    "df_ncaa_2 = pd.merge(df_ncaa_2, df_coaches, on=['coach_id', 'year'], how='inner')\n",
    "\n",
    "# Rename pt_ columns\n",
    "df_ncaa_2 = updateColNames(df_ncaa_2, \"pt_team_\", new_prefix)\n",
    "df_ncaa_2 = updateColNames(df_ncaa_2, \"pt_\", \"coach_\")\n",
    "\n",
    "df_ncaa_2"
   ],
   "metadata": {
    "collapsed": false,
    "ExecuteTime": {
     "end_time": "2024-03-21T04:22:14.941648Z",
     "start_time": "2024-03-21T04:22:14.873793Z"
    }
   },
   "id": "8cafc3eb1eded2a5"
  },
  {
   "cell_type": "code",
   "execution_count": 9,
   "outputs": [
    {
     "data": {
      "text/plain": "        id  seed     teamname  year          coach_id  ap_preseason  \\\n0     1104     2      Alabama  2002  mark-gottfried-1          24.0   \n1     1104     2      Alabama  2002  mark-gottfried-1          24.0   \n2     1194    15  FL Atlantic  2002    sidney-green-1           0.0   \n3     1112     3      Arizona  2002      lute-olson-1           0.0   \n4     1112     3      Arizona  2002      lute-olson-1           0.0   \n...    ...   ...          ...   ...               ...           ...   \n7311  1235     2      Iowa St  2024  tj-otzelberger-1           0.0   \n7312  1235     2      Iowa St  2024  tj-otzelberger-1           0.0   \n7313  1235     2      Iowa St  2024  tj-otzelberger-1           0.0   \n7314  1235     2      Iowa St  2024  tj-otzelberger-1           0.0   \n7315  1235     2      Iowa St  2024  tj-otzelberger-1           0.0   \n\n      coaches_preseason     fg2pct     fg3pct      ftpct  ...   exp_win  \\\n0                   0.0  50.657900  30.867700  73.578200  ...  0.878465   \n1                   0.0  50.657900  30.867700  73.578200  ...  0.878465   \n2                   0.0  45.035500  33.911400  66.778500  ...  0.411542   \n3                   0.0  50.000000  37.609300  73.076900  ...  0.900485   \n4                   0.0  50.000000  37.609300  73.076900  ...  0.900485   \n...                 ...        ...        ...        ...  ...       ...   \n7311                0.0  51.734317  34.850863  69.680111  ...  0.955865   \n7312                0.0  51.734317  34.850863  69.680111  ...  0.955865   \n7313                0.0  51.734317  34.850863  69.680111  ...  0.955865   \n7314                0.0  51.734317  34.850863  69.680111  ...  0.955865   \n7315                0.0  51.734317  34.850863  69.680111  ...  0.955865   \n\n          log5  shooting_%  opp_shooting%  tempo_diff  winner  coach_s16_rate  \\\n0     0.911780   44.590490      42.342928   -1.346726       1        0.000000   \n1     0.514803   44.590490      42.342928    3.732233       0        0.000000   \n2     0.088220   43.104531      44.851876   -0.002226       0        0.000000   \n3     0.789333   47.658492      45.038889    5.316503       1        0.454545   \n4     0.757288   47.658492      45.038889   -0.535997       1        0.454545   \n...        ...         ...            ...         ...     ...             ...   \n7311  0.939158   46.289538      43.277478   -7.894046       1        0.250000   \n7312  0.985623   46.289538      43.277478    6.013826       1        0.250000   \n7313  0.786046   46.289538      43.277478    2.441970       1        0.250000   \n7314  0.713136   46.289538      43.277478    2.108373       1        0.250000   \n7315  0.885725   46.289538      43.277478    2.740326       1        0.250000   \n\n      coach_f4_rate  coach_career_win_%  team_season_win_%  \n0          0.000000            0.671171           0.787879  \n1          0.000000            0.671171           0.787879  \n2          0.000000            0.307692           0.633333  \n3          0.227273            0.732961           0.709677  \n4          0.227273            0.732961           0.709677  \n...             ...                 ...                ...  \n7311       0.000000            0.632576           0.794118  \n7312       0.000000            0.632576           0.794118  \n7313       0.000000            0.632576           0.794118  \n7314       0.000000            0.632576           0.794118  \n7315       0.000000            0.632576           0.794118  \n\n[7316 rows x 37 columns]",
      "text/html": "<div>\n<style scoped>\n    .dataframe tbody tr th:only-of-type {\n        vertical-align: middle;\n    }\n\n    .dataframe tbody tr th {\n        vertical-align: top;\n    }\n\n    .dataframe thead th {\n        text-align: right;\n    }\n</style>\n<table border=\"1\" class=\"dataframe\">\n  <thead>\n    <tr style=\"text-align: right;\">\n      <th></th>\n      <th>id</th>\n      <th>seed</th>\n      <th>teamname</th>\n      <th>year</th>\n      <th>coach_id</th>\n      <th>ap_preseason</th>\n      <th>coaches_preseason</th>\n      <th>fg2pct</th>\n      <th>fg3pct</th>\n      <th>ftpct</th>\n      <th>...</th>\n      <th>exp_win</th>\n      <th>log5</th>\n      <th>shooting_%</th>\n      <th>opp_shooting%</th>\n      <th>tempo_diff</th>\n      <th>winner</th>\n      <th>coach_s16_rate</th>\n      <th>coach_f4_rate</th>\n      <th>coach_career_win_%</th>\n      <th>team_season_win_%</th>\n    </tr>\n  </thead>\n  <tbody>\n    <tr>\n      <th>0</th>\n      <td>1104</td>\n      <td>2</td>\n      <td>Alabama</td>\n      <td>2002</td>\n      <td>mark-gottfried-1</td>\n      <td>24.0</td>\n      <td>0.0</td>\n      <td>50.657900</td>\n      <td>30.867700</td>\n      <td>73.578200</td>\n      <td>...</td>\n      <td>0.878465</td>\n      <td>0.911780</td>\n      <td>44.590490</td>\n      <td>42.342928</td>\n      <td>-1.346726</td>\n      <td>1</td>\n      <td>0.000000</td>\n      <td>0.000000</td>\n      <td>0.671171</td>\n      <td>0.787879</td>\n    </tr>\n    <tr>\n      <th>1</th>\n      <td>1104</td>\n      <td>2</td>\n      <td>Alabama</td>\n      <td>2002</td>\n      <td>mark-gottfried-1</td>\n      <td>24.0</td>\n      <td>0.0</td>\n      <td>50.657900</td>\n      <td>30.867700</td>\n      <td>73.578200</td>\n      <td>...</td>\n      <td>0.878465</td>\n      <td>0.514803</td>\n      <td>44.590490</td>\n      <td>42.342928</td>\n      <td>3.732233</td>\n      <td>0</td>\n      <td>0.000000</td>\n      <td>0.000000</td>\n      <td>0.671171</td>\n      <td>0.787879</td>\n    </tr>\n    <tr>\n      <th>2</th>\n      <td>1194</td>\n      <td>15</td>\n      <td>FL Atlantic</td>\n      <td>2002</td>\n      <td>sidney-green-1</td>\n      <td>0.0</td>\n      <td>0.0</td>\n      <td>45.035500</td>\n      <td>33.911400</td>\n      <td>66.778500</td>\n      <td>...</td>\n      <td>0.411542</td>\n      <td>0.088220</td>\n      <td>43.104531</td>\n      <td>44.851876</td>\n      <td>-0.002226</td>\n      <td>0</td>\n      <td>0.000000</td>\n      <td>0.000000</td>\n      <td>0.307692</td>\n      <td>0.633333</td>\n    </tr>\n    <tr>\n      <th>3</th>\n      <td>1112</td>\n      <td>3</td>\n      <td>Arizona</td>\n      <td>2002</td>\n      <td>lute-olson-1</td>\n      <td>0.0</td>\n      <td>0.0</td>\n      <td>50.000000</td>\n      <td>37.609300</td>\n      <td>73.076900</td>\n      <td>...</td>\n      <td>0.900485</td>\n      <td>0.789333</td>\n      <td>47.658492</td>\n      <td>45.038889</td>\n      <td>5.316503</td>\n      <td>1</td>\n      <td>0.454545</td>\n      <td>0.227273</td>\n      <td>0.732961</td>\n      <td>0.709677</td>\n    </tr>\n    <tr>\n      <th>4</th>\n      <td>1112</td>\n      <td>3</td>\n      <td>Arizona</td>\n      <td>2002</td>\n      <td>lute-olson-1</td>\n      <td>0.0</td>\n      <td>0.0</td>\n      <td>50.000000</td>\n      <td>37.609300</td>\n      <td>73.076900</td>\n      <td>...</td>\n      <td>0.900485</td>\n      <td>0.757288</td>\n      <td>47.658492</td>\n      <td>45.038889</td>\n      <td>-0.535997</td>\n      <td>1</td>\n      <td>0.454545</td>\n      <td>0.227273</td>\n      <td>0.732961</td>\n      <td>0.709677</td>\n    </tr>\n    <tr>\n      <th>...</th>\n      <td>...</td>\n      <td>...</td>\n      <td>...</td>\n      <td>...</td>\n      <td>...</td>\n      <td>...</td>\n      <td>...</td>\n      <td>...</td>\n      <td>...</td>\n      <td>...</td>\n      <td>...</td>\n      <td>...</td>\n      <td>...</td>\n      <td>...</td>\n      <td>...</td>\n      <td>...</td>\n      <td>...</td>\n      <td>...</td>\n      <td>...</td>\n      <td>...</td>\n      <td>...</td>\n    </tr>\n    <tr>\n      <th>7311</th>\n      <td>1235</td>\n      <td>2</td>\n      <td>Iowa St</td>\n      <td>2024</td>\n      <td>tj-otzelberger-1</td>\n      <td>0.0</td>\n      <td>0.0</td>\n      <td>51.734317</td>\n      <td>34.850863</td>\n      <td>69.680111</td>\n      <td>...</td>\n      <td>0.955865</td>\n      <td>0.939158</td>\n      <td>46.289538</td>\n      <td>43.277478</td>\n      <td>-7.894046</td>\n      <td>1</td>\n      <td>0.250000</td>\n      <td>0.000000</td>\n      <td>0.632576</td>\n      <td>0.794118</td>\n    </tr>\n    <tr>\n      <th>7312</th>\n      <td>1235</td>\n      <td>2</td>\n      <td>Iowa St</td>\n      <td>2024</td>\n      <td>tj-otzelberger-1</td>\n      <td>0.0</td>\n      <td>0.0</td>\n      <td>51.734317</td>\n      <td>34.850863</td>\n      <td>69.680111</td>\n      <td>...</td>\n      <td>0.955865</td>\n      <td>0.985623</td>\n      <td>46.289538</td>\n      <td>43.277478</td>\n      <td>6.013826</td>\n      <td>1</td>\n      <td>0.250000</td>\n      <td>0.000000</td>\n      <td>0.632576</td>\n      <td>0.794118</td>\n    </tr>\n    <tr>\n      <th>7313</th>\n      <td>1235</td>\n      <td>2</td>\n      <td>Iowa St</td>\n      <td>2024</td>\n      <td>tj-otzelberger-1</td>\n      <td>0.0</td>\n      <td>0.0</td>\n      <td>51.734317</td>\n      <td>34.850863</td>\n      <td>69.680111</td>\n      <td>...</td>\n      <td>0.955865</td>\n      <td>0.786046</td>\n      <td>46.289538</td>\n      <td>43.277478</td>\n      <td>2.441970</td>\n      <td>1</td>\n      <td>0.250000</td>\n      <td>0.000000</td>\n      <td>0.632576</td>\n      <td>0.794118</td>\n    </tr>\n    <tr>\n      <th>7314</th>\n      <td>1235</td>\n      <td>2</td>\n      <td>Iowa St</td>\n      <td>2024</td>\n      <td>tj-otzelberger-1</td>\n      <td>0.0</td>\n      <td>0.0</td>\n      <td>51.734317</td>\n      <td>34.850863</td>\n      <td>69.680111</td>\n      <td>...</td>\n      <td>0.955865</td>\n      <td>0.713136</td>\n      <td>46.289538</td>\n      <td>43.277478</td>\n      <td>2.108373</td>\n      <td>1</td>\n      <td>0.250000</td>\n      <td>0.000000</td>\n      <td>0.632576</td>\n      <td>0.794118</td>\n    </tr>\n    <tr>\n      <th>7315</th>\n      <td>1235</td>\n      <td>2</td>\n      <td>Iowa St</td>\n      <td>2024</td>\n      <td>tj-otzelberger-1</td>\n      <td>0.0</td>\n      <td>0.0</td>\n      <td>51.734317</td>\n      <td>34.850863</td>\n      <td>69.680111</td>\n      <td>...</td>\n      <td>0.955865</td>\n      <td>0.885725</td>\n      <td>46.289538</td>\n      <td>43.277478</td>\n      <td>2.740326</td>\n      <td>1</td>\n      <td>0.250000</td>\n      <td>0.000000</td>\n      <td>0.632576</td>\n      <td>0.794118</td>\n    </tr>\n  </tbody>\n</table>\n<p>7316 rows × 37 columns</p>\n</div>"
     },
     "execution_count": 9,
     "metadata": {},
     "output_type": "execute_result"
    }
   ],
   "source": [
    "# Add coach/team stats\n",
    "\n",
    "# Add coach S16/F4 rate fields\n",
    "df_ncaa_2['coach_s16_rate'] = df_ncaa_2['coach_overall_s16']/df_ncaa_2['coach_overall_ncaa']\n",
    "df_ncaa_2['coach_f4_rate'] = df_ncaa_2['coach_overall_ff']/df_ncaa_2['coach_overall_ncaa']\n",
    "\n",
    "# Calculate coach career winning %\n",
    "df_ncaa_2['coach_career_win_%'] = df_ncaa_2['coach_career_overall_wins']/(df_ncaa_2['coach_career_overall_wins'] + df_ncaa_2['coach_career_overall_losses'])\n",
    "\n",
    "# Calculate team winning %\n",
    "df_ncaa_2['team_season_win_%'] = df_ncaa_2['season_wins']/(df_ncaa_2['season_wins'] + df_ncaa_2['season_losses'])\n",
    "\n",
    "# Remove team/coach win-loss columns\n",
    "coach_team_drop = ['coach_career_overall_wins', 'coach_career_overall_losses', 'season_wins', 'season_losses', 'coach_overall_ncaa', 'coach_overall_s16', 'coach_overall_ff']\n",
    "\n",
    "df_ncaa_2 = df_ncaa_2.drop(columns=coach_team_drop)\n",
    "\n",
    "# Fill NA's due to % calculations\n",
    "df_ncaa_2 = df_ncaa_2.fillna(value=0)\n",
    "\n",
    "df_ncaa_2"
   ],
   "metadata": {
    "collapsed": false,
    "ExecuteTime": {
     "end_time": "2024-03-21T04:22:15.685895Z",
     "start_time": "2024-03-21T04:22:15.629516Z"
    }
   },
   "id": "59acf90e1cc61641"
  },
  {
   "cell_type": "code",
   "execution_count": 10,
   "outputs": [
    {
     "data": {
      "text/plain": "        id  seed       teamname  year           coach_id  ap_preseason  \\\n0     1104     2        Alabama  2002   mark-gottfried-1          24.0   \n1     1194    15    FL Atlantic  2002     sidney-green-1           0.0   \n2     1112     3        Arizona  2002       lute-olson-1           0.0   \n3     1364    14  Santa Barbara  2002     bob-williams-1           0.0   \n4     1112     3        Arizona  2002       lute-olson-1           0.0   \n...    ...   ...            ...   ...                ...           ...   \n7311  1443    15     W Kentucky  2024       steve-lutz-1           0.0   \n7312  1463    13           Yale  2024      james-jones-3           0.0   \n7313  1447    16         Wagner  2024  donald-copeland-1           0.0   \n7314  1463    13           Yale  2024      james-jones-3           0.0   \n7315  1458     5      Wisconsin  2024        greg-gard-1           0.0   \n\n      coaches_preseason     fg2pct     fg3pct      ftpct  ...  opp_shooting%  \\\n0                   0.0  50.657900  30.867700  73.578200  ...      42.342928   \n1                   0.0  45.035500  33.911400  66.778500  ...      44.851876   \n2                   0.0  50.000000  37.609300  73.076900  ...      45.038889   \n3                   0.0  47.041400  40.824700  75.811700  ...      42.009215   \n4                   0.0  50.000000  37.609300  73.076900  ...      45.038889   \n...                 ...        ...        ...        ...  ...            ...   \n7311                0.0  52.062257  34.375000  71.941272  ...      43.624359   \n7312                0.0  52.508961  34.590164  70.689655  ...      45.551680   \n7313                0.0  42.815249  31.645570  70.654628  ...      43.165044   \n7314                0.0  52.508961  34.590164  70.689655  ...      45.551680   \n7315                0.0  52.570990  34.782609  75.887574  ...      47.442297   \n\n      tempo_diff  winner  coach_s16_rate  coach_f4_rate  coach_career_win_%  \\\n0      -1.346726       1        0.000000       0.000000            0.671171   \n1      -0.002226       0        0.000000       0.000000            0.307692   \n2       5.316503       1        0.454545       0.227273            0.732961   \n3      -2.709397       0        0.000000       0.000000            0.543860   \n4      -0.535997       1        0.454545       0.227273            0.732961   \n...          ...     ...             ...            ...                 ...   \n7311    3.057917       0        0.000000       0.000000            0.669903   \n7312    5.762226       1        0.000000       0.000000            0.560284   \n7313    2.492626       0        0.000000       0.000000            0.525424   \n7314    2.020165       1        0.000000       0.000000            0.560284   \n7315    2.651365       0        0.400000       0.000000            0.636986   \n\n      team_season_win_%  ap_preseason_ranked  coaches_preseason_ranked  \\\n0              0.787879                    1                         1   \n1              0.633333                    1                         1   \n2              0.709677                    1                         1   \n3              0.666667                    1                         1   \n4              0.709677                    1                         1   \n...                 ...                  ...                       ...   \n7311           0.666667                    1                         1   \n7312           0.709677                    1                         1   \n7313           0.516129                    1                         1   \n7314           0.709677                    1                         1   \n7315           0.628571                    1                         1   \n\n      seed_tier  \n0             1  \n1             4  \n2             1  \n3             4  \n4             1  \n...         ...  \n7311          4  \n7312          4  \n7313          4  \n7314          4  \n7315          2  \n\n[7316 rows x 40 columns]",
      "text/html": "<div>\n<style scoped>\n    .dataframe tbody tr th:only-of-type {\n        vertical-align: middle;\n    }\n\n    .dataframe tbody tr th {\n        vertical-align: top;\n    }\n\n    .dataframe thead th {\n        text-align: right;\n    }\n</style>\n<table border=\"1\" class=\"dataframe\">\n  <thead>\n    <tr style=\"text-align: right;\">\n      <th></th>\n      <th>id</th>\n      <th>seed</th>\n      <th>teamname</th>\n      <th>year</th>\n      <th>coach_id</th>\n      <th>ap_preseason</th>\n      <th>coaches_preseason</th>\n      <th>fg2pct</th>\n      <th>fg3pct</th>\n      <th>ftpct</th>\n      <th>...</th>\n      <th>opp_shooting%</th>\n      <th>tempo_diff</th>\n      <th>winner</th>\n      <th>coach_s16_rate</th>\n      <th>coach_f4_rate</th>\n      <th>coach_career_win_%</th>\n      <th>team_season_win_%</th>\n      <th>ap_preseason_ranked</th>\n      <th>coaches_preseason_ranked</th>\n      <th>seed_tier</th>\n    </tr>\n  </thead>\n  <tbody>\n    <tr>\n      <th>0</th>\n      <td>1104</td>\n      <td>2</td>\n      <td>Alabama</td>\n      <td>2002</td>\n      <td>mark-gottfried-1</td>\n      <td>24.0</td>\n      <td>0.0</td>\n      <td>50.657900</td>\n      <td>30.867700</td>\n      <td>73.578200</td>\n      <td>...</td>\n      <td>42.342928</td>\n      <td>-1.346726</td>\n      <td>1</td>\n      <td>0.000000</td>\n      <td>0.000000</td>\n      <td>0.671171</td>\n      <td>0.787879</td>\n      <td>1</td>\n      <td>1</td>\n      <td>1</td>\n    </tr>\n    <tr>\n      <th>1</th>\n      <td>1194</td>\n      <td>15</td>\n      <td>FL Atlantic</td>\n      <td>2002</td>\n      <td>sidney-green-1</td>\n      <td>0.0</td>\n      <td>0.0</td>\n      <td>45.035500</td>\n      <td>33.911400</td>\n      <td>66.778500</td>\n      <td>...</td>\n      <td>44.851876</td>\n      <td>-0.002226</td>\n      <td>0</td>\n      <td>0.000000</td>\n      <td>0.000000</td>\n      <td>0.307692</td>\n      <td>0.633333</td>\n      <td>1</td>\n      <td>1</td>\n      <td>4</td>\n    </tr>\n    <tr>\n      <th>2</th>\n      <td>1112</td>\n      <td>3</td>\n      <td>Arizona</td>\n      <td>2002</td>\n      <td>lute-olson-1</td>\n      <td>0.0</td>\n      <td>0.0</td>\n      <td>50.000000</td>\n      <td>37.609300</td>\n      <td>73.076900</td>\n      <td>...</td>\n      <td>45.038889</td>\n      <td>5.316503</td>\n      <td>1</td>\n      <td>0.454545</td>\n      <td>0.227273</td>\n      <td>0.732961</td>\n      <td>0.709677</td>\n      <td>1</td>\n      <td>1</td>\n      <td>1</td>\n    </tr>\n    <tr>\n      <th>3</th>\n      <td>1364</td>\n      <td>14</td>\n      <td>Santa Barbara</td>\n      <td>2002</td>\n      <td>bob-williams-1</td>\n      <td>0.0</td>\n      <td>0.0</td>\n      <td>47.041400</td>\n      <td>40.824700</td>\n      <td>75.811700</td>\n      <td>...</td>\n      <td>42.009215</td>\n      <td>-2.709397</td>\n      <td>0</td>\n      <td>0.000000</td>\n      <td>0.000000</td>\n      <td>0.543860</td>\n      <td>0.666667</td>\n      <td>1</td>\n      <td>1</td>\n      <td>4</td>\n    </tr>\n    <tr>\n      <th>4</th>\n      <td>1112</td>\n      <td>3</td>\n      <td>Arizona</td>\n      <td>2002</td>\n      <td>lute-olson-1</td>\n      <td>0.0</td>\n      <td>0.0</td>\n      <td>50.000000</td>\n      <td>37.609300</td>\n      <td>73.076900</td>\n      <td>...</td>\n      <td>45.038889</td>\n      <td>-0.535997</td>\n      <td>1</td>\n      <td>0.454545</td>\n      <td>0.227273</td>\n      <td>0.732961</td>\n      <td>0.709677</td>\n      <td>1</td>\n      <td>1</td>\n      <td>1</td>\n    </tr>\n    <tr>\n      <th>...</th>\n      <td>...</td>\n      <td>...</td>\n      <td>...</td>\n      <td>...</td>\n      <td>...</td>\n      <td>...</td>\n      <td>...</td>\n      <td>...</td>\n      <td>...</td>\n      <td>...</td>\n      <td>...</td>\n      <td>...</td>\n      <td>...</td>\n      <td>...</td>\n      <td>...</td>\n      <td>...</td>\n      <td>...</td>\n      <td>...</td>\n      <td>...</td>\n      <td>...</td>\n      <td>...</td>\n    </tr>\n    <tr>\n      <th>7311</th>\n      <td>1443</td>\n      <td>15</td>\n      <td>W Kentucky</td>\n      <td>2024</td>\n      <td>steve-lutz-1</td>\n      <td>0.0</td>\n      <td>0.0</td>\n      <td>52.062257</td>\n      <td>34.375000</td>\n      <td>71.941272</td>\n      <td>...</td>\n      <td>43.624359</td>\n      <td>3.057917</td>\n      <td>0</td>\n      <td>0.000000</td>\n      <td>0.000000</td>\n      <td>0.669903</td>\n      <td>0.666667</td>\n      <td>1</td>\n      <td>1</td>\n      <td>4</td>\n    </tr>\n    <tr>\n      <th>7312</th>\n      <td>1463</td>\n      <td>13</td>\n      <td>Yale</td>\n      <td>2024</td>\n      <td>james-jones-3</td>\n      <td>0.0</td>\n      <td>0.0</td>\n      <td>52.508961</td>\n      <td>34.590164</td>\n      <td>70.689655</td>\n      <td>...</td>\n      <td>45.551680</td>\n      <td>5.762226</td>\n      <td>1</td>\n      <td>0.000000</td>\n      <td>0.000000</td>\n      <td>0.560284</td>\n      <td>0.709677</td>\n      <td>1</td>\n      <td>1</td>\n      <td>4</td>\n    </tr>\n    <tr>\n      <th>7313</th>\n      <td>1447</td>\n      <td>16</td>\n      <td>Wagner</td>\n      <td>2024</td>\n      <td>donald-copeland-1</td>\n      <td>0.0</td>\n      <td>0.0</td>\n      <td>42.815249</td>\n      <td>31.645570</td>\n      <td>70.654628</td>\n      <td>...</td>\n      <td>43.165044</td>\n      <td>2.492626</td>\n      <td>0</td>\n      <td>0.000000</td>\n      <td>0.000000</td>\n      <td>0.525424</td>\n      <td>0.516129</td>\n      <td>1</td>\n      <td>1</td>\n      <td>4</td>\n    </tr>\n    <tr>\n      <th>7314</th>\n      <td>1463</td>\n      <td>13</td>\n      <td>Yale</td>\n      <td>2024</td>\n      <td>james-jones-3</td>\n      <td>0.0</td>\n      <td>0.0</td>\n      <td>52.508961</td>\n      <td>34.590164</td>\n      <td>70.689655</td>\n      <td>...</td>\n      <td>45.551680</td>\n      <td>2.020165</td>\n      <td>1</td>\n      <td>0.000000</td>\n      <td>0.000000</td>\n      <td>0.560284</td>\n      <td>0.709677</td>\n      <td>1</td>\n      <td>1</td>\n      <td>4</td>\n    </tr>\n    <tr>\n      <th>7315</th>\n      <td>1458</td>\n      <td>5</td>\n      <td>Wisconsin</td>\n      <td>2024</td>\n      <td>greg-gard-1</td>\n      <td>0.0</td>\n      <td>0.0</td>\n      <td>52.570990</td>\n      <td>34.782609</td>\n      <td>75.887574</td>\n      <td>...</td>\n      <td>47.442297</td>\n      <td>2.651365</td>\n      <td>0</td>\n      <td>0.400000</td>\n      <td>0.000000</td>\n      <td>0.636986</td>\n      <td>0.628571</td>\n      <td>1</td>\n      <td>1</td>\n      <td>2</td>\n    </tr>\n  </tbody>\n</table>\n<p>7316 rows × 40 columns</p>\n</div>"
     },
     "execution_count": 10,
     "metadata": {},
     "output_type": "execute_result"
    }
   ],
   "source": [
    "# Make copy of df\n",
    "df_ncaa_3 = df_ncaa_2.copy()\n",
    "\n",
    "# Create ranked column for AP and preseason polls\n",
    "df_ncaa_3['ap_preseason_ranked'] = df_ncaa_3['ap_preseason'].notnull().astype(int)\n",
    "df_ncaa_3['coaches_preseason_ranked'] = df_ncaa_3['coaches_preseason'].notnull().astype(int)\n",
    "\n",
    "# Define function that calculates tier for each seed\n",
    "def seed_tier(seed):\n",
    "    if 1 <= seed <= 4:\n",
    "        return 1\n",
    "    elif 5 <= seed <= 8:\n",
    "        return 2\n",
    "    elif 9 <= seed <= 12:\n",
    "        return 3\n",
    "    else:\n",
    "        return 4\n",
    "\n",
    "# Apply seed_tier function\n",
    "df_ncaa_3['seed_tier'] = df_ncaa_3.apply(lambda row: seed_tier(row['seed']), axis=1)\n",
    "df_ncaa_3['seed_tier'] = df_ncaa_3['seed_tier'].astype('category')\n",
    "\n",
    "# Sort values & reset index\n",
    "df_ncaa_3 = df_ncaa_3.sort_values(by=['game_id'], ascending=True).reset_index(drop=True)\n",
    "\n",
    "# Preview df\n",
    "df_ncaa_3"
   ],
   "metadata": {
    "collapsed": false,
    "ExecuteTime": {
     "end_time": "2024-03-21T04:22:16.537679Z",
     "start_time": "2024-03-21T04:22:16.480468Z"
    }
   },
   "id": "47a97da6282483f5"
  },
  {
   "cell_type": "code",
   "execution_count": 11,
   "outputs": [
    {
     "data": {
      "text/plain": "        id  seed  year           coach_id     fg2pct     fg3pct      ftpct  \\\n0     1104     2  2002   mark-gottfried-1  50.657900  30.867700  73.578200   \n1     1194    15  2002     sidney-green-1  45.035500  33.911400  66.778500   \n2     1112     3  2002       lute-olson-1  50.000000  37.609300  73.076900   \n3     1364    14  2002     bob-williams-1  47.041400  40.824700  75.811700   \n4     1112     3  2002       lute-olson-1  50.000000  37.609300  73.076900   \n...    ...   ...   ...                ...        ...        ...        ...   \n7311  1443    15  2024       steve-lutz-1  52.062257  34.375000  71.941272   \n7312  1463    13  2024      james-jones-3  52.508961  34.590164  70.689655   \n7313  1447    16  2024  donald-copeland-1  42.815249  31.645570  70.654628   \n7314  1463    13  2024      james-jones-3  52.508961  34.590164  70.689655   \n7315  1458     5  2024        greg-gard-1  52.570990  34.782609  75.887574   \n\n       blockpct  oppfg2pct  oppfg3pct  ...  coach_f4_rate  coach_career_win_%  \\\n0      8.046800  45.208500  31.784100  ...       0.000000            0.671171   \n1      8.187100  48.538000  34.392500  ...       0.000000            0.307692   \n2      7.251200  47.857600  34.782600  ...       0.227273            0.732961   \n3      8.718500  43.172300  32.096800  ...       0.000000            0.543860   \n4      7.251200  47.857600  34.782600  ...       0.227273            0.732961   \n...         ...        ...        ...  ...            ...                 ...   \n7311   8.504924  48.254252  32.219251  ...       0.000000            0.669903   \n7312  10.000000  48.750000  33.973412  ...       0.000000            0.560284   \n7313   7.072905  50.924918  29.813665  ...       0.000000            0.525424   \n7314  10.000000  48.750000  33.973412  ...       0.000000            0.560284   \n7315   4.480000  50.400000  37.099237  ...       0.000000            0.636986   \n\n      team_season_win_%  ap_preseason_ranked  coaches_preseason_ranked  \\\n0              0.787879                    1                         1   \n1              0.633333                    1                         1   \n2              0.709677                    1                         1   \n3              0.666667                    1                         1   \n4              0.709677                    1                         1   \n...                 ...                  ...                       ...   \n7311           0.666667                    1                         1   \n7312           0.709677                    1                         1   \n7313           0.516129                    1                         1   \n7314           0.709677                    1                         1   \n7315           0.628571                    1                         1   \n\n      seed_tier  Power 6  Num_AA  rd1_odds              team  \n0             1      1.0     1.0    2500.0           Alabama  \n1             4      0.0     0.0  500000.0               FAU  \n2             1      1.0     1.0    1500.0           Arizona  \n3             4      0.0     0.0  100000.0  UC Santa Barbara  \n4             1      1.0     1.0    1500.0           Arizona  \n...         ...      ...     ...       ...               ...  \n7311          4      0.0     0.0   40000.0  Western Kentucky  \n7312          4      0.0     0.0   35000.0              Yale  \n7313          4      0.0     0.0   50000.0            Wagner  \n7314          4      0.0     0.0   35000.0              Yale  \n7315          2      1.0     0.0    5500.0         Wisconsin  \n\n[7316 rows x 41 columns]",
      "text/html": "<div>\n<style scoped>\n    .dataframe tbody tr th:only-of-type {\n        vertical-align: middle;\n    }\n\n    .dataframe tbody tr th {\n        vertical-align: top;\n    }\n\n    .dataframe thead th {\n        text-align: right;\n    }\n</style>\n<table border=\"1\" class=\"dataframe\">\n  <thead>\n    <tr style=\"text-align: right;\">\n      <th></th>\n      <th>id</th>\n      <th>seed</th>\n      <th>year</th>\n      <th>coach_id</th>\n      <th>fg2pct</th>\n      <th>fg3pct</th>\n      <th>ftpct</th>\n      <th>blockpct</th>\n      <th>oppfg2pct</th>\n      <th>oppfg3pct</th>\n      <th>...</th>\n      <th>coach_f4_rate</th>\n      <th>coach_career_win_%</th>\n      <th>team_season_win_%</th>\n      <th>ap_preseason_ranked</th>\n      <th>coaches_preseason_ranked</th>\n      <th>seed_tier</th>\n      <th>Power 6</th>\n      <th>Num_AA</th>\n      <th>rd1_odds</th>\n      <th>team</th>\n    </tr>\n  </thead>\n  <tbody>\n    <tr>\n      <th>0</th>\n      <td>1104</td>\n      <td>2</td>\n      <td>2002</td>\n      <td>mark-gottfried-1</td>\n      <td>50.657900</td>\n      <td>30.867700</td>\n      <td>73.578200</td>\n      <td>8.046800</td>\n      <td>45.208500</td>\n      <td>31.784100</td>\n      <td>...</td>\n      <td>0.000000</td>\n      <td>0.671171</td>\n      <td>0.787879</td>\n      <td>1</td>\n      <td>1</td>\n      <td>1</td>\n      <td>1.0</td>\n      <td>1.0</td>\n      <td>2500.0</td>\n      <td>Alabama</td>\n    </tr>\n    <tr>\n      <th>1</th>\n      <td>1194</td>\n      <td>15</td>\n      <td>2002</td>\n      <td>sidney-green-1</td>\n      <td>45.035500</td>\n      <td>33.911400</td>\n      <td>66.778500</td>\n      <td>8.187100</td>\n      <td>48.538000</td>\n      <td>34.392500</td>\n      <td>...</td>\n      <td>0.000000</td>\n      <td>0.307692</td>\n      <td>0.633333</td>\n      <td>1</td>\n      <td>1</td>\n      <td>4</td>\n      <td>0.0</td>\n      <td>0.0</td>\n      <td>500000.0</td>\n      <td>FAU</td>\n    </tr>\n    <tr>\n      <th>2</th>\n      <td>1112</td>\n      <td>3</td>\n      <td>2002</td>\n      <td>lute-olson-1</td>\n      <td>50.000000</td>\n      <td>37.609300</td>\n      <td>73.076900</td>\n      <td>7.251200</td>\n      <td>47.857600</td>\n      <td>34.782600</td>\n      <td>...</td>\n      <td>0.227273</td>\n      <td>0.732961</td>\n      <td>0.709677</td>\n      <td>1</td>\n      <td>1</td>\n      <td>1</td>\n      <td>1.0</td>\n      <td>1.0</td>\n      <td>1500.0</td>\n      <td>Arizona</td>\n    </tr>\n    <tr>\n      <th>3</th>\n      <td>1364</td>\n      <td>14</td>\n      <td>2002</td>\n      <td>bob-williams-1</td>\n      <td>47.041400</td>\n      <td>40.824700</td>\n      <td>75.811700</td>\n      <td>8.718500</td>\n      <td>43.172300</td>\n      <td>32.096800</td>\n      <td>...</td>\n      <td>0.000000</td>\n      <td>0.543860</td>\n      <td>0.666667</td>\n      <td>1</td>\n      <td>1</td>\n      <td>4</td>\n      <td>0.0</td>\n      <td>0.0</td>\n      <td>100000.0</td>\n      <td>UC Santa Barbara</td>\n    </tr>\n    <tr>\n      <th>4</th>\n      <td>1112</td>\n      <td>3</td>\n      <td>2002</td>\n      <td>lute-olson-1</td>\n      <td>50.000000</td>\n      <td>37.609300</td>\n      <td>73.076900</td>\n      <td>7.251200</td>\n      <td>47.857600</td>\n      <td>34.782600</td>\n      <td>...</td>\n      <td>0.227273</td>\n      <td>0.732961</td>\n      <td>0.709677</td>\n      <td>1</td>\n      <td>1</td>\n      <td>1</td>\n      <td>1.0</td>\n      <td>1.0</td>\n      <td>1500.0</td>\n      <td>Arizona</td>\n    </tr>\n    <tr>\n      <th>...</th>\n      <td>...</td>\n      <td>...</td>\n      <td>...</td>\n      <td>...</td>\n      <td>...</td>\n      <td>...</td>\n      <td>...</td>\n      <td>...</td>\n      <td>...</td>\n      <td>...</td>\n      <td>...</td>\n      <td>...</td>\n      <td>...</td>\n      <td>...</td>\n      <td>...</td>\n      <td>...</td>\n      <td>...</td>\n      <td>...</td>\n      <td>...</td>\n      <td>...</td>\n      <td>...</td>\n    </tr>\n    <tr>\n      <th>7311</th>\n      <td>1443</td>\n      <td>15</td>\n      <td>2024</td>\n      <td>steve-lutz-1</td>\n      <td>52.062257</td>\n      <td>34.375000</td>\n      <td>71.941272</td>\n      <td>8.504924</td>\n      <td>48.254252</td>\n      <td>32.219251</td>\n      <td>...</td>\n      <td>0.000000</td>\n      <td>0.669903</td>\n      <td>0.666667</td>\n      <td>1</td>\n      <td>1</td>\n      <td>4</td>\n      <td>0.0</td>\n      <td>0.0</td>\n      <td>40000.0</td>\n      <td>Western Kentucky</td>\n    </tr>\n    <tr>\n      <th>7312</th>\n      <td>1463</td>\n      <td>13</td>\n      <td>2024</td>\n      <td>james-jones-3</td>\n      <td>52.508961</td>\n      <td>34.590164</td>\n      <td>70.689655</td>\n      <td>10.000000</td>\n      <td>48.750000</td>\n      <td>33.973412</td>\n      <td>...</td>\n      <td>0.000000</td>\n      <td>0.560284</td>\n      <td>0.709677</td>\n      <td>1</td>\n      <td>1</td>\n      <td>4</td>\n      <td>0.0</td>\n      <td>0.0</td>\n      <td>35000.0</td>\n      <td>Yale</td>\n    </tr>\n    <tr>\n      <th>7313</th>\n      <td>1447</td>\n      <td>16</td>\n      <td>2024</td>\n      <td>donald-copeland-1</td>\n      <td>42.815249</td>\n      <td>31.645570</td>\n      <td>70.654628</td>\n      <td>7.072905</td>\n      <td>50.924918</td>\n      <td>29.813665</td>\n      <td>...</td>\n      <td>0.000000</td>\n      <td>0.525424</td>\n      <td>0.516129</td>\n      <td>1</td>\n      <td>1</td>\n      <td>4</td>\n      <td>0.0</td>\n      <td>0.0</td>\n      <td>50000.0</td>\n      <td>Wagner</td>\n    </tr>\n    <tr>\n      <th>7314</th>\n      <td>1463</td>\n      <td>13</td>\n      <td>2024</td>\n      <td>james-jones-3</td>\n      <td>52.508961</td>\n      <td>34.590164</td>\n      <td>70.689655</td>\n      <td>10.000000</td>\n      <td>48.750000</td>\n      <td>33.973412</td>\n      <td>...</td>\n      <td>0.000000</td>\n      <td>0.560284</td>\n      <td>0.709677</td>\n      <td>1</td>\n      <td>1</td>\n      <td>4</td>\n      <td>0.0</td>\n      <td>0.0</td>\n      <td>35000.0</td>\n      <td>Yale</td>\n    </tr>\n    <tr>\n      <th>7315</th>\n      <td>1458</td>\n      <td>5</td>\n      <td>2024</td>\n      <td>greg-gard-1</td>\n      <td>52.570990</td>\n      <td>34.782609</td>\n      <td>75.887574</td>\n      <td>4.480000</td>\n      <td>50.400000</td>\n      <td>37.099237</td>\n      <td>...</td>\n      <td>0.000000</td>\n      <td>0.636986</td>\n      <td>0.628571</td>\n      <td>1</td>\n      <td>1</td>\n      <td>2</td>\n      <td>1.0</td>\n      <td>0.0</td>\n      <td>5500.0</td>\n      <td>Wisconsin</td>\n    </tr>\n  </tbody>\n</table>\n<p>7316 rows × 41 columns</p>\n</div>"
     },
     "execution_count": 11,
     "metadata": {},
     "output_type": "execute_result"
    }
   ],
   "source": [
    "# Import supplemental data\n",
    "xl = 'MDCM Supplemental Data_3.19.24.xlsx'\n",
    "df_odds = pd.read_excel(xl)\n",
    "\n",
    "# Make copy of df\n",
    "df_ncaa_4 = df_ncaa_3.copy()\n",
    "\n",
    "# Merge tables to get Power 6 column\n",
    "df_ncaa_4 = pd.merge(df_ncaa_4, df_odds, on=['id', 'year'], how='left')\n",
    "\n",
    "# Fill na's with 0 for Power 6 column\n",
    "df_ncaa_4['Power 6'] = df_ncaa_4['Power 6'].fillna(value=0)\n",
    "\n",
    "# Create copy of df\n",
    "df_median_odds = df_odds[['year', 'rd1_odds']]\n",
    "\n",
    "# Create df for median odds\n",
    "df_median_odds= df_median_odds.groupby(\"year\")['rd1_odds'].median()\n",
    "\n",
    "# Join df with median odds\n",
    "df_ncaa_4 = pd.merge(df_ncaa_4, df_median_odds, on=['year'], how='left')\n",
    "\n",
    "# Fill nulls with median\n",
    "df_ncaa_4['rd1_odds_x'] = df_ncaa_4['rd1_odds_x'].fillna(df_ncaa_4['rd1_odds_y'])\n",
    "\n",
    "# Round 1 odds\n",
    "df_ncaa_4['rd1_odds'] = df_ncaa_4['rd1_odds_x']\n",
    "\n",
    "# Teamname\n",
    "df_ncaa_4['team'] = df_ncaa_4['teamname_y'].fillna(df_ncaa_4['teamname_x'])\n",
    "\n",
    "# Fill na in num_AA with 0\n",
    "df_ncaa_4['Num_AA'] = df_ncaa_4['Num_AA'].fillna(value=0)\n",
    "\n",
    "# Create dict of teams that changed names\n",
    "team_mapping = {\n",
    "    'American Univ': 'American',\n",
    "    'Boise St': 'Boise St.',\n",
    "    'Colorado St': 'Colorado St.',\n",
    "    'Connecticut': 'UConn',\n",
    "    'Coastal Car': 'Coastal Carolina',\n",
    "    'E Kentucky': 'Eastern Kentucky',\n",
    "    'East Tennessee St.': 'ETSU',\n",
    "    'East Tennessee St': 'ETSU',\n",
    "    'Florida Atlantic': 'FAU',\n",
    "    'Long Beach St': 'Long Beach St.',\n",
    "    'Middle Tennessee St.': 'MTSU',\n",
    "    'Middle Tennessee St': 'MTSU',\n",
    "    'Louisiana': 'ULL',\n",
    "    'Miami, Ohio': 'Miami (OH)',\n",
    "    'Morgan St': 'Morgan St.',\n",
    "    'Northwestern St.': 'Northwestern LA',\n",
    "    'Northwestern St': 'Northwestern LA',\n",
    "    'MS Valley St.': 'Mississippi Valley St.',\n",
    "    'MS Valley St': 'Mississippi Valley St.',\n",
    "    \"Mt St Mary's\": \"Mount St. Mary's\",\n",
    "    \"Mt St. Mary's\": \"Mount St. Mary's\",\n",
    "    \"Mount St Mary's\": \"Mount St. Mary's\",\n",
    "    \"Mount St. Mary's\": \"Mount St. Mary's\",\n",
    "    'Murray St': 'Murray St.',\n",
    "    'NC Wilmington': 'UNC Wilmington',\n",
    "    'New Mexico St': 'New Mexico St.',\n",
    "    'S Dakota St.': 'South Dakota St.',\n",
    "    'S Dakota St': 'South Dakota St.',\n",
    "    'South Dakota St': 'South Dakota St.',\n",
    "    'San Diego St': 'San Diego St.',\n",
    "    'Southern Univ': 'Southern',\n",
    "    'Sam Houston': 'Sam Houston St.',\n",
    "    'Sam Houston St': 'Sam Houston St.',\n",
    "    'SF Austin': 'Stephen F. Austin',\n",
    "    'Stephen F Austin': 'Stephen F. Austin',\n",
    "    'W Kentucky': 'Western Kentucky',\n",
    "    'W Michigan': 'Western Michigan',\n",
    "    'WI Milwaukee': 'Milwaukee',\n",
    "    'Albany NY': 'Albany',\n",
    "    'Utah St': 'Utah St.',\n",
    "    'Weber St': 'Weber St.',\n",
    "    'U Mass': 'UMass',\n",
    "    \"St Mary's CA\": \"Saint Mary's (CA)\",\n",
    "    'Alcorn St': 'Alcorn St.',\n",
    "    'TX Southern': 'Texas Southern'\n",
    "}\n",
    "\n",
    "# Replace values in the 'Team' column\n",
    "df_ncaa_4['team'] = df_ncaa_4['team'].replace(team_mapping)\n",
    "\n",
    "# Drop columns\n",
    "df_ncaa_4 = df_ncaa_4.drop(columns=['RecordID', 'ap_preseason', 'coaches_preseason', 'rd1_odds_x', 'rd1_odds_y', 'teamname_x', 'teamname_y'])\n",
    "\n",
    "# Preview df\n",
    "df_ncaa_4"
   ],
   "metadata": {
    "collapsed": false,
    "ExecuteTime": {
     "end_time": "2024-03-21T04:22:18.003031Z",
     "start_time": "2024-03-21T04:22:17.498004Z"
    }
   },
   "id": "f893b3be0dffa0e9"
  },
  {
   "cell_type": "code",
   "execution_count": 12,
   "outputs": [],
   "source": [
    "# Make copy of df\n",
    "df_ncaa_5 = df_ncaa_4.copy()\n",
    "\n",
    "# Get list of categorical variables and convert data type\n",
    "cvar_list = ['game_id', 'id', 'year', 'seed', 'team', 'coach_id', 'winner', 'ap_preseason_ranked', 'coaches_preseason_ranked', 'seed_tier', 'Power 6']\n",
    "df_ncaa_5[cvar_list] = df_ncaa_5[cvar_list].astype('category')\n",
    "\n",
    "# Numerical variables are columns not in cvar_list; convert to float\n",
    "nvar_list = [col for col in df_ncaa_5.columns if col not in cvar_list]\n",
    "df_ncaa_5[nvar_list] = df_ncaa_5[nvar_list].astype('float64')\n",
    "\n",
    "# Replace inf values with 0\n",
    "df_ncaa_5[nvar_list] = df_ncaa_5[nvar_list].replace([np.inf, -np.inf], 0)"
   ],
   "metadata": {
    "collapsed": false,
    "ExecuteTime": {
     "end_time": "2024-03-21T04:22:18.850603Z",
     "start_time": "2024-03-21T04:22:18.827992Z"
    }
   },
   "id": "bb005db91cdb8918"
  },
  {
   "cell_type": "code",
   "execution_count": 13,
   "outputs": [
    {
     "data": {
      "text/plain": "         fg2pct     fg3pct      ftpct   blockpct  oppfg2pct  oppfg3pct  \\\n0     50.657900  30.867700  73.578200   8.046800  45.208500  31.784100   \n1     45.035500  33.911400  66.778500   8.187100  48.538000  34.392500   \n2     50.000000  37.609300  73.076900   7.251200  47.857600  34.782600   \n3     47.041400  40.824700  75.811700   8.718500  43.172300  32.096800   \n4     50.000000  37.609300  73.076900   7.251200  47.857600  34.782600   \n...         ...        ...        ...        ...        ...        ...   \n2755  51.396648  38.836478  69.306931  10.165485  49.093775  30.534351   \n2756  53.959355  39.538462  71.406250   7.848837  48.691860  35.854342   \n2757  51.282051  37.087087  66.302652   7.839388  50.478011  34.808260   \n2758  53.959355  39.538462  71.406250   7.848837  48.691860  35.854342   \n2759  52.661064  35.976331  76.129032  11.472603  48.544521  33.463542   \n\n       oppftpct  oppblockpct    f3grate  oppf3grate  ...  team_season_win_%  \\\n0     68.242200     7.163700  33.945000   32.792500  ...           0.787879   \n1     68.817200     9.929100  26.905100   30.889100  ...           0.633333   \n2     70.125800     8.493400  33.627500   31.973100  ...           0.709677   \n3     69.367900     6.706100  32.354900   39.440200  ...           0.666667   \n4     70.125800     8.493400  33.627500   31.973100  ...           0.709677   \n...         ...          ...        ...         ...  ...                ...   \n2755  71.844660    11.173184  37.192982   34.043659  ...           0.794118   \n2756  72.438163     9.390329  31.295137   34.162679  ...           0.735294   \n2757  69.230769     8.424908  37.883959   39.327146  ...           0.764706   \n2758  72.438163     9.390329  31.295137   34.162679  ...           0.735294   \n2759  70.994941    10.084034  44.102296   39.669421  ...           0.666667   \n\n      Num_AA  rd1_odds  winner_1  ap_preseason_ranked_1  \\\n0        1.0    2500.0         1                      1   \n1        0.0  500000.0         0                      1   \n2        1.0    1500.0         1                      1   \n3        0.0  100000.0         0                      1   \n4        1.0    1500.0         1                      1   \n...      ...       ...       ...                    ...   \n2755     0.0  100000.0         0                      1   \n2756     0.0    5000.0         1                      1   \n2757     0.0  100000.0         0                      1   \n2758     0.0    5000.0         1                      1   \n2759     0.0   15000.0         0                      1   \n\n      coaches_preseason_ranked_1  seed_tier_1  seed_tier_2  seed_tier_3  \\\n0                              1            1            0            0   \n1                              1            0            0            0   \n2                              1            1            0            0   \n3                              1            0            0            0   \n4                              1            1            0            0   \n...                          ...          ...          ...          ...   \n2755                           1            0            0            0   \n2756                           1            1            0            0   \n2757                           1            0            0            0   \n2758                           1            1            0            0   \n2759                           1            0            0            1   \n\n      Power 6_1.0  \n0               1  \n1               0  \n2               1  \n3               0  \n4               1  \n...           ...  \n2755            0  \n2756            1  \n2757            0  \n2758            1  \n2759            1  \n\n[2626 rows x 37 columns]",
      "text/html": "<div>\n<style scoped>\n    .dataframe tbody tr th:only-of-type {\n        vertical-align: middle;\n    }\n\n    .dataframe tbody tr th {\n        vertical-align: top;\n    }\n\n    .dataframe thead th {\n        text-align: right;\n    }\n</style>\n<table border=\"1\" class=\"dataframe\">\n  <thead>\n    <tr style=\"text-align: right;\">\n      <th></th>\n      <th>fg2pct</th>\n      <th>fg3pct</th>\n      <th>ftpct</th>\n      <th>blockpct</th>\n      <th>oppfg2pct</th>\n      <th>oppfg3pct</th>\n      <th>oppftpct</th>\n      <th>oppblockpct</th>\n      <th>f3grate</th>\n      <th>oppf3grate</th>\n      <th>...</th>\n      <th>team_season_win_%</th>\n      <th>Num_AA</th>\n      <th>rd1_odds</th>\n      <th>winner_1</th>\n      <th>ap_preseason_ranked_1</th>\n      <th>coaches_preseason_ranked_1</th>\n      <th>seed_tier_1</th>\n      <th>seed_tier_2</th>\n      <th>seed_tier_3</th>\n      <th>Power 6_1.0</th>\n    </tr>\n  </thead>\n  <tbody>\n    <tr>\n      <th>0</th>\n      <td>50.657900</td>\n      <td>30.867700</td>\n      <td>73.578200</td>\n      <td>8.046800</td>\n      <td>45.208500</td>\n      <td>31.784100</td>\n      <td>68.242200</td>\n      <td>7.163700</td>\n      <td>33.945000</td>\n      <td>32.792500</td>\n      <td>...</td>\n      <td>0.787879</td>\n      <td>1.0</td>\n      <td>2500.0</td>\n      <td>1</td>\n      <td>1</td>\n      <td>1</td>\n      <td>1</td>\n      <td>0</td>\n      <td>0</td>\n      <td>1</td>\n    </tr>\n    <tr>\n      <th>1</th>\n      <td>45.035500</td>\n      <td>33.911400</td>\n      <td>66.778500</td>\n      <td>8.187100</td>\n      <td>48.538000</td>\n      <td>34.392500</td>\n      <td>68.817200</td>\n      <td>9.929100</td>\n      <td>26.905100</td>\n      <td>30.889100</td>\n      <td>...</td>\n      <td>0.633333</td>\n      <td>0.0</td>\n      <td>500000.0</td>\n      <td>0</td>\n      <td>1</td>\n      <td>1</td>\n      <td>0</td>\n      <td>0</td>\n      <td>0</td>\n      <td>0</td>\n    </tr>\n    <tr>\n      <th>2</th>\n      <td>50.000000</td>\n      <td>37.609300</td>\n      <td>73.076900</td>\n      <td>7.251200</td>\n      <td>47.857600</td>\n      <td>34.782600</td>\n      <td>70.125800</td>\n      <td>8.493400</td>\n      <td>33.627500</td>\n      <td>31.973100</td>\n      <td>...</td>\n      <td>0.709677</td>\n      <td>1.0</td>\n      <td>1500.0</td>\n      <td>1</td>\n      <td>1</td>\n      <td>1</td>\n      <td>1</td>\n      <td>0</td>\n      <td>0</td>\n      <td>1</td>\n    </tr>\n    <tr>\n      <th>3</th>\n      <td>47.041400</td>\n      <td>40.824700</td>\n      <td>75.811700</td>\n      <td>8.718500</td>\n      <td>43.172300</td>\n      <td>32.096800</td>\n      <td>69.367900</td>\n      <td>6.706100</td>\n      <td>32.354900</td>\n      <td>39.440200</td>\n      <td>...</td>\n      <td>0.666667</td>\n      <td>0.0</td>\n      <td>100000.0</td>\n      <td>0</td>\n      <td>1</td>\n      <td>1</td>\n      <td>0</td>\n      <td>0</td>\n      <td>0</td>\n      <td>0</td>\n    </tr>\n    <tr>\n      <th>4</th>\n      <td>50.000000</td>\n      <td>37.609300</td>\n      <td>73.076900</td>\n      <td>7.251200</td>\n      <td>47.857600</td>\n      <td>34.782600</td>\n      <td>70.125800</td>\n      <td>8.493400</td>\n      <td>33.627500</td>\n      <td>31.973100</td>\n      <td>...</td>\n      <td>0.709677</td>\n      <td>1.0</td>\n      <td>1500.0</td>\n      <td>1</td>\n      <td>1</td>\n      <td>1</td>\n      <td>1</td>\n      <td>0</td>\n      <td>0</td>\n      <td>1</td>\n    </tr>\n    <tr>\n      <th>...</th>\n      <td>...</td>\n      <td>...</td>\n      <td>...</td>\n      <td>...</td>\n      <td>...</td>\n      <td>...</td>\n      <td>...</td>\n      <td>...</td>\n      <td>...</td>\n      <td>...</td>\n      <td>...</td>\n      <td>...</td>\n      <td>...</td>\n      <td>...</td>\n      <td>...</td>\n      <td>...</td>\n      <td>...</td>\n      <td>...</td>\n      <td>...</td>\n      <td>...</td>\n      <td>...</td>\n    </tr>\n    <tr>\n      <th>2755</th>\n      <td>51.396648</td>\n      <td>38.836478</td>\n      <td>69.306931</td>\n      <td>10.165485</td>\n      <td>49.093775</td>\n      <td>30.534351</td>\n      <td>71.844660</td>\n      <td>11.173184</td>\n      <td>37.192982</td>\n      <td>34.043659</td>\n      <td>...</td>\n      <td>0.794118</td>\n      <td>0.0</td>\n      <td>100000.0</td>\n      <td>0</td>\n      <td>1</td>\n      <td>1</td>\n      <td>0</td>\n      <td>0</td>\n      <td>0</td>\n      <td>0</td>\n    </tr>\n    <tr>\n      <th>2756</th>\n      <td>53.959355</td>\n      <td>39.538462</td>\n      <td>71.406250</td>\n      <td>7.848837</td>\n      <td>48.691860</td>\n      <td>35.854342</td>\n      <td>72.438163</td>\n      <td>9.390329</td>\n      <td>31.295137</td>\n      <td>34.162679</td>\n      <td>...</td>\n      <td>0.735294</td>\n      <td>0.0</td>\n      <td>5000.0</td>\n      <td>1</td>\n      <td>1</td>\n      <td>1</td>\n      <td>1</td>\n      <td>0</td>\n      <td>0</td>\n      <td>1</td>\n    </tr>\n    <tr>\n      <th>2757</th>\n      <td>51.282051</td>\n      <td>37.087087</td>\n      <td>66.302652</td>\n      <td>7.839388</td>\n      <td>50.478011</td>\n      <td>34.808260</td>\n      <td>69.230769</td>\n      <td>8.424908</td>\n      <td>37.883959</td>\n      <td>39.327146</td>\n      <td>...</td>\n      <td>0.764706</td>\n      <td>0.0</td>\n      <td>100000.0</td>\n      <td>0</td>\n      <td>1</td>\n      <td>1</td>\n      <td>0</td>\n      <td>0</td>\n      <td>0</td>\n      <td>0</td>\n    </tr>\n    <tr>\n      <th>2758</th>\n      <td>53.959355</td>\n      <td>39.538462</td>\n      <td>71.406250</td>\n      <td>7.848837</td>\n      <td>48.691860</td>\n      <td>35.854342</td>\n      <td>72.438163</td>\n      <td>9.390329</td>\n      <td>31.295137</td>\n      <td>34.162679</td>\n      <td>...</td>\n      <td>0.735294</td>\n      <td>0.0</td>\n      <td>5000.0</td>\n      <td>1</td>\n      <td>1</td>\n      <td>1</td>\n      <td>1</td>\n      <td>0</td>\n      <td>0</td>\n      <td>1</td>\n    </tr>\n    <tr>\n      <th>2759</th>\n      <td>52.661064</td>\n      <td>35.976331</td>\n      <td>76.129032</td>\n      <td>11.472603</td>\n      <td>48.544521</td>\n      <td>33.463542</td>\n      <td>70.994941</td>\n      <td>10.084034</td>\n      <td>44.102296</td>\n      <td>39.669421</td>\n      <td>...</td>\n      <td>0.666667</td>\n      <td>0.0</td>\n      <td>15000.0</td>\n      <td>0</td>\n      <td>1</td>\n      <td>1</td>\n      <td>0</td>\n      <td>0</td>\n      <td>1</td>\n      <td>1</td>\n    </tr>\n  </tbody>\n</table>\n<p>2626 rows × 37 columns</p>\n</div>"
     },
     "execution_count": 13,
     "metadata": {},
     "output_type": "execute_result"
    }
   ],
   "source": [
    "# Make clean dataset for review\n",
    "df_cleaned = df_ncaa_5.copy()\n",
    "\n",
    "# Year cutoff\n",
    "cutoff_year = 2002\n",
    "df_cleaned = df_cleaned[df_cleaned['year'].astype(int) >= cutoff_year]\n",
    "\n",
    "# Make training data for modeling by filtering out 2019 (testing) and 2024 (final predictions)\n",
    "df_main = df_cleaned[(df_cleaned['year'] != 2019) & (df_cleaned['year'] != 2024)]\n",
    "\n",
    "# Drop columns for modeling\n",
    "drop_cols_modeling = ['game_id', 'id', 'coach_id', 'year', 'team', 'seed']\n",
    "df_main = df_main.drop(columns=drop_cols_modeling)\n",
    "\n",
    "# Get dummies for each dataset\n",
    "df_main = pd.get_dummies(df_main, prefix_sep='_')\n",
    "rdummies = ['winner_0', 'seed_tier_4', 'Power 6_0.0']\n",
    "df_main = df_main.drop(columns=rdummies)\n",
    "\n",
    "# Preview data\n",
    "df_main"
   ],
   "metadata": {
    "collapsed": false,
    "ExecuteTime": {
     "end_time": "2024-03-21T04:22:20.137893Z",
     "start_time": "2024-03-21T04:22:20.100743Z"
    }
   },
   "id": "3ceef0cb0671186a"
  },
  {
   "cell_type": "code",
   "execution_count": 14,
   "outputs": [
    {
     "name": "stdout",
     "output_type": "stream",
     "text": [
      "exp_win: -0.3079043871426507\n",
      "log5: -0.2949962370266822\n",
      "seed_diff: -0.28647009379224897\n",
      "seed_tier_1: -0.28216998552755207\n",
      "adjoe: -0.2572225841679771\n",
      "adjde: 0.2523132910964151\n",
      "team_season_win_%: -0.2516843725981646\n",
      "Num_AA: -0.23105820659446752\n",
      "coach_career_win_%: -0.21858538809062947\n",
      "coach_s16_rate: -0.21733013932921935\n",
      "Power 6_1.0: -0.19326696626446194\n",
      "opp_shooting%: 0.18535991054671272\n",
      "oppfg2pct: 0.18395015305211926\n",
      "rd1_odds: 0.17208953747453898\n",
      "winner_1: -0.16779209673943352\n",
      "coach_f4_rate: -0.15987405124155868\n",
      "fg2pct: -0.14641279461457332\n",
      "blockpct: -0.1389166940589998\n",
      "shooting_%: -0.1360861540771858\n",
      "seed_tier_3: 0.11289439659710439\n",
      "oppfg3pct: 0.10726229226705129\n",
      "fg3pct: -0.0972392189959705\n",
      "oppblockpct: 0.09078126896312963\n",
      "arate: -0.07101549689859017\n",
      "oppf3grate: 0.059071519062467576\n",
      "opparate: 0.05542036705493897\n",
      "dist_km: 0.05202076873129638\n",
      "oppftpct: 0.05143729795363566\n",
      "f3grate: 0.04941980734127422\n",
      "oppstlrate: 0.04423492703620298\n",
      "stlrate: -0.0417646433848754\n",
      "adjtempo: -0.030766072360139146\n",
      "tempo_diff: -0.01782727701261179\n",
      "ftpct: -0.015824469609363824\n",
      "seed_tier_2: 0.014993450268220077\n",
      "coaches_preseason_ranked_1: -0.0\n",
      "ap_preseason_ranked_1: -0.0\n"
     ]
    }
   ],
   "source": [
    "# Import packages\n",
    "from sklearn.decomposition import PCA\n",
    "from sklearn.preprocessing import StandardScaler\n",
    "\n",
    "# Create copy of df_main to standardize\n",
    "df_main_pca = df_main.copy()\n",
    "\n",
    "# Standardize data\n",
    "scaler = StandardScaler()\n",
    "scaled_data = scaler.fit_transform(df_main_pca)\n",
    "\n",
    "# Create PCA and specify number of components\n",
    "num_components = 5\n",
    "pca = PCA(n_components=num_components)  # You can adjust the number of components as needed\n",
    "\n",
    "# Step 3: Fit the PCA instance to the data\n",
    "pca.fit(scaled_data)\n",
    "\n",
    "# Get feature names\n",
    "feature_names = df_main_pca.columns\n",
    "\n",
    "# Get the eigenvectors (loadings) corresponding to the first principal component\n",
    "first_pc_loadings = pca.components_[0]\n",
    "\n",
    "# Sort the loadings in descending order of their absolute values\n",
    "sorted_indices = np.argsort(np.abs(first_pc_loadings))[::-1]\n",
    "\n",
    "# Get the names of features corresponding to the sorted loadings\n",
    "sorted_feature_names = [feature_names[i] for i in sorted_indices]\n",
    "\n",
    "# Print the sorted feature names along with their loadings\n",
    "for feature_name, loading in zip(sorted_feature_names, first_pc_loadings[sorted_indices]):\n",
    "    print(f\"{feature_name}: {loading}\")"
   ],
   "metadata": {
    "collapsed": false,
    "ExecuteTime": {
     "end_time": "2024-03-21T04:22:21.743102Z",
     "start_time": "2024-03-21T04:22:21.571209Z"
    }
   },
   "id": "7180f45e0347c675"
  },
  {
   "cell_type": "code",
   "execution_count": 26,
   "outputs": [
    {
     "data": {
      "text/plain": "          log5     adjde  seed_tier_1  team_season_win_%    Num_AA  \\\n0     1.725568 -0.288310            1           0.352029  1.130135   \n1    -1.725568  0.970840            0          -1.195603 -0.591289   \n2     1.212452  0.346375            1          -0.431087  1.130135   \n3    -1.212452  0.501279            0          -0.861800 -0.591289   \n4     1.078166  0.346375            1          -0.431087  1.130135   \n...        ...       ...          ...                ...       ...   \n2755 -1.895905  1.534650            0           0.414506 -0.591289   \n2756  1.433460  0.903774            1          -0.174559 -0.591289   \n2757 -1.433460  1.540062            0           0.119973 -0.591289   \n2758  0.875520  0.903774            1          -0.174559 -0.591289   \n2759 -0.875520  1.784844            0          -0.861800 -0.591289   \n\n      coach_career_win_%  coach_s16_rate  Power 6_1.0  opp_shooting%  \\\n0               0.160799       -0.985308            1      -0.593321   \n1              -3.719127       -0.985308            0       0.915332   \n2               0.820368        0.701782            1       1.027785   \n3              -1.198177       -0.985308            0      -0.793985   \n4               0.820368        0.701782            1       1.027785   \n...                  ...             ...          ...            ...   \n2755           -1.738478       -0.985308            0       0.170662   \n2756            0.792949        1.179790            1       1.749261   \n2757           -2.932810       -0.985308            0       1.470322   \n2758            0.792949        1.179790            1       1.749261   \n2759           -0.959600       -0.057409            1       0.856028   \n\n      rd1_odds  winner_1  \n0    -0.299883         1  \n1     3.133248         0  \n2    -0.306784         1  \n3     0.372941         0  \n4    -0.306784         1  \n...        ...       ...  \n2755  0.372941         0  \n2756 -0.282631         1  \n2757  0.372941         0  \n2758 -0.282631         1  \n2759 -0.213624         0  \n\n[2626 rows x 11 columns]",
      "text/html": "<div>\n<style scoped>\n    .dataframe tbody tr th:only-of-type {\n        vertical-align: middle;\n    }\n\n    .dataframe tbody tr th {\n        vertical-align: top;\n    }\n\n    .dataframe thead th {\n        text-align: right;\n    }\n</style>\n<table border=\"1\" class=\"dataframe\">\n  <thead>\n    <tr style=\"text-align: right;\">\n      <th></th>\n      <th>log5</th>\n      <th>adjde</th>\n      <th>seed_tier_1</th>\n      <th>team_season_win_%</th>\n      <th>Num_AA</th>\n      <th>coach_career_win_%</th>\n      <th>coach_s16_rate</th>\n      <th>Power 6_1.0</th>\n      <th>opp_shooting%</th>\n      <th>rd1_odds</th>\n      <th>winner_1</th>\n    </tr>\n  </thead>\n  <tbody>\n    <tr>\n      <th>0</th>\n      <td>1.725568</td>\n      <td>-0.288310</td>\n      <td>1</td>\n      <td>0.352029</td>\n      <td>1.130135</td>\n      <td>0.160799</td>\n      <td>-0.985308</td>\n      <td>1</td>\n      <td>-0.593321</td>\n      <td>-0.299883</td>\n      <td>1</td>\n    </tr>\n    <tr>\n      <th>1</th>\n      <td>-1.725568</td>\n      <td>0.970840</td>\n      <td>0</td>\n      <td>-1.195603</td>\n      <td>-0.591289</td>\n      <td>-3.719127</td>\n      <td>-0.985308</td>\n      <td>0</td>\n      <td>0.915332</td>\n      <td>3.133248</td>\n      <td>0</td>\n    </tr>\n    <tr>\n      <th>2</th>\n      <td>1.212452</td>\n      <td>0.346375</td>\n      <td>1</td>\n      <td>-0.431087</td>\n      <td>1.130135</td>\n      <td>0.820368</td>\n      <td>0.701782</td>\n      <td>1</td>\n      <td>1.027785</td>\n      <td>-0.306784</td>\n      <td>1</td>\n    </tr>\n    <tr>\n      <th>3</th>\n      <td>-1.212452</td>\n      <td>0.501279</td>\n      <td>0</td>\n      <td>-0.861800</td>\n      <td>-0.591289</td>\n      <td>-1.198177</td>\n      <td>-0.985308</td>\n      <td>0</td>\n      <td>-0.793985</td>\n      <td>0.372941</td>\n      <td>0</td>\n    </tr>\n    <tr>\n      <th>4</th>\n      <td>1.078166</td>\n      <td>0.346375</td>\n      <td>1</td>\n      <td>-0.431087</td>\n      <td>1.130135</td>\n      <td>0.820368</td>\n      <td>0.701782</td>\n      <td>1</td>\n      <td>1.027785</td>\n      <td>-0.306784</td>\n      <td>1</td>\n    </tr>\n    <tr>\n      <th>...</th>\n      <td>...</td>\n      <td>...</td>\n      <td>...</td>\n      <td>...</td>\n      <td>...</td>\n      <td>...</td>\n      <td>...</td>\n      <td>...</td>\n      <td>...</td>\n      <td>...</td>\n      <td>...</td>\n    </tr>\n    <tr>\n      <th>2755</th>\n      <td>-1.895905</td>\n      <td>1.534650</td>\n      <td>0</td>\n      <td>0.414506</td>\n      <td>-0.591289</td>\n      <td>-1.738478</td>\n      <td>-0.985308</td>\n      <td>0</td>\n      <td>0.170662</td>\n      <td>0.372941</td>\n      <td>0</td>\n    </tr>\n    <tr>\n      <th>2756</th>\n      <td>1.433460</td>\n      <td>0.903774</td>\n      <td>1</td>\n      <td>-0.174559</td>\n      <td>-0.591289</td>\n      <td>0.792949</td>\n      <td>1.179790</td>\n      <td>1</td>\n      <td>1.749261</td>\n      <td>-0.282631</td>\n      <td>1</td>\n    </tr>\n    <tr>\n      <th>2757</th>\n      <td>-1.433460</td>\n      <td>1.540062</td>\n      <td>0</td>\n      <td>0.119973</td>\n      <td>-0.591289</td>\n      <td>-2.932810</td>\n      <td>-0.985308</td>\n      <td>0</td>\n      <td>1.470322</td>\n      <td>0.372941</td>\n      <td>0</td>\n    </tr>\n    <tr>\n      <th>2758</th>\n      <td>0.875520</td>\n      <td>0.903774</td>\n      <td>1</td>\n      <td>-0.174559</td>\n      <td>-0.591289</td>\n      <td>0.792949</td>\n      <td>1.179790</td>\n      <td>1</td>\n      <td>1.749261</td>\n      <td>-0.282631</td>\n      <td>1</td>\n    </tr>\n    <tr>\n      <th>2759</th>\n      <td>-0.875520</td>\n      <td>1.784844</td>\n      <td>0</td>\n      <td>-0.861800</td>\n      <td>-0.591289</td>\n      <td>-0.959600</td>\n      <td>-0.057409</td>\n      <td>1</td>\n      <td>0.856028</td>\n      <td>-0.213624</td>\n      <td>0</td>\n    </tr>\n  </tbody>\n</table>\n<p>2626 rows × 11 columns</p>\n</div>"
     },
     "execution_count": 26,
     "metadata": {},
     "output_type": "execute_result"
    }
   ],
   "source": [
    "# Prep df for modeling\n",
    "df_modeling = df_main.copy()\n",
    "\n",
    "# Standardize variables\n",
    "scaler = StandardScaler()\n",
    "df_modeling[nvar_list] = scaler.fit_transform(df_modeling[nvar_list])\n",
    "\n",
    "# Set dependent variable\n",
    "DV = 'winner_1'\n",
    "\n",
    "# Model features based on PCA & removing multicollinear fields\n",
    "model_features = ['log5', 'adjde', 'seed_tier_1', 'team_season_win_%', 'Num_AA', 'coach_career_win_%', 'coach_s16_rate', 'Power 6_1.0', 'opp_shooting%', 'rd1_odds', 'winner_1']\n",
    "\n",
    "# Create df for modeling\n",
    "df_modeling = df_modeling[model_features]\n",
    "\n",
    "# Import tts from scikit learn\n",
    "from sklearn.model_selection import train_test_split\n",
    "\n",
    "# Set partition df and size of testing partition\n",
    "df_partition = df_modeling\n",
    "testpart_size = 0.2\n",
    "\n",
    "# Create training and testing partitions\n",
    "df_train, df_test = train_test_split(df_partition, test_size=testpart_size, random_state=1)\n",
    "\n",
    "df_modeling"
   ],
   "metadata": {
    "collapsed": false,
    "ExecuteTime": {
     "end_time": "2024-03-21T04:23:27.549240Z",
     "start_time": "2024-03-21T04:23:27.520542Z"
    }
   },
   "id": "3a54d307f2822cb6"
  },
  {
   "cell_type": "code",
   "execution_count": 27,
   "outputs": [
    {
     "data": {
      "text/plain": "<Axes: >"
     },
     "execution_count": 27,
     "metadata": {},
     "output_type": "execute_result"
    },
    {
     "data": {
      "text/plain": "<Figure size 640x480 with 2 Axes>",
      "image/png": "[encoded data removed]"
     },
     "metadata": {},
     "output_type": "display_data"
    }
   ],
   "source": [
    "# Import seaborn\n",
    "import seaborn as sns\n",
    "\n",
    "# Create correlation matrix\n",
    "df4heatmaps = df_modeling\n",
    "\n",
    "# Compute the correlation matrix \n",
    "corr = df4heatmaps.corr()\n",
    "\n",
    "# Draw the heatmap\n",
    "sns.heatmap(corr, xticklabels=corr.columns, yticklabels=corr.columns)"
   ],
   "metadata": {
    "collapsed": false,
    "ExecuteTime": {
     "end_time": "2024-03-21T04:23:29.026013Z",
     "start_time": "2024-03-21T04:23:28.716703Z"
    }
   },
   "id": "ed39c6e1712b8189"
  },
  {
   "cell_type": "code",
   "execution_count": 28,
   "outputs": [
    {
     "name": "stdout",
     "output_type": "stream",
     "text": [
      "                           0\n",
      "log5                1.083118\n",
      "adjde               0.042930\n",
      "seed_tier_1        -0.039933\n",
      "team_season_win_%   0.022536\n",
      "Num_AA              0.117923\n",
      "coach_career_win_%  0.054843\n",
      "coach_s16_rate      0.017431\n",
      "Power 6_1.0         0.314100\n",
      "opp_shooting%       0.050901\n",
      "rd1_odds           -0.041429\n",
      "Intercept          -0.199664\n",
      "                           0\n",
      "log5                1.072800\n",
      "adjde               0.039639\n",
      "seed_tier_1        -0.030867\n",
      "team_season_win_%   0.021268\n",
      "Num_AA              0.118228\n",
      "coach_career_win_%  0.054619\n",
      "coach_s16_rate      0.018653\n",
      "Power 6_1.0         0.306815\n",
      "opp_shooting%       0.051376\n",
      "rd1_odds           -0.042909\n",
      "Intercept          -0.198343\n",
      "[11.91279279]\n",
      "[[169  80]\n",
      " [ 79 198]]\n",
      "69.772%\n"
     ]
    }
   ],
   "source": [
    "# Logit Model: Predict Winner\n",
    "\n",
    "# Import packages\n",
    "from sklearn.linear_model import LogisticRegression, LogisticRegressionCV\n",
    "\n",
    "# Separate the predictor values and the DV values into X and y respectively\n",
    "# Placeholder variable: DV\n",
    "y_train = df_train[DV]\n",
    "x_train = df_train.drop(columns=[DV])\n",
    "\n",
    "# Function to get summary coefficients\n",
    "def summary_coef(model_object):\n",
    "    n_predictors = x_train.shape[1]\n",
    "    model_coef = pd.DataFrame(model_object.coef_.reshape(1, n_predictors), columns=x_train.columns.values)\n",
    "    model_coef['Intercept'] = model_object.intercept_\n",
    "    return model_coef.transpose()\n",
    "\n",
    "# Run Logistic regression with pre-specified penalty level (alpha)\n",
    "# Placeholder variable: alpha\n",
    "alpha = 10\n",
    "\n",
    "# The Logistic regression results are put into a model object clf\n",
    "clf_logit = LogisticRegression(C=1/alpha, penalty='l2', solver='lbfgs', max_iter=200, random_state=1).fit(x_train,y_train)\n",
    "\n",
    "# Display summary coefficients\n",
    "print(summary_coef(clf_logit))\n",
    "\n",
    "# Placeholder variable: kfolds\n",
    "kfolds = 5\n",
    "\n",
    "# Here we specify within which range of the penalty levels we will search for the optimal penalty level, \n",
    "# i.e., the level that leads to the best model candidate\n",
    "# We search the optimal alpha within [min_alpha, max_alpha]\n",
    "min_alpha = 0.001\n",
    "max_alpha = 100\n",
    "\n",
    "# We further discretize the continuous alpha range [min_alpha, max_alpha] into n individual points of alpha\n",
    "# We train n model candidates each of which corresponds to one individual alpha point\n",
    "n_candidates = 1000\n",
    "\n",
    "import numpy as np\n",
    "\n",
    "# We store the list of individual alpha points into alpha_list\n",
    "alpha_list = list(np.linspace(min_alpha, max_alpha, num=n_candidates))\n",
    "\n",
    "# C_list is the element-wise inverse of alpha_list. It is required as one of the parameter values for LogisticRegressionCV\n",
    "C_list = list(1/np.linspace(min_alpha, max_alpha, num=n_candidates))\n",
    "\n",
    "# Set n_jobs to be -1 to run LogisticRegressionCV on all CPU cores.\n",
    "clf_optimal_logit = LogisticRegressionCV(Cs=C_list, cv=kfolds, penalty='l2', solver='saga', max_iter=500, random_state=1, n_jobs=-1).fit(x_train,y_train)\n",
    "\n",
    "# Display the estimated coefficients of the final selected model\n",
    "print(summary_coef(clf_optimal_logit))\n",
    "\n",
    "# Display the optimal alpha that yields the final selected model (the best model candidate)\n",
    "print(1/clf_optimal_logit.C_)\n",
    "\n",
    "# Calculate the error rate over the test partition based on the final selected model\n",
    "\n",
    "# y_test_actual is the actual values of the DV in the test partition\n",
    "y_test_actual = df_test[DV]\n",
    "\n",
    "# X_test is the predictor values in the test partition\n",
    "X_test = df_test.drop(columns=[DV])\n",
    "\n",
    "# y_test_predicted is the predicted values of the DV in the test partition \n",
    "y_test_predicted_logit = clf_optimal_logit.predict(X_test)\n",
    "\n",
    "# Import the metrics package\n",
    "from sklearn import metrics\n",
    "\n",
    "# Display the confusion matrix over the test partition\n",
    "print(metrics.confusion_matrix(y_test_actual, y_test_predicted_logit))\n",
    "\n",
    "# Display the accuracy over the test partition\n",
    "print(f\"{(clf_optimal_logit.score(X_test, y_test_actual)*100):.3f}%\")"
   ],
   "metadata": {
    "collapsed": false,
    "ExecuteTime": {
     "end_time": "2024-03-21T04:23:32.185790Z",
     "start_time": "2024-03-21T04:23:29.758757Z"
    }
   },
   "id": "38d5006755d2f058"
  },
  {
   "cell_type": "code",
   "execution_count": 29,
   "outputs": [
    {
     "name": "stdout",
     "output_type": "stream",
     "text": [
      "[[158  91]\n",
      " [ 74 203]]\n",
      "68.631%\n"
     ]
    }
   ],
   "source": [
    "# Create a Random Forest classifier\n",
    "from sklearn.ensemble import RandomForestClassifier\n",
    "from sklearn.metrics import accuracy_score\n",
    "from sklearn.model_selection import GridSearchCV\n",
    "\n",
    "# Create RF classifier\n",
    "rf_classifier = RandomForestClassifier(n_estimators=100, random_state=42)\n",
    "\n",
    "# Create param grid\n",
    "kfolds = 5\n",
    "minimum_depth = 1\n",
    "maximum_depth = 10\n",
    "\n",
    "param_grid = {'max_depth': list(range(minimum_depth, maximum_depth+1))}\n",
    "\n",
    "gridsearch = GridSearchCV(rf_classifier, param_grid, cv=kfolds, n_jobs=-1)\n",
    "gridsearch.fit(x_train,y_train)\n",
    "#clf_rf = gridsearch.best_estimator_\n",
    "\n",
    "# Train the Random Forest classifier on the training data\n",
    "clf_rf = rf_classifier.fit(x_train, y_train)\n",
    "\n",
    "# y_test_predicted is the predicted values of the DV in the test partition \n",
    "y_test_predicted_rf = clf_rf.predict(X_test)\n",
    "\n",
    "# Calculate accuracy between predicted and actual y values over test partition\n",
    "rf_test_accuracy = accuracy_score(y_test_actual, y_test_predicted_rf)\n",
    "\n",
    "# Display the confusion matrix over the test partition\n",
    "print(metrics.confusion_matrix(y_test_actual, y_test_predicted_rf))\n",
    "\n",
    "# Print accuracy\n",
    "print(f\"{(rf_test_accuracy*100):.3f}%\")"
   ],
   "metadata": {
    "collapsed": false,
    "ExecuteTime": {
     "end_time": "2024-03-21T04:23:35.851760Z",
     "start_time": "2024-03-21T04:23:33.305247Z"
    }
   },
   "id": "d902540194e1b764"
  },
  {
   "cell_type": "code",
   "execution_count": 30,
   "outputs": [
    {
     "name": "stdout",
     "output_type": "stream",
     "text": [
      "[[172  77]\n",
      " [ 84 193]]\n",
      "69.392%\n"
     ]
    },
    {
     "name": "stderr",
     "output_type": "stream",
     "text": [
      "/Users/paulkim/anaconda3/lib/python3.10/site-packages/sklearn/ensemble/_base.py:166: FutureWarning: `base_estimator` was renamed to `estimator` in version 1.2 and will be removed in 1.4.\n",
      "  warnings.warn(\n"
     ]
    }
   ],
   "source": [
    "# AdaBoost\n",
    "from sklearn.ensemble import AdaBoostClassifier\n",
    "from sklearn.tree import DecisionTreeClassifier\n",
    "\n",
    "# Create a base classifier (weak classifier)\n",
    "base_classifier = DecisionTreeClassifier(max_depth=1)\n",
    "\n",
    "# Create an AdaBoost classifier with 50 weak learners\n",
    "adaboost_classifier = AdaBoostClassifier(base_estimator=base_classifier, n_estimators=50, random_state=42)\n",
    "\n",
    "# Train the AdaBoost classifier on the training data\n",
    "clf_ada = adaboost_classifier.fit(x_train, y_train)\n",
    "\n",
    "# y_test_predicted is the predicted values of the DV in the test partition\n",
    "y_test_predicted_ada = clf_ada.predict(X_test)\n",
    "\n",
    "# Calculate accuracy between predicted and actual y values over test partition\n",
    "ada_test_accuracy = accuracy_score(y_test_actual, y_test_predicted_ada)\n",
    "\n",
    "# Display the confusion matrix over the test partition\n",
    "print(metrics.confusion_matrix(y_test_actual, y_test_predicted_ada))\n",
    "\n",
    "# Print accuracy\n",
    "print(f\"{(ada_test_accuracy*100):.3f}%\")"
   ],
   "metadata": {
    "collapsed": false,
    "ExecuteTime": {
     "end_time": "2024-03-21T04:23:37.297085Z",
     "start_time": "2024-03-21T04:23:37.170502Z"
    }
   },
   "id": "cb189e146b67b8cf"
  },
  {
   "cell_type": "code",
   "execution_count": 31,
   "outputs": [],
   "source": [
    "# Prepare 2019 data for initial csv prediction\n",
    "df_2019 = df_cleaned[df_cleaned['year'] == 2019]\n",
    "\n",
    "# Drop columns from 2019 dataset\n",
    "drop_cols_modeling = ['game_id', 'id', 'coach_id', 'year', 'team', 'seed']\n",
    "df_2019_test = df_2019.drop(columns=drop_cols_modeling)\n",
    "\n",
    "# Get dummies for 2019 dataset\n",
    "df_2019_test = pd.get_dummies(df_2019_test, prefix_sep='_')\n",
    "df_2019_test = df_2019_test.drop(columns=rdummies)\n",
    "\n",
    "# Standardize 2019 dataset\n",
    "df_2019_test_normalized = df_2019_test.copy()\n",
    "df_2019_test_normalized[nvar_list] = (df_2019_test_normalized[nvar_list] - df_2019_test_normalized[nvar_list].mean())/df_2019_test_normalized[nvar_list].std()\n",
    "\n",
    "# Get model features\n",
    "df_2019_test = df_2019_test[model_features]\n",
    "df_2019_test_normalized = df_2019_test_normalized[model_features]"
   ],
   "metadata": {
    "collapsed": false,
    "ExecuteTime": {
     "end_time": "2024-03-21T04:23:38.212252Z",
     "start_time": "2024-03-21T04:23:38.198450Z"
    }
   },
   "id": "bdbe8bee74682d81"
  },
  {
   "cell_type": "code",
   "execution_count": 32,
   "outputs": [],
   "source": [
    "# Prepare 2024 data for final csv predictions\n",
    "df_2024 = df_cleaned[df_cleaned['year'] == 2024]\n",
    "\n",
    "# Filter 2024 data for winning records only to get unique records (2278 rows)\n",
    "df_2024 = df_2024[df_2024['winner'] == 1]\n",
    "\n",
    "# Drop columns from 2019 dataset\n",
    "drop_cols_modeling = ['game_id', 'id', 'coach_id', 'year', 'team', 'seed']\n",
    "df_2024_test = df_2024.drop(columns=drop_cols_modeling)\n",
    "\n",
    "# Get dummies for 2019 dataset\n",
    "df_2024_test = pd.get_dummies(df_2024_test, prefix_sep='_')\n",
    "df_2024_test = df_2024_test.drop(columns=rdummies)\n",
    "\n",
    "# Standardize 2019 dataset\n",
    "df_2024_test_normalized = df_2024_test.copy()\n",
    "df_2024_test_normalized[nvar_list] = (df_2024_test_normalized[nvar_list] - df_2024_test_normalized[nvar_list].mean())/df_2024_test_normalized[nvar_list].std()\n",
    "\n",
    "# Get model features\n",
    "df_2024_test = df_2024_test[model_features]\n",
    "df_2024_test_normalized = df_2024_test_normalized[model_features]"
   ],
   "metadata": {
    "collapsed": false,
    "ExecuteTime": {
     "end_time": "2024-03-21T04:23:38.840816Z",
     "start_time": "2024-03-21T04:23:38.825347Z"
    }
   },
   "id": "38903bbb6a2c422f"
  },
  {
   "cell_type": "code",
   "execution_count": 33,
   "outputs": [],
   "source": [
    "# Create function that makes predictions\n",
    "\n",
    "def PredictResults(model, df, normalized_df):\n",
    "    # Drop the target variable from the test dataset\n",
    "    df_predict = normalized_df.drop(columns=[DV])\n",
    "\n",
    "    # Predict winner probabilities\n",
    "    predicted_probs = model.predict_proba(df_predict)[:, 1]\n",
    "\n",
    "    # Convert list of predictions to DataFrame\n",
    "    df_predicted_probs = pd.DataFrame(predicted_probs).reset_index(drop=True)\n",
    "\n",
    "    # Get game_id from the original 2019 dataframe\n",
    "    df_winners = df.copy()\n",
    "    df_winners = df_winners['game_id'].reset_index(drop=True)\n",
    "    \n",
    "    # Get predicted probabilities for each game\n",
    "    df_predictions = pd.merge(df_predicted_probs, df_winners, left_index=True, right_index=True)\n",
    "\n",
    "    # Rename and reorder fields\n",
    "    df_predictions = df_predictions.rename(columns={0: 'prob'})\n",
    "    df_final_predictions = df_predictions[['game_id', 'prob']]\n",
    "    \n",
    "    # Round probabilities\n",
    "    df_final_predictions['prob'] = df_final_predictions['prob'].round(decimals=4)\n",
    "    \n",
    "    return df_final_predictions\n",
    "\n",
    "def GetKPIs(df, df_final_predictions):\n",
    "    \n",
    "    # Get actual results from df\n",
    "    df_winners = df['winner'].reset_index(drop=True)\n",
    "    y_true = df_winners.tolist()\n",
    "    \n",
    "    # Get predicted results from df_final_predictions\n",
    "    y_predicted = df_final_predictions['prob'].tolist()\n",
    "\n",
    "    # Convert y_predicted to binary\n",
    "    y_predicted_binary = [1 if x > 0.5 else 0 for x in y_predicted]\n",
    "\n",
    "    # Calculate metrics\n",
    "    from sklearn import metrics\n",
    "    from sklearn.metrics import log_loss\n",
    "    from sklearn.metrics import precision_score, recall_score, f1_score, accuracy_score\n",
    "\n",
    "    loss = log_loss(y_true, y_predicted)\n",
    "    auc = metrics.roc_auc_score(y_true, y_predicted)\n",
    "    precision = precision_score(y_true, y_predicted_binary)\n",
    "    recall = recall_score(y_true, y_predicted_binary)\n",
    "    f_score = f1_score(y_true, y_predicted_binary)\n",
    "    accuracy = accuracy_score(y_true, y_predicted_binary)\n",
    "\n",
    "    # Print metrics\n",
    "    print(f\"KPIs for selected model:\")\n",
    "    print(f\"Log Loss: {loss:.3f}\")\n",
    "    print(f\"AUC: {auc:.3f}\")\n",
    "    print(f\"Precision: {precision:.3f}\")\n",
    "    print(f\"Recall: {recall:.3f}\")\n",
    "    print(f\"F-Score: {f_score:.3f}\")\n",
    "    print(f\"Accuracy: {accuracy:.3f}\")\n",
    "    "
   ],
   "metadata": {
    "collapsed": false,
    "ExecuteTime": {
     "end_time": "2024-03-21T04:23:39.349897Z",
     "start_time": "2024-03-21T04:23:39.344453Z"
    }
   },
   "id": "e0d7b0c5ec4e7722"
  },
  {
   "cell_type": "code",
   "execution_count": 34,
   "outputs": [
    {
     "name": "stdout",
     "output_type": "stream",
     "text": [
      "KPIs for selected model:\n",
      "Log Loss: 0.485\n",
      "AUC: 0.857\n",
      "Precision: 0.750\n",
      "Recall: 0.761\n",
      "F-Score: 0.756\n",
      "Accuracy: 0.754\n"
     ]
    }
   ],
   "source": [
    "# Create df of predicted probabilities on 2019 test\n",
    "df_predictions_logit = PredictResults(clf_optimal_logit, df_2019, df_2019_test_normalized)\n",
    "df_predictions_rf = PredictResults(clf_rf, df_2019, df_2019_test_normalized)\n",
    "df_predictions_ada = PredictResults(clf_ada, df_2019, df_2019_test_normalized)\n",
    "\n",
    "# Get metrics for predictions\n",
    "test_df = df_2019\n",
    "predictions_df = df_predictions_logit\n",
    "\n",
    "# Get results for logistic regression\n",
    "GetKPIs(test_df, predictions_df)\n"
   ],
   "metadata": {
    "collapsed": false,
    "ExecuteTime": {
     "end_time": "2024-03-21T04:23:40.414121Z",
     "start_time": "2024-03-21T04:23:40.385484Z"
    }
   },
   "id": "b445aa3aa2f61e99"
  },
  {
   "cell_type": "code",
   "execution_count": 35,
   "outputs": [
    {
     "name": "stdout",
     "output_type": "stream",
     "text": [
      "KPIs for selected model:\n",
      "Log Loss: 0.474\n",
      "AUC: 0.863\n",
      "Precision: 0.814\n",
      "Recall: 0.716\n",
      "F-Score: 0.762\n",
      "Accuracy: 0.776\n"
     ]
    }
   ],
   "source": [
    "# Get metrics for random forest\n",
    "test_df = df_2019\n",
    "predictions_df = df_predictions_rf\n",
    "\n",
    "# Get results for logistic regression\n",
    "GetKPIs(test_df, predictions_df)"
   ],
   "metadata": {
    "collapsed": false,
    "ExecuteTime": {
     "end_time": "2024-03-21T04:23:41.153452Z",
     "start_time": "2024-03-21T04:23:41.128836Z"
    }
   },
   "id": "609744dbda11db06"
  },
  {
   "cell_type": "code",
   "execution_count": 36,
   "outputs": [
    {
     "name": "stdout",
     "output_type": "stream",
     "text": [
      "KPIs for selected model:\n",
      "Log Loss: 0.684\n",
      "AUC: 0.833\n",
      "Precision: 0.746\n",
      "Recall: 0.746\n",
      "F-Score: 0.746\n",
      "Accuracy: 0.746\n"
     ]
    }
   ],
   "source": [
    "# Get predictions for AdaBoost\n",
    "\n",
    "# Get metrics for predictions\n",
    "test_df = df_2019\n",
    "predictions_df = df_predictions_ada\n",
    "\n",
    "# Get results for logistic regression\n",
    "GetKPIs(test_df, predictions_df)"
   ],
   "metadata": {
    "collapsed": false,
    "ExecuteTime": {
     "end_time": "2024-03-21T04:23:46.191456Z",
     "start_time": "2024-03-21T04:23:46.182121Z"
    }
   },
   "id": "3206cfb0aeb9588f"
  },
  {
   "cell_type": "code",
   "execution_count": null,
   "outputs": [],
   "source": [
    "# Write output files\n",
    "from datetime import date\n",
    "date_stamp = str(date.today())\n",
    "\n",
    "# Write output files\n",
    "df_cleaned.to_excel(\"Output Data_Review_\"+date_stamp+\".xlsx\")\n",
    "df_main[model_features].to_excel(\"Training Data_CT_\"+date_stamp+\".xlsx\")\n",
    "df_modeling.to_excel(\"Training Data_Standardized_\"+date_stamp+\".xlsx\")\n",
    "df_2019_test.to_excel(\"Testing Data_2019_CT_\"+date_stamp+\".xlsx\")\n",
    "df_2019_test_normalized.to_excel(\"Testing Data_2019_Standardized_\"+date_stamp+\".xlsx\")"
   ],
   "metadata": {
    "collapsed": false,
    "ExecuteTime": {
     "start_time": "2024-03-21T04:02:25.555216Z"
    }
   },
   "id": "3d34f747314494f7"
  },
  {
   "cell_type": "code",
   "execution_count": 39,
   "outputs": [],
   "source": [
    "# Predicted probabilities with 2024 data\n",
    "df_2024_raw = pd.read_csv('DATA/NCAA_Tourney_2024.csv')\n",
    "\n",
    "# Get game id, team ids, and team names\n",
    "df_2024_raw = df_2024_raw[['game_id', 'team1_id', 'team1_teamname', 'team1_seed', 'team2_id', 'team2_teamname', 'team2_seed', 'slot']]\n",
    "\n",
    "# Choose model to predict\n",
    "classifier = clf_rf\n",
    "\n",
    "# Get 2024 predictions\n",
    "predictions_2024 = PredictResults(classifier, df_2024, df_2024_test_normalized)\n",
    "\n",
    "# Join raw 2024 data with 2024 predicted probabilities\n",
    "df_2024_final = pd.merge(df_2024_raw, predictions_2024, on=['game_id'], how='inner')\n",
    "\n",
    "# Add 10% buffer to probabilities less than 10%\n",
    "df_2024_final.loc[df_2024_final['prob'] < 0.1, 'prob'] += 0.1\n",
    "\n",
    "# Preview data\n",
    "df_2024_final = df_2024_final.sort_values(by=['slot', 'team1_id'], ascending=True).reset_index(drop=True)\n",
    "\n",
    "# Get csv for 2024 final prediction\n",
    "df_2024_final_csv = df_2024_final[['game_id', 'prob']]\n",
    "\n",
    "# Output 2024 probabilities review & csv file\n",
    "df_2024_final.to_excel(\"2024 Final Predictions.xlsx\")\n",
    "df_2024_final_csv.to_csv(\"Final Fourmulas.csv\")"
   ],
   "metadata": {
    "collapsed": false,
    "ExecuteTime": {
     "end_time": "2024-03-21T04:27:27.124509Z",
     "start_time": "2024-03-21T04:27:26.700089Z"
    }
   },
   "id": "def7edc6275ac41b"
  },
  {
   "cell_type": "code",
   "execution_count": null,
   "outputs": [],
   "source": [],
   "metadata": {
    "collapsed": false,
    "ExecuteTime": {
     "start_time": "2024-03-21T04:02:25.556991Z"
    }
   },
   "id": "36644a53c368cb51"
  }
 ],
 "metadata": {
  "kernelspec": {
   "display_name": "Python 3",
   "language": "python",
   "name": "python3"
  },
  "language_info": {
   "codemirror_mode": {
    "name": "ipython",
    "version": 2
   },
   "file_extension": ".py",
   "mimetype": "text/x-python",
   "name": "python",
   "nbconvert_exporter": "python",
   "pygments_lexer": "ipython2",
   "version": "2.7.6"
  }
 },
 "nbformat": 4,
 "nbformat_minor": 5
}
