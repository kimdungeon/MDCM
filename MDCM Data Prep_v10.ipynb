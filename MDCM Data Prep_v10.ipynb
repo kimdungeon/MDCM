{
 "cells": [
  {
   "cell_type": "code",
   "execution_count": 1,
   "outputs": [
    {
     "data": {
      "text/plain": "      team1_id  team2_id team1_position team2_position  team1_seed  \\\n0         1104      1194            Y02            Y15           2   \n1         1112      1364            Z03            Z14           3   \n2         1112      1461            Z03            Z11           3   \n3         1143      1335            Y06            Y11           6   \n4         1153      1131            Z01            Z16           1   \n...        ...       ...            ...            ...         ...   \n1308      1437      1222            Z02            Z05           2   \n1309      1437      1276            Z02            Z11           2   \n1310      1437      1326            Z02            Z07           2   \n1311      1458      1159            Y03            Y14           3   \n1312      1460      1136           Z16b           Z16a          16   \n\n      team2_seed  strongseed  weakseed team1_region team2_region  ...  \\\n0             15           2        15            Y            Y  ...   \n1             14           3        14            Z            Z  ...   \n2             11           3        11            Z            Z  ...   \n3             11           6        11            Y            Y  ...   \n4             16           1        16            Z            Z  ...   \n...          ...         ...       ...          ...          ...  ...   \n1308           5           2         5            Z            Z  ...   \n1309          11           2        11            Z            Z  ...   \n1310           7           2         7            Z            Z  ...   \n1311          14           3        14            Y            Y  ...   \n1312          16          16        16            Z            Z  ...   \n\n     team1_adjoe  team1_de team1_adjde  team2_tempo team2_adjtempo  team2_oe  \\\n0       111.4954   95.2313     93.8770      71.2357        71.2446  100.2897   \n1       117.3877  104.0411     96.9262      63.2345        64.7948  105.2163   \n2       117.3877  104.0411     96.9262      69.6172        70.4124  105.3654   \n3       108.4214   94.9897     93.0913      65.6728        66.8930  109.5414   \n4       115.7842   86.3924     88.0357      65.0025        65.8612  102.6611   \n...          ...       ...         ...          ...            ...       ...   \n1308    117.9210   97.6798     93.8099      65.5297        64.0049  114.6510   \n1309    117.9210   97.6798     93.8099      67.5085        66.3145  108.0050   \n1310    117.9210   97.6798     93.8099      65.3779        65.0037  112.0680   \n1311    110.3500   98.9190     94.7570      67.6928        67.2862  111.0110   \n1312    106.3610  103.3480    107.2160      72.1918        72.2097  105.2750   \n\n      team2_adjoe  team2_de  team2_adjde         game_id  \n0         96.8669   98.4183      99.9263  2002-1104-1194  \n1        105.4534   96.0965      97.6704  2002-1112-1364  \n2        106.0370   97.0568      96.6601  2002-1112-1461  \n3        106.9622   94.2234      95.1915  2002-1143-1335  \n4         99.5634   95.6198     101.1011  2002-1153-1131  \n...           ...       ...          ...             ...  \n1308     117.2380   89.1213      91.3680  2022-1437-1222  \n1309     114.1420  103.6540      98.5016  2022-1437-1276  \n1310     116.6030  103.9640     100.7880  2022-1437-1326  \n1311     108.2790   99.2826     104.0600  2022-1458-1159  \n1312     104.1970  100.6080     105.1650  2022-1460-1136  \n\n[1313 rows x 98 columns]",
      "text/html": "<div>\n<style scoped>\n    .dataframe tbody tr th:only-of-type {\n        vertical-align: middle;\n    }\n\n    .dataframe tbody tr th {\n        vertical-align: top;\n    }\n\n    .dataframe thead th {\n        text-align: right;\n    }\n</style>\n<table border=\"1\" class=\"dataframe\">\n  <thead>\n    <tr style=\"text-align: right;\">\n      <th></th>\n      <th>team1_id</th>\n      <th>team2_id</th>\n      <th>team1_position</th>\n      <th>team2_position</th>\n      <th>team1_seed</th>\n      <th>team2_seed</th>\n      <th>strongseed</th>\n      <th>weakseed</th>\n      <th>team1_region</th>\n      <th>team2_region</th>\n      <th>...</th>\n      <th>team1_adjoe</th>\n      <th>team1_de</th>\n      <th>team1_adjde</th>\n      <th>team2_tempo</th>\n      <th>team2_adjtempo</th>\n      <th>team2_oe</th>\n      <th>team2_adjoe</th>\n      <th>team2_de</th>\n      <th>team2_adjde</th>\n      <th>game_id</th>\n    </tr>\n  </thead>\n  <tbody>\n    <tr>\n      <th>0</th>\n      <td>1104</td>\n      <td>1194</td>\n      <td>Y02</td>\n      <td>Y15</td>\n      <td>2</td>\n      <td>15</td>\n      <td>2</td>\n      <td>15</td>\n      <td>Y</td>\n      <td>Y</td>\n      <td>...</td>\n      <td>111.4954</td>\n      <td>95.2313</td>\n      <td>93.8770</td>\n      <td>71.2357</td>\n      <td>71.2446</td>\n      <td>100.2897</td>\n      <td>96.8669</td>\n      <td>98.4183</td>\n      <td>99.9263</td>\n      <td>2002-1104-1194</td>\n    </tr>\n    <tr>\n      <th>1</th>\n      <td>1112</td>\n      <td>1364</td>\n      <td>Z03</td>\n      <td>Z14</td>\n      <td>3</td>\n      <td>14</td>\n      <td>3</td>\n      <td>14</td>\n      <td>Z</td>\n      <td>Z</td>\n      <td>...</td>\n      <td>117.3877</td>\n      <td>104.0411</td>\n      <td>96.9262</td>\n      <td>63.2345</td>\n      <td>64.7948</td>\n      <td>105.2163</td>\n      <td>105.4534</td>\n      <td>96.0965</td>\n      <td>97.6704</td>\n      <td>2002-1112-1364</td>\n    </tr>\n    <tr>\n      <th>2</th>\n      <td>1112</td>\n      <td>1461</td>\n      <td>Z03</td>\n      <td>Z11</td>\n      <td>3</td>\n      <td>11</td>\n      <td>3</td>\n      <td>11</td>\n      <td>Z</td>\n      <td>Z</td>\n      <td>...</td>\n      <td>117.3877</td>\n      <td>104.0411</td>\n      <td>96.9262</td>\n      <td>69.6172</td>\n      <td>70.4124</td>\n      <td>105.3654</td>\n      <td>106.0370</td>\n      <td>97.0568</td>\n      <td>96.6601</td>\n      <td>2002-1112-1461</td>\n    </tr>\n    <tr>\n      <th>3</th>\n      <td>1143</td>\n      <td>1335</td>\n      <td>Y06</td>\n      <td>Y11</td>\n      <td>6</td>\n      <td>11</td>\n      <td>6</td>\n      <td>11</td>\n      <td>Y</td>\n      <td>Y</td>\n      <td>...</td>\n      <td>108.4214</td>\n      <td>94.9897</td>\n      <td>93.0913</td>\n      <td>65.6728</td>\n      <td>66.8930</td>\n      <td>109.5414</td>\n      <td>106.9622</td>\n      <td>94.2234</td>\n      <td>95.1915</td>\n      <td>2002-1143-1335</td>\n    </tr>\n    <tr>\n      <th>4</th>\n      <td>1153</td>\n      <td>1131</td>\n      <td>Z01</td>\n      <td>Z16</td>\n      <td>1</td>\n      <td>16</td>\n      <td>1</td>\n      <td>16</td>\n      <td>Z</td>\n      <td>Z</td>\n      <td>...</td>\n      <td>115.7842</td>\n      <td>86.3924</td>\n      <td>88.0357</td>\n      <td>65.0025</td>\n      <td>65.8612</td>\n      <td>102.6611</td>\n      <td>99.5634</td>\n      <td>95.6198</td>\n      <td>101.1011</td>\n      <td>2002-1153-1131</td>\n    </tr>\n    <tr>\n      <th>...</th>\n      <td>...</td>\n      <td>...</td>\n      <td>...</td>\n      <td>...</td>\n      <td>...</td>\n      <td>...</td>\n      <td>...</td>\n      <td>...</td>\n      <td>...</td>\n      <td>...</td>\n      <td>...</td>\n      <td>...</td>\n      <td>...</td>\n      <td>...</td>\n      <td>...</td>\n      <td>...</td>\n      <td>...</td>\n      <td>...</td>\n      <td>...</td>\n      <td>...</td>\n      <td>...</td>\n    </tr>\n    <tr>\n      <th>1308</th>\n      <td>1437</td>\n      <td>1222</td>\n      <td>Z02</td>\n      <td>Z05</td>\n      <td>2</td>\n      <td>5</td>\n      <td>2</td>\n      <td>5</td>\n      <td>Z</td>\n      <td>Z</td>\n      <td>...</td>\n      <td>117.9210</td>\n      <td>97.6798</td>\n      <td>93.8099</td>\n      <td>65.5297</td>\n      <td>64.0049</td>\n      <td>114.6510</td>\n      <td>117.2380</td>\n      <td>89.1213</td>\n      <td>91.3680</td>\n      <td>2022-1437-1222</td>\n    </tr>\n    <tr>\n      <th>1309</th>\n      <td>1437</td>\n      <td>1276</td>\n      <td>Z02</td>\n      <td>Z11</td>\n      <td>2</td>\n      <td>11</td>\n      <td>2</td>\n      <td>11</td>\n      <td>Z</td>\n      <td>Z</td>\n      <td>...</td>\n      <td>117.9210</td>\n      <td>97.6798</td>\n      <td>93.8099</td>\n      <td>67.5085</td>\n      <td>66.3145</td>\n      <td>108.0050</td>\n      <td>114.1420</td>\n      <td>103.6540</td>\n      <td>98.5016</td>\n      <td>2022-1437-1276</td>\n    </tr>\n    <tr>\n      <th>1310</th>\n      <td>1437</td>\n      <td>1326</td>\n      <td>Z02</td>\n      <td>Z07</td>\n      <td>2</td>\n      <td>7</td>\n      <td>2</td>\n      <td>7</td>\n      <td>Z</td>\n      <td>Z</td>\n      <td>...</td>\n      <td>117.9210</td>\n      <td>97.6798</td>\n      <td>93.8099</td>\n      <td>65.3779</td>\n      <td>65.0037</td>\n      <td>112.0680</td>\n      <td>116.6030</td>\n      <td>103.9640</td>\n      <td>100.7880</td>\n      <td>2022-1437-1326</td>\n    </tr>\n    <tr>\n      <th>1311</th>\n      <td>1458</td>\n      <td>1159</td>\n      <td>Y03</td>\n      <td>Y14</td>\n      <td>3</td>\n      <td>14</td>\n      <td>3</td>\n      <td>14</td>\n      <td>Y</td>\n      <td>Y</td>\n      <td>...</td>\n      <td>110.3500</td>\n      <td>98.9190</td>\n      <td>94.7570</td>\n      <td>67.6928</td>\n      <td>67.2862</td>\n      <td>111.0110</td>\n      <td>108.2790</td>\n      <td>99.2826</td>\n      <td>104.0600</td>\n      <td>2022-1458-1159</td>\n    </tr>\n    <tr>\n      <th>1312</th>\n      <td>1460</td>\n      <td>1136</td>\n      <td>Z16b</td>\n      <td>Z16a</td>\n      <td>16</td>\n      <td>16</td>\n      <td>16</td>\n      <td>16</td>\n      <td>Z</td>\n      <td>Z</td>\n      <td>...</td>\n      <td>106.3610</td>\n      <td>103.3480</td>\n      <td>107.2160</td>\n      <td>72.1918</td>\n      <td>72.2097</td>\n      <td>105.2750</td>\n      <td>104.1970</td>\n      <td>100.6080</td>\n      <td>105.1650</td>\n      <td>2022-1460-1136</td>\n    </tr>\n  </tbody>\n</table>\n<p>1313 rows × 98 columns</p>\n</div>"
     },
     "execution_count": 1,
     "metadata": {},
     "output_type": "execute_result"
    }
   ],
   "source": [
    "# MDCM Data Prep File\n",
    "\n",
    "# Import Packages\n",
    "import pandas as pd \n",
    "import numpy as np\n",
    "\n",
    "# Load data for 2002-2022 and drop duplicates\n",
    "df_2022 = pd.read_csv('DATA/NCAA_Tourney_2002_2022.csv')\n",
    "df_2022 = df_2022.drop_duplicates()\n",
    "\n",
    "# Load data for 2023 and drop duplicates\n",
    "df_2023 = pd.read_csv('DATA/NCAA_Tourney_2023.csv')\n",
    "df_2023 = df_2023.drop_duplicates()\n",
    "\n",
    "# Delete fields from 2002-2022 data not in 2023 data\n",
    "drop_cols_2022 = ['num_ot', 'team1_coaches_before_final', 'team2_coaches_before_final', 'WLoc', 'team1_score', 'team2_score']\n",
    "\n",
    "df_2022 = df_2022.drop(columns=drop_cols_2022)\n",
    "\n",
    "# Delete fields from 2023 data not in 2022 data\n",
    "drop_cols_2023 = ['team1_coach_name', 'team2_coach_name', 'team1_coaches_final', 'team2_coaches_final']\n",
    "\n",
    "df_2023 = df_2023.drop(columns=drop_cols_2023)\n",
    "\n",
    "# Concat df together\n",
    "#df_init = pd.concat([df_2023, df_2022])\n",
    "df_init = df_2022.copy()\n",
    "\n",
    "# Sort data by season and game_id\n",
    "df_init = df_init.sort_values(by=['game_id'], ascending=True)\n",
    "\n",
    "# Reset index\n",
    "df_init.reset_index(drop=True)"
   ],
   "metadata": {
    "collapsed": false,
    "ExecuteTime": {
     "end_time": "2024-03-11T01:09:08.669927Z",
     "start_time": "2024-03-11T01:09:08.599900Z"
    }
   },
   "id": "bd7fc925f5c2a36c"
  },
  {
   "cell_type": "code",
   "execution_count": 2,
   "outputs": [
    {
     "data": {
      "text/plain": "                        Variable            VIF\n0                          const  421686.363703\n1    team1_pt_career_school_wins     186.008317\n2   team1_pt_career_overall_wins     133.603484\n3    team2_pt_career_school_wins     110.363403\n4           team1_pt_school_ncaa     102.944357\n..                           ...            ...\n75                team1_oppftpct       1.354511\n76                     team2_lat       1.345961\n77                team2_oppftpct       1.312693\n78                     host_long       1.282318\n79                      host_lat       1.151628\n\n[80 rows x 2 columns]",
      "text/html": "<div>\n<style scoped>\n    .dataframe tbody tr th:only-of-type {\n        vertical-align: middle;\n    }\n\n    .dataframe tbody tr th {\n        vertical-align: top;\n    }\n\n    .dataframe thead th {\n        text-align: right;\n    }\n</style>\n<table border=\"1\" class=\"dataframe\">\n  <thead>\n    <tr style=\"text-align: right;\">\n      <th></th>\n      <th>Variable</th>\n      <th>VIF</th>\n    </tr>\n  </thead>\n  <tbody>\n    <tr>\n      <th>0</th>\n      <td>const</td>\n      <td>421686.363703</td>\n    </tr>\n    <tr>\n      <th>1</th>\n      <td>team1_pt_career_school_wins</td>\n      <td>186.008317</td>\n    </tr>\n    <tr>\n      <th>2</th>\n      <td>team1_pt_career_overall_wins</td>\n      <td>133.603484</td>\n    </tr>\n    <tr>\n      <th>3</th>\n      <td>team2_pt_career_school_wins</td>\n      <td>110.363403</td>\n    </tr>\n    <tr>\n      <th>4</th>\n      <td>team1_pt_school_ncaa</td>\n      <td>102.944357</td>\n    </tr>\n    <tr>\n      <th>...</th>\n      <td>...</td>\n      <td>...</td>\n    </tr>\n    <tr>\n      <th>75</th>\n      <td>team1_oppftpct</td>\n      <td>1.354511</td>\n    </tr>\n    <tr>\n      <th>76</th>\n      <td>team2_lat</td>\n      <td>1.345961</td>\n    </tr>\n    <tr>\n      <th>77</th>\n      <td>team2_oppftpct</td>\n      <td>1.312693</td>\n    </tr>\n    <tr>\n      <th>78</th>\n      <td>host_long</td>\n      <td>1.282318</td>\n    </tr>\n    <tr>\n      <th>79</th>\n      <td>host_lat</td>\n      <td>1.151628</td>\n    </tr>\n  </tbody>\n</table>\n<p>80 rows × 2 columns</p>\n</div>"
     },
     "execution_count": 2,
     "metadata": {},
     "output_type": "execute_result"
    }
   ],
   "source": [
    "# VIF Analysis to identify multicollinearity on initial dataset\n",
    "\n",
    "# Import packages\n",
    "from statsmodels.stats.outliers_influence import variance_inflation_factor\n",
    "from statsmodels.tools.tools import add_constant\n",
    "\n",
    "# Convert non-numeric columns to numeric\n",
    "df_vif_pca = df_init.apply(pd.to_numeric, errors='coerce')\n",
    "\n",
    "# Remove non-numeric fields\n",
    "drop_columns = ['team1_id', 'team2_id', 'game_id', 'team1_position', 'team2_position', 'team1_region', 'team2_region', 'slot', 'team1_teamname', 'team2_teamname', 'host', 'team1_coach_id', 'team2_coach_id', 'team1_ap_final', 'team2_ap_final', 'team1_seed', 'team2_seed', 'strongseed', 'weakseed']\n",
    "\n",
    "df_vif_pca = df_vif_pca.drop(columns=drop_columns)\n",
    "\n",
    "# Fill NA's with 0\n",
    "df_vif_pca = df_vif_pca.fillna(value=0)\n",
    "\n",
    "# Calculating VIF\n",
    "X = add_constant(df_vif_pca)\n",
    "vif_data = pd.DataFrame()\n",
    "vif_data[\"Variable\"] = X.columns\n",
    "vif_data[\"VIF\"] = [variance_inflation_factor(X.values, i) for i in range(X.shape[1])]\n",
    "\n",
    "vif_data = vif_data.sort_values(by='VIF', ascending=False).reset_index(drop=True)\n",
    "\n",
    "# Show results\n",
    "vif_data"
   ],
   "metadata": {
    "collapsed": false,
    "ExecuteTime": {
     "end_time": "2024-03-11T01:09:11.682894Z",
     "start_time": "2024-03-11T01:09:08.671704Z"
    }
   },
   "id": "253b8a55c5ea79e9"
  },
  {
   "cell_type": "code",
   "execution_count": 3,
   "outputs": [
    {
     "name": "stdout",
     "output_type": "stream",
     "text": [
      "team1_pt_overall_s16: 0.30521603380304635\n",
      "team1_pt_overall_ncaa: 0.3027423140536021\n",
      "team1_pt_school_s16: 0.3017845330568163\n",
      "team1_pt_career_school_wins: 0.30144193104635875\n",
      "team1_pt_school_ncaa: 0.30058685600077556\n",
      "team1_pt_career_overall_wins: 0.297025695543309\n",
      "team1_pt_school_ff: 0.27123672213533534\n",
      "team1_pt_overall_ff: 0.27012434930516555\n",
      "team1_pt_career_school_losses: 0.24137865869019512\n",
      "team1_pt_career_overall_losses: 0.2046667218616162\n",
      "team1_adjoe: 0.167197353058788\n",
      "team1_oe: 0.15911449366773148\n",
      "team1_pt_coach_season_wins: 0.1532067255895557\n",
      "team1_pt_coach_season_losses: -0.13845069029753396\n",
      "team1_fg2pct: 0.11388919891394983\n",
      "team1_pt_team_season_losses: -0.10538897120289557\n",
      "team1_blockpct: 0.10515641391485725\n",
      "team1_adjde: -0.09409824382229694\n",
      "team1_de: -0.08497703595791987\n",
      "team1_oppfg2pct: -0.08016330694655903\n",
      "team1_oppfg3pct: -0.0778580295380598\n",
      "team1_tempo: 0.07771181704932945\n",
      "team1_adjtempo: 0.06781461112027849\n",
      "team1_oppblockpct: -0.06436565712626682\n",
      "team1_long: 0.053379004220952125\n",
      "season: 0.05217851355496817\n",
      "host_long: 0.03958674093995191\n",
      "team2_pt_career_overall_wins: 0.03883096608498251\n",
      "team2_pt_career_school_losses: 0.038549505214307354\n",
      "team1_fg3pct: 0.0378601204597574\n",
      "team2_pt_career_school_wins: 0.036739237927758905\n",
      "team2_pt_overall_ncaa: 0.03586620133386429\n",
      "team2_pt_school_ff: 0.035762862512277734\n",
      "team2_pt_school_s16: 0.03563246617536342\n",
      "team2_pt_career_overall_losses: 0.03560638013059541\n",
      "team2_pt_overall_s16: 0.034422899357045594\n",
      "team2_pt_school_ncaa: 0.033963214365982534\n",
      "team2_pt_overall_ff: 0.03314823305816323\n",
      "team1_stlrate: 0.03039365276950276\n",
      "team1_f3grate: -0.030243790765647514\n",
      "team2_arate: -0.02776112220141512\n",
      "team1_oppstlrate: -0.027605458407080556\n",
      "team1_coaches_preseason: 0.026086428500843147\n",
      "team1_opparate: -0.025965919472304026\n",
      "team2_lat: 0.023160891123601507\n",
      "host_lat: -0.022239289374891648\n",
      "team1_pt_team_season_wins: -0.021133085166746314\n",
      "team1_oppftpct: -0.020998979946270434\n",
      "team2_adjoe: 0.020222870422545378\n",
      "team2_coaches_preseason: 0.019880641246844247\n",
      "team2_oe: 0.01960672895052457\n",
      "team2_oppstlrate: -0.019230907249412215\n",
      "team2_oppf3grate: 0.018640853813934818\n",
      "team2_ap_preseason: 0.018396403864395627\n",
      "team1_oppf3grate: -0.018109552538151507\n",
      "team2_opparate: -0.01707505624911891\n",
      "team1_lat: 0.017039054174586475\n",
      "team2_stlrate: -0.016563643340238517\n",
      "team1_ftpct: 0.016491006694616308\n",
      "team2_ftpct: 0.016431468713682527\n",
      "team2_f3grate: 0.015210600918053594\n",
      "team2_pt_coach_season_wins: 0.014442122321712034\n",
      "team2_fg2pct: 0.013577635874943352\n",
      "team1_ap_preseason: 0.013385836925717515\n",
      "team2_oppftpct: 0.013189646819179505\n",
      "team2_blockpct: 0.011147805408003031\n",
      "team2_adjtempo: -0.010230021129797259\n",
      "team2_long: 0.007868824826260588\n",
      "team2_pt_team_season_losses: 0.00784016341614478\n",
      "team2_tempo: -0.006398461149479576\n",
      "team2_adjde: 0.006158726189195916\n",
      "team2_oppblockpct: 0.0051708898830327915\n",
      "team2_pt_coach_season_losses: 0.005126521393249231\n",
      "team2_de: 0.005114680711078287\n",
      "team2_oppfg3pct: 0.003309738523596428\n",
      "team2_pt_team_season_wins: -0.0030536884098881717\n",
      "team1_arate: 0.0029124454446402864\n",
      "team2_oppfg2pct: -0.0014093565957363774\n",
      "team2_fg3pct: -0.0008824021137076121\n"
     ]
    }
   ],
   "source": [
    "# PCA to see most relevant predictors on initial dataset\n",
    "\n",
    "# Import packages\n",
    "from sklearn.decomposition import PCA\n",
    "from sklearn.preprocessing import StandardScaler\n",
    "\n",
    "# Standardize data\n",
    "scaler = StandardScaler()\n",
    "scaled_data = scaler.fit_transform(df_vif_pca)\n",
    "\n",
    "# Create PCA and specify number of components\n",
    "num_components = 5\n",
    "pca = PCA(n_components=num_components)  # You can adjust the number of components as needed\n",
    "\n",
    "# Step 3: Fit the PCA instance to the data\n",
    "pca.fit(scaled_data)\n",
    "\n",
    "# Get feature names\n",
    "feature_names = df_vif_pca.columns\n",
    "\n",
    "# Get the eigenvectors (loadings) corresponding to the first principal component\n",
    "first_pc_loadings = pca.components_[0]\n",
    "\n",
    "# Sort the loadings in descending order of their absolute values\n",
    "sorted_indices = np.argsort(np.abs(first_pc_loadings))[::-1]\n",
    "\n",
    "# Get the names of features corresponding to the sorted loadings\n",
    "sorted_feature_names = [feature_names[i] for i in sorted_indices]\n",
    "\n",
    "# Print the sorted feature names along with their loadings\n",
    "for feature_name, loading in zip(sorted_feature_names, first_pc_loadings[sorted_indices]):\n",
    "    print(f\"{feature_name}: {loading}\")"
   ],
   "metadata": {
    "collapsed": false,
    "ExecuteTime": {
     "end_time": "2024-03-11T01:09:11.954708Z",
     "start_time": "2024-03-11T01:09:11.677443Z"
    }
   },
   "id": "3870a02685eb3291"
  },
  {
   "cell_type": "code",
   "execution_count": 4,
   "outputs": [
    {
     "data": {
      "text/plain": "     team1_id  team2_id team1_position team2_position  team1_seed  team2_seed  \\\n202      1104      1194            Y02            Y15           2          15   \n203      1112      1364            Z03            Z14           3          14   \n234      1112      1461            Z03            Z11           3          11   \n218      1143      1335            Y06            Y11           6          11   \n219      1153      1131            Z01            Z16           1          16   \n..        ...       ...            ...            ...         ...         ...   \n5        1437      1222            Z02            Z05           2           5   \n12       1437      1276            Z02            Z11           2          11   \n16       1437      1326            Z02            Z07           2           7   \n37       1458      1159            Y03            Y14           3          14   \n64       1460      1136           Z16b           Z16a          16          16   \n\n     strongseed  weakseed team1_region team2_region  ... team2_adjtempo  \\\n202           2        15            Y            Y  ...        71.2446   \n203           3        14            Z            Z  ...        64.7948   \n234           3        11            Z            Z  ...        70.4124   \n218           6        11            Y            Y  ...        66.8930   \n219           1        16            Z            Z  ...        65.8612   \n..          ...       ...          ...          ...  ...            ...   \n5             2         5            Z            Z  ...        64.0049   \n12            2        11            Z            Z  ...        66.3145   \n16            2         7            Z            Z  ...        65.0037   \n37            3        14            Y            Y  ...        67.2862   \n64           16        16            Z            Z  ...        72.2097   \n\n     team2_oe team2_adjoe  team2_de team2_adjde         game_id  \\\n202  100.2897     96.8669   98.4183     99.9263  2002-1104-1194   \n203  105.2163    105.4534   96.0965     97.6704  2002-1112-1364   \n234  105.3654    106.0370   97.0568     96.6601  2002-1112-1461   \n218  109.5414    106.9622   94.2234     95.1915  2002-1143-1335   \n219  102.6611     99.5634   95.6198    101.1011  2002-1153-1131   \n..        ...         ...       ...         ...             ...   \n5    114.6510    117.2380   89.1213     91.3680  2022-1437-1222   \n12   108.0050    114.1420  103.6540     98.5016  2022-1437-1276   \n16   112.0680    116.6030  103.9640    100.7880  2022-1437-1326   \n37   111.0110    108.2790   99.2826    104.0600  2022-1458-1159   \n64   105.2750    104.1970  100.6080    105.1650  2022-1460-1136   \n\n     team1_seed_diff  team2_seed_diff  team1_dist_km  team2_dist_km  \n202               13              -13     971.569051    1055.792866  \n203               11              -11     513.706780    1213.507998  \n234                8               -8     513.706780     694.302470  \n218                5               -5    3629.060935     412.815099  \n219               15              -15     413.098763     773.468644  \n..               ...              ...            ...            ...  \n5                  3               -3    2415.467938     307.570106  \n12                 9               -9    2415.467938    1946.915712  \n16                 5               -5     398.534770     260.796889  \n37                11              -11     118.580022    1012.808714  \n64                 0                0      11.118637    1092.637005  \n\n[1313 rows x 102 columns]",
      "text/html": "<div>\n<style scoped>\n    .dataframe tbody tr th:only-of-type {\n        vertical-align: middle;\n    }\n\n    .dataframe tbody tr th {\n        vertical-align: top;\n    }\n\n    .dataframe thead th {\n        text-align: right;\n    }\n</style>\n<table border=\"1\" class=\"dataframe\">\n  <thead>\n    <tr style=\"text-align: right;\">\n      <th></th>\n      <th>team1_id</th>\n      <th>team2_id</th>\n      <th>team1_position</th>\n      <th>team2_position</th>\n      <th>team1_seed</th>\n      <th>team2_seed</th>\n      <th>strongseed</th>\n      <th>weakseed</th>\n      <th>team1_region</th>\n      <th>team2_region</th>\n      <th>...</th>\n      <th>team2_adjtempo</th>\n      <th>team2_oe</th>\n      <th>team2_adjoe</th>\n      <th>team2_de</th>\n      <th>team2_adjde</th>\n      <th>game_id</th>\n      <th>team1_seed_diff</th>\n      <th>team2_seed_diff</th>\n      <th>team1_dist_km</th>\n      <th>team2_dist_km</th>\n    </tr>\n  </thead>\n  <tbody>\n    <tr>\n      <th>202</th>\n      <td>1104</td>\n      <td>1194</td>\n      <td>Y02</td>\n      <td>Y15</td>\n      <td>2</td>\n      <td>15</td>\n      <td>2</td>\n      <td>15</td>\n      <td>Y</td>\n      <td>Y</td>\n      <td>...</td>\n      <td>71.2446</td>\n      <td>100.2897</td>\n      <td>96.8669</td>\n      <td>98.4183</td>\n      <td>99.9263</td>\n      <td>2002-1104-1194</td>\n      <td>13</td>\n      <td>-13</td>\n      <td>971.569051</td>\n      <td>1055.792866</td>\n    </tr>\n    <tr>\n      <th>203</th>\n      <td>1112</td>\n      <td>1364</td>\n      <td>Z03</td>\n      <td>Z14</td>\n      <td>3</td>\n      <td>14</td>\n      <td>3</td>\n      <td>14</td>\n      <td>Z</td>\n      <td>Z</td>\n      <td>...</td>\n      <td>64.7948</td>\n      <td>105.2163</td>\n      <td>105.4534</td>\n      <td>96.0965</td>\n      <td>97.6704</td>\n      <td>2002-1112-1364</td>\n      <td>11</td>\n      <td>-11</td>\n      <td>513.706780</td>\n      <td>1213.507998</td>\n    </tr>\n    <tr>\n      <th>234</th>\n      <td>1112</td>\n      <td>1461</td>\n      <td>Z03</td>\n      <td>Z11</td>\n      <td>3</td>\n      <td>11</td>\n      <td>3</td>\n      <td>11</td>\n      <td>Z</td>\n      <td>Z</td>\n      <td>...</td>\n      <td>70.4124</td>\n      <td>105.3654</td>\n      <td>106.0370</td>\n      <td>97.0568</td>\n      <td>96.6601</td>\n      <td>2002-1112-1461</td>\n      <td>8</td>\n      <td>-8</td>\n      <td>513.706780</td>\n      <td>694.302470</td>\n    </tr>\n    <tr>\n      <th>218</th>\n      <td>1143</td>\n      <td>1335</td>\n      <td>Y06</td>\n      <td>Y11</td>\n      <td>6</td>\n      <td>11</td>\n      <td>6</td>\n      <td>11</td>\n      <td>Y</td>\n      <td>Y</td>\n      <td>...</td>\n      <td>66.8930</td>\n      <td>109.5414</td>\n      <td>106.9622</td>\n      <td>94.2234</td>\n      <td>95.1915</td>\n      <td>2002-1143-1335</td>\n      <td>5</td>\n      <td>-5</td>\n      <td>3629.060935</td>\n      <td>412.815099</td>\n    </tr>\n    <tr>\n      <th>219</th>\n      <td>1153</td>\n      <td>1131</td>\n      <td>Z01</td>\n      <td>Z16</td>\n      <td>1</td>\n      <td>16</td>\n      <td>1</td>\n      <td>16</td>\n      <td>Z</td>\n      <td>Z</td>\n      <td>...</td>\n      <td>65.8612</td>\n      <td>102.6611</td>\n      <td>99.5634</td>\n      <td>95.6198</td>\n      <td>101.1011</td>\n      <td>2002-1153-1131</td>\n      <td>15</td>\n      <td>-15</td>\n      <td>413.098763</td>\n      <td>773.468644</td>\n    </tr>\n    <tr>\n      <th>...</th>\n      <td>...</td>\n      <td>...</td>\n      <td>...</td>\n      <td>...</td>\n      <td>...</td>\n      <td>...</td>\n      <td>...</td>\n      <td>...</td>\n      <td>...</td>\n      <td>...</td>\n      <td>...</td>\n      <td>...</td>\n      <td>...</td>\n      <td>...</td>\n      <td>...</td>\n      <td>...</td>\n      <td>...</td>\n      <td>...</td>\n      <td>...</td>\n      <td>...</td>\n      <td>...</td>\n    </tr>\n    <tr>\n      <th>5</th>\n      <td>1437</td>\n      <td>1222</td>\n      <td>Z02</td>\n      <td>Z05</td>\n      <td>2</td>\n      <td>5</td>\n      <td>2</td>\n      <td>5</td>\n      <td>Z</td>\n      <td>Z</td>\n      <td>...</td>\n      <td>64.0049</td>\n      <td>114.6510</td>\n      <td>117.2380</td>\n      <td>89.1213</td>\n      <td>91.3680</td>\n      <td>2022-1437-1222</td>\n      <td>3</td>\n      <td>-3</td>\n      <td>2415.467938</td>\n      <td>307.570106</td>\n    </tr>\n    <tr>\n      <th>12</th>\n      <td>1437</td>\n      <td>1276</td>\n      <td>Z02</td>\n      <td>Z11</td>\n      <td>2</td>\n      <td>11</td>\n      <td>2</td>\n      <td>11</td>\n      <td>Z</td>\n      <td>Z</td>\n      <td>...</td>\n      <td>66.3145</td>\n      <td>108.0050</td>\n      <td>114.1420</td>\n      <td>103.6540</td>\n      <td>98.5016</td>\n      <td>2022-1437-1276</td>\n      <td>9</td>\n      <td>-9</td>\n      <td>2415.467938</td>\n      <td>1946.915712</td>\n    </tr>\n    <tr>\n      <th>16</th>\n      <td>1437</td>\n      <td>1326</td>\n      <td>Z02</td>\n      <td>Z07</td>\n      <td>2</td>\n      <td>7</td>\n      <td>2</td>\n      <td>7</td>\n      <td>Z</td>\n      <td>Z</td>\n      <td>...</td>\n      <td>65.0037</td>\n      <td>112.0680</td>\n      <td>116.6030</td>\n      <td>103.9640</td>\n      <td>100.7880</td>\n      <td>2022-1437-1326</td>\n      <td>5</td>\n      <td>-5</td>\n      <td>398.534770</td>\n      <td>260.796889</td>\n    </tr>\n    <tr>\n      <th>37</th>\n      <td>1458</td>\n      <td>1159</td>\n      <td>Y03</td>\n      <td>Y14</td>\n      <td>3</td>\n      <td>14</td>\n      <td>3</td>\n      <td>14</td>\n      <td>Y</td>\n      <td>Y</td>\n      <td>...</td>\n      <td>67.2862</td>\n      <td>111.0110</td>\n      <td>108.2790</td>\n      <td>99.2826</td>\n      <td>104.0600</td>\n      <td>2022-1458-1159</td>\n      <td>11</td>\n      <td>-11</td>\n      <td>118.580022</td>\n      <td>1012.808714</td>\n    </tr>\n    <tr>\n      <th>64</th>\n      <td>1460</td>\n      <td>1136</td>\n      <td>Z16b</td>\n      <td>Z16a</td>\n      <td>16</td>\n      <td>16</td>\n      <td>16</td>\n      <td>16</td>\n      <td>Z</td>\n      <td>Z</td>\n      <td>...</td>\n      <td>72.2097</td>\n      <td>105.2750</td>\n      <td>104.1970</td>\n      <td>100.6080</td>\n      <td>105.1650</td>\n      <td>2022-1460-1136</td>\n      <td>0</td>\n      <td>0</td>\n      <td>11.118637</td>\n      <td>1092.637005</td>\n    </tr>\n  </tbody>\n</table>\n<p>1313 rows × 102 columns</p>\n</div>"
     },
     "execution_count": 4,
     "metadata": {},
     "output_type": "execute_result"
    }
   ],
   "source": [
    "# Add data fields\n",
    "\n",
    "# Make copy of df\n",
    "df = df_init.copy()\n",
    "\n",
    "# Get seed differential; a seed_diff > 0 means the game was an upset\n",
    "df['team1_seed_diff'] = df['team2_seed'].astype(int) - df['team1_seed'].astype(int)\n",
    "df['team2_seed_diff'] = df['team1_seed_diff']*-1\n",
    "\n",
    "# Function to calculate distance between two points\n",
    "from geopy.distance import geodesic\n",
    "\n",
    "def calc_distance(lat1, lon1, lat2, lon2):\n",
    "    # Coordinates of the two points (latitude, longitude)\n",
    "    point1 = (lat1, lon1)\n",
    "    point2 = (lat2, lon2)\n",
    "\n",
    "    # Calculate the distance between the two points\n",
    "    distance = geodesic(point1, point2).kilometers\n",
    "    return distance\n",
    "\n",
    "# Calculate distance between host and team1 campus\n",
    "df['team1_dist_km'] = df.apply(lambda row: calc_distance(row['host_lat'], row['host_long'], row['team1_lat'], row['team1_long']), axis=1)\n",
    "\n",
    "# Calculate distance between host and team2 campus\n",
    "df['team2_dist_km'] = df.apply(lambda row: calc_distance(row['host_lat'], row['host_long'], row['team2_lat'], row['team2_long']), axis=1)\n",
    "\n",
    "# Preview data\n",
    "df"
   ],
   "metadata": {
    "collapsed": false,
    "ExecuteTime": {
     "end_time": "2024-03-11T01:09:12.985767Z",
     "start_time": "2024-03-11T01:09:11.943850Z"
    }
   },
   "id": "4258edcf11b2e3a1"
  },
  {
   "cell_type": "code",
   "execution_count": 5,
   "outputs": [
    {
     "data": {
      "text/plain": "     team1_id  team2_id team1_position team2_position  team1_seed  team2_seed  \\\n202      1104      1194            Y02            Y15           2          15   \n203      1112      1364            Z03            Z14           3          14   \n234      1112      1461            Z03            Z11           3          11   \n218      1143      1335            Y06            Y11           6          11   \n219      1153      1131            Z01            Z16           1          16   \n..        ...       ...            ...            ...         ...         ...   \n5        1437      1222            Z02            Z05           2           5   \n12       1437      1276            Z02            Z11           2          11   \n16       1437      1326            Z02            Z07           2           7   \n37       1458      1159            Y03            Y14           3          14   \n64       1460      1136           Z16b           Z16a          16          16   \n\n     strongseed  weakseed team1_region team2_region  ... team1_dist_km  \\\n202           2        15            Y            Y  ...    971.569051   \n203           3        14            Z            Z  ...    513.706780   \n234           3        11            Z            Z  ...    513.706780   \n218           6        11            Y            Y  ...   3629.060935   \n219           1        16            Z            Z  ...    413.098763   \n..          ...       ...          ...          ...  ...           ...   \n5             2         5            Z            Z  ...   2415.467938   \n12            2        11            Z            Z  ...   2415.467938   \n16            2         7            Z            Z  ...    398.534770   \n37            3        14            Y            Y  ...    118.580022   \n64           16        16            Z            Z  ...     11.118637   \n\n    team2_dist_km team1_exp_win  team2_exp_win team1_log5  team2_log5  \\\n202   1055.792866      0.878465       0.411542   0.911780    0.088220   \n203   1213.507998      0.900485       0.707177   0.789333    0.210667   \n234    694.302470      0.900485       0.743598   0.757288    0.242712   \n218    412.815099      0.852345       0.792609   0.601661    0.398339   \n219    773.468644      0.958942       0.456050   0.965347    0.034653   \n..            ...           ...            ...        ...         ...   \n5      307.570106      0.932803       0.946195   0.441146    0.558854   \n12    1946.915712      0.932803       0.844849   0.718251    0.281749   \n16     260.796889      0.932803       0.842399   0.721993    0.278007   \n37    1012.808714      0.852196       0.612314   0.784971    0.215029   \n64    1092.637005      0.476997       0.473439   0.503567    0.496433   \n\n     team1_shooting_%  team2_shooting_%  team1_opp_shooting%  \\\n202         44.590490         43.104531            42.342928   \n203         47.658492         48.737690            45.038889   \n234         47.658492         43.946449            45.038889   \n218         44.230013         49.850830            43.674743   \n219         46.849360         44.517483            39.680530   \n..                ...               ...                  ...   \n5           48.468888         46.616058            44.005522   \n12          48.468888         47.072839            44.005522   \n16          48.468888         49.328274            44.005522   \n37          44.284244         49.184447            44.101694   \n64          47.020595         45.109157            45.986912   \n\n     team2_opp_shooting%  \n202            44.851876  \n203            42.009215  \n234            44.312180  \n218            43.724353  \n219            42.195213  \n..                   ...  \n5              40.853237  \n12             45.581777  \n16             44.641655  \n37             44.075152  \n64             43.063965  \n\n[1313 rows x 110 columns]",
      "text/html": "<div>\n<style scoped>\n    .dataframe tbody tr th:only-of-type {\n        vertical-align: middle;\n    }\n\n    .dataframe tbody tr th {\n        vertical-align: top;\n    }\n\n    .dataframe thead th {\n        text-align: right;\n    }\n</style>\n<table border=\"1\" class=\"dataframe\">\n  <thead>\n    <tr style=\"text-align: right;\">\n      <th></th>\n      <th>team1_id</th>\n      <th>team2_id</th>\n      <th>team1_position</th>\n      <th>team2_position</th>\n      <th>team1_seed</th>\n      <th>team2_seed</th>\n      <th>strongseed</th>\n      <th>weakseed</th>\n      <th>team1_region</th>\n      <th>team2_region</th>\n      <th>...</th>\n      <th>team1_dist_km</th>\n      <th>team2_dist_km</th>\n      <th>team1_exp_win</th>\n      <th>team2_exp_win</th>\n      <th>team1_log5</th>\n      <th>team2_log5</th>\n      <th>team1_shooting_%</th>\n      <th>team2_shooting_%</th>\n      <th>team1_opp_shooting%</th>\n      <th>team2_opp_shooting%</th>\n    </tr>\n  </thead>\n  <tbody>\n    <tr>\n      <th>202</th>\n      <td>1104</td>\n      <td>1194</td>\n      <td>Y02</td>\n      <td>Y15</td>\n      <td>2</td>\n      <td>15</td>\n      <td>2</td>\n      <td>15</td>\n      <td>Y</td>\n      <td>Y</td>\n      <td>...</td>\n      <td>971.569051</td>\n      <td>1055.792866</td>\n      <td>0.878465</td>\n      <td>0.411542</td>\n      <td>0.911780</td>\n      <td>0.088220</td>\n      <td>44.590490</td>\n      <td>43.104531</td>\n      <td>42.342928</td>\n      <td>44.851876</td>\n    </tr>\n    <tr>\n      <th>203</th>\n      <td>1112</td>\n      <td>1364</td>\n      <td>Z03</td>\n      <td>Z14</td>\n      <td>3</td>\n      <td>14</td>\n      <td>3</td>\n      <td>14</td>\n      <td>Z</td>\n      <td>Z</td>\n      <td>...</td>\n      <td>513.706780</td>\n      <td>1213.507998</td>\n      <td>0.900485</td>\n      <td>0.707177</td>\n      <td>0.789333</td>\n      <td>0.210667</td>\n      <td>47.658492</td>\n      <td>48.737690</td>\n      <td>45.038889</td>\n      <td>42.009215</td>\n    </tr>\n    <tr>\n      <th>234</th>\n      <td>1112</td>\n      <td>1461</td>\n      <td>Z03</td>\n      <td>Z11</td>\n      <td>3</td>\n      <td>11</td>\n      <td>3</td>\n      <td>11</td>\n      <td>Z</td>\n      <td>Z</td>\n      <td>...</td>\n      <td>513.706780</td>\n      <td>694.302470</td>\n      <td>0.900485</td>\n      <td>0.743598</td>\n      <td>0.757288</td>\n      <td>0.242712</td>\n      <td>47.658492</td>\n      <td>43.946449</td>\n      <td>45.038889</td>\n      <td>44.312180</td>\n    </tr>\n    <tr>\n      <th>218</th>\n      <td>1143</td>\n      <td>1335</td>\n      <td>Y06</td>\n      <td>Y11</td>\n      <td>6</td>\n      <td>11</td>\n      <td>6</td>\n      <td>11</td>\n      <td>Y</td>\n      <td>Y</td>\n      <td>...</td>\n      <td>3629.060935</td>\n      <td>412.815099</td>\n      <td>0.852345</td>\n      <td>0.792609</td>\n      <td>0.601661</td>\n      <td>0.398339</td>\n      <td>44.230013</td>\n      <td>49.850830</td>\n      <td>43.674743</td>\n      <td>43.724353</td>\n    </tr>\n    <tr>\n      <th>219</th>\n      <td>1153</td>\n      <td>1131</td>\n      <td>Z01</td>\n      <td>Z16</td>\n      <td>1</td>\n      <td>16</td>\n      <td>1</td>\n      <td>16</td>\n      <td>Z</td>\n      <td>Z</td>\n      <td>...</td>\n      <td>413.098763</td>\n      <td>773.468644</td>\n      <td>0.958942</td>\n      <td>0.456050</td>\n      <td>0.965347</td>\n      <td>0.034653</td>\n      <td>46.849360</td>\n      <td>44.517483</td>\n      <td>39.680530</td>\n      <td>42.195213</td>\n    </tr>\n    <tr>\n      <th>...</th>\n      <td>...</td>\n      <td>...</td>\n      <td>...</td>\n      <td>...</td>\n      <td>...</td>\n      <td>...</td>\n      <td>...</td>\n      <td>...</td>\n      <td>...</td>\n      <td>...</td>\n      <td>...</td>\n      <td>...</td>\n      <td>...</td>\n      <td>...</td>\n      <td>...</td>\n      <td>...</td>\n      <td>...</td>\n      <td>...</td>\n      <td>...</td>\n      <td>...</td>\n      <td>...</td>\n    </tr>\n    <tr>\n      <th>5</th>\n      <td>1437</td>\n      <td>1222</td>\n      <td>Z02</td>\n      <td>Z05</td>\n      <td>2</td>\n      <td>5</td>\n      <td>2</td>\n      <td>5</td>\n      <td>Z</td>\n      <td>Z</td>\n      <td>...</td>\n      <td>2415.467938</td>\n      <td>307.570106</td>\n      <td>0.932803</td>\n      <td>0.946195</td>\n      <td>0.441146</td>\n      <td>0.558854</td>\n      <td>48.468888</td>\n      <td>46.616058</td>\n      <td>44.005522</td>\n      <td>40.853237</td>\n    </tr>\n    <tr>\n      <th>12</th>\n      <td>1437</td>\n      <td>1276</td>\n      <td>Z02</td>\n      <td>Z11</td>\n      <td>2</td>\n      <td>11</td>\n      <td>2</td>\n      <td>11</td>\n      <td>Z</td>\n      <td>Z</td>\n      <td>...</td>\n      <td>2415.467938</td>\n      <td>1946.915712</td>\n      <td>0.932803</td>\n      <td>0.844849</td>\n      <td>0.718251</td>\n      <td>0.281749</td>\n      <td>48.468888</td>\n      <td>47.072839</td>\n      <td>44.005522</td>\n      <td>45.581777</td>\n    </tr>\n    <tr>\n      <th>16</th>\n      <td>1437</td>\n      <td>1326</td>\n      <td>Z02</td>\n      <td>Z07</td>\n      <td>2</td>\n      <td>7</td>\n      <td>2</td>\n      <td>7</td>\n      <td>Z</td>\n      <td>Z</td>\n      <td>...</td>\n      <td>398.534770</td>\n      <td>260.796889</td>\n      <td>0.932803</td>\n      <td>0.842399</td>\n      <td>0.721993</td>\n      <td>0.278007</td>\n      <td>48.468888</td>\n      <td>49.328274</td>\n      <td>44.005522</td>\n      <td>44.641655</td>\n    </tr>\n    <tr>\n      <th>37</th>\n      <td>1458</td>\n      <td>1159</td>\n      <td>Y03</td>\n      <td>Y14</td>\n      <td>3</td>\n      <td>14</td>\n      <td>3</td>\n      <td>14</td>\n      <td>Y</td>\n      <td>Y</td>\n      <td>...</td>\n      <td>118.580022</td>\n      <td>1012.808714</td>\n      <td>0.852196</td>\n      <td>0.612314</td>\n      <td>0.784971</td>\n      <td>0.215029</td>\n      <td>44.284244</td>\n      <td>49.184447</td>\n      <td>44.101694</td>\n      <td>44.075152</td>\n    </tr>\n    <tr>\n      <th>64</th>\n      <td>1460</td>\n      <td>1136</td>\n      <td>Z16b</td>\n      <td>Z16a</td>\n      <td>16</td>\n      <td>16</td>\n      <td>16</td>\n      <td>16</td>\n      <td>Z</td>\n      <td>Z</td>\n      <td>...</td>\n      <td>11.118637</td>\n      <td>1092.637005</td>\n      <td>0.476997</td>\n      <td>0.473439</td>\n      <td>0.503567</td>\n      <td>0.496433</td>\n      <td>47.020595</td>\n      <td>45.109157</td>\n      <td>45.986912</td>\n      <td>43.063965</td>\n    </tr>\n  </tbody>\n</table>\n<p>1313 rows × 110 columns</p>\n</div>"
     },
     "execution_count": 5,
     "metadata": {},
     "output_type": "execute_result"
    }
   ],
   "source": [
    "# Calculate expected win % and LogOdd for each team\n",
    "\n",
    "# Make copy of df\n",
    "df1 = df.copy()\n",
    "\n",
    "# Calculate pythag expected win % using KenPom metric\n",
    "df1['team1_exp_win'] = (df1['team1_adjoe']**11.5)/ ((df1['team1_adjde']**11.5)+(df1['team1_adjoe']**11.5))\n",
    "df1['team2_exp_win'] = (df1['team2_adjoe']**11.5)/ ((df1['team2_adjde']**11.5)+(df1['team2_adjoe']**11.5))\n",
    "\n",
    "# Calculate Log5 Odds of team 1 winning the game\n",
    "df1['team1_log5'] = (df1['team1_exp_win'] - (df1['team1_exp_win']*df1['team2_exp_win']))/ (df1['team1_exp_win']+df1['team2_exp_win']-(2*df1['team1_exp_win']*df1['team2_exp_win']))\n",
    "\n",
    "# Likelihood of team 2 winning game is 1-LogOdds of team1\n",
    "df1['team2_log5'] = 1 - df1['team1_log5']\n",
    "\n",
    "# Calculate composite shooting % for each team\n",
    "weight_ft = .167\n",
    "weight_2p = .333 # worth double that of FT\n",
    "weight_3p = .5 # 3pts are 50% more than 2pt\n",
    "\n",
    "# Calculate team 1 and 2 shooting %\n",
    "df1['team1_shooting_%'] = (df1['team1_fg2pct']*weight_2p) + (df1['team1_fg3pct']*weight_3p) + (df1['team1_ftpct']*weight_ft)\n",
    "\n",
    "df1['team2_shooting_%'] = (df1['team2_fg2pct']*weight_2p) + (df1['team2_fg3pct']*weight_3p) + (df1['team2_ftpct']*weight_ft)\n",
    "\n",
    "# Calculate opp team shooting %\n",
    "df1['team1_opp_shooting%'] = (df1['team1_oppfg2pct']*weight_2p) + (df1['team1_oppfg3pct']*weight_3p) + (df1['team1_oppftpct']*weight_ft)\n",
    "\n",
    "df1['team2_opp_shooting%'] = (df1['team2_oppfg2pct']*weight_2p) + (df1['team2_oppfg3pct']*weight_3p) + (df1['team2_oppftpct']*weight_ft)\n",
    "\n",
    "# Preview data\n",
    "df1"
   ],
   "metadata": {
    "collapsed": false,
    "ExecuteTime": {
     "end_time": "2024-03-11T01:09:13.013710Z",
     "start_time": "2024-03-11T01:09:12.986066Z"
    }
   },
   "id": "4fb2187509acfdd1"
  },
  {
   "cell_type": "code",
   "execution_count": 6,
   "outputs": [
    {
     "data": {
      "text/plain": "      team1_id  team2_id team1_position team2_position  team1_seed  \\\n0         1104      1194            Y02            Y15           2   \n1         1112      1364            Z03            Z14           3   \n2         1112      1461            Z03            Z11           3   \n3         1143      1335            Y06            Y11           6   \n4         1153      1131            Z01            Z16           1   \n...        ...       ...            ...            ...         ...   \n1308      1437      1222            Z02            Z05           2   \n1309      1437      1276            Z02            Z11           2   \n1310      1437      1326            Z02            Z07           2   \n1311      1458      1159            Y03            Y14           3   \n1312      1460      1136           Z16b           Z16a          16   \n\n      team2_seed  strongseed  weakseed team1_region team2_region  ...  \\\n0             15           2        15            Y            Y  ...   \n1             14           3        14            Z            Z  ...   \n2             11           3        11            Z            Z  ...   \n3             11           6        11            Y            Y  ...   \n4             16           1        16            Z            Z  ...   \n...          ...         ...       ...          ...          ...  ...   \n1308           5           2         5            Z            Z  ...   \n1309          11           2        11            Z            Z  ...   \n1310           7           2         7            Z            Z  ...   \n1311          14           3        14            Y            Y  ...   \n1312          16          16        16            Z            Z  ...   \n\n     team1_log5 team2_log5 team1_shooting_%  team2_shooting_%  \\\n0      0.911780   0.088220        44.590490         43.104531   \n1      0.789333   0.210667        47.658492         48.737690   \n2      0.757288   0.242712        47.658492         43.946449   \n3      0.601661   0.398339        44.230013         49.850830   \n4      0.965347   0.034653        46.849360         44.517483   \n...         ...        ...              ...               ...   \n1308   0.441146   0.558854        48.468888         46.616058   \n1309   0.718251   0.281749        48.468888         47.072839   \n1310   0.721993   0.278007        48.468888         49.328274   \n1311   0.784971   0.215029        44.284244         49.184447   \n1312   0.503567   0.496433        47.020595         45.109157   \n\n     team1_opp_shooting%  team2_opp_shooting%  avg_tempo   avg_adjoe  \\\n0              42.342928            44.851876  69.897916  110.282764   \n1              45.038889            42.009215  69.897916  110.282764   \n2              45.038889            44.312180  69.897916  110.282764   \n3              43.674743            43.724353  69.897916  110.282764   \n4              39.680530            42.195213  69.897916  110.282764   \n...                  ...                  ...        ...         ...   \n1308           44.005522            40.853237  67.064362  112.014158   \n1309           44.005522            45.581777  67.064362  112.014158   \n1310           44.005522            44.641655  67.064362  112.014158   \n1311           44.101694            44.075152  67.064362  112.014158   \n1312           45.986912            43.063965  67.064362  112.014158   \n\n      avg_adjde  exp_tempo  \n0     94.681263  71.246826  \n1     94.681263  67.504197  \n2     94.681263  73.356697  \n3     94.681263  65.084714  \n4     94.681263  64.746787  \n...         ...        ...  \n1308  95.487002  59.721105  \n1309  95.487002  61.876126  \n1310  95.487002  60.653056  \n1311  95.487002  66.707029  \n1312  95.487002  73.715214  \n\n[1313 rows x 114 columns]",
      "text/html": "<div>\n<style scoped>\n    .dataframe tbody tr th:only-of-type {\n        vertical-align: middle;\n    }\n\n    .dataframe tbody tr th {\n        vertical-align: top;\n    }\n\n    .dataframe thead th {\n        text-align: right;\n    }\n</style>\n<table border=\"1\" class=\"dataframe\">\n  <thead>\n    <tr style=\"text-align: right;\">\n      <th></th>\n      <th>team1_id</th>\n      <th>team2_id</th>\n      <th>team1_position</th>\n      <th>team2_position</th>\n      <th>team1_seed</th>\n      <th>team2_seed</th>\n      <th>strongseed</th>\n      <th>weakseed</th>\n      <th>team1_region</th>\n      <th>team2_region</th>\n      <th>...</th>\n      <th>team1_log5</th>\n      <th>team2_log5</th>\n      <th>team1_shooting_%</th>\n      <th>team2_shooting_%</th>\n      <th>team1_opp_shooting%</th>\n      <th>team2_opp_shooting%</th>\n      <th>avg_tempo</th>\n      <th>avg_adjoe</th>\n      <th>avg_adjde</th>\n      <th>exp_tempo</th>\n    </tr>\n  </thead>\n  <tbody>\n    <tr>\n      <th>0</th>\n      <td>1104</td>\n      <td>1194</td>\n      <td>Y02</td>\n      <td>Y15</td>\n      <td>2</td>\n      <td>15</td>\n      <td>2</td>\n      <td>15</td>\n      <td>Y</td>\n      <td>Y</td>\n      <td>...</td>\n      <td>0.911780</td>\n      <td>0.088220</td>\n      <td>44.590490</td>\n      <td>43.104531</td>\n      <td>42.342928</td>\n      <td>44.851876</td>\n      <td>69.897916</td>\n      <td>110.282764</td>\n      <td>94.681263</td>\n      <td>71.246826</td>\n    </tr>\n    <tr>\n      <th>1</th>\n      <td>1112</td>\n      <td>1364</td>\n      <td>Z03</td>\n      <td>Z14</td>\n      <td>3</td>\n      <td>14</td>\n      <td>3</td>\n      <td>14</td>\n      <td>Z</td>\n      <td>Z</td>\n      <td>...</td>\n      <td>0.789333</td>\n      <td>0.210667</td>\n      <td>47.658492</td>\n      <td>48.737690</td>\n      <td>45.038889</td>\n      <td>42.009215</td>\n      <td>69.897916</td>\n      <td>110.282764</td>\n      <td>94.681263</td>\n      <td>67.504197</td>\n    </tr>\n    <tr>\n      <th>2</th>\n      <td>1112</td>\n      <td>1461</td>\n      <td>Z03</td>\n      <td>Z11</td>\n      <td>3</td>\n      <td>11</td>\n      <td>3</td>\n      <td>11</td>\n      <td>Z</td>\n      <td>Z</td>\n      <td>...</td>\n      <td>0.757288</td>\n      <td>0.242712</td>\n      <td>47.658492</td>\n      <td>43.946449</td>\n      <td>45.038889</td>\n      <td>44.312180</td>\n      <td>69.897916</td>\n      <td>110.282764</td>\n      <td>94.681263</td>\n      <td>73.356697</td>\n    </tr>\n    <tr>\n      <th>3</th>\n      <td>1143</td>\n      <td>1335</td>\n      <td>Y06</td>\n      <td>Y11</td>\n      <td>6</td>\n      <td>11</td>\n      <td>6</td>\n      <td>11</td>\n      <td>Y</td>\n      <td>Y</td>\n      <td>...</td>\n      <td>0.601661</td>\n      <td>0.398339</td>\n      <td>44.230013</td>\n      <td>49.850830</td>\n      <td>43.674743</td>\n      <td>43.724353</td>\n      <td>69.897916</td>\n      <td>110.282764</td>\n      <td>94.681263</td>\n      <td>65.084714</td>\n    </tr>\n    <tr>\n      <th>4</th>\n      <td>1153</td>\n      <td>1131</td>\n      <td>Z01</td>\n      <td>Z16</td>\n      <td>1</td>\n      <td>16</td>\n      <td>1</td>\n      <td>16</td>\n      <td>Z</td>\n      <td>Z</td>\n      <td>...</td>\n      <td>0.965347</td>\n      <td>0.034653</td>\n      <td>46.849360</td>\n      <td>44.517483</td>\n      <td>39.680530</td>\n      <td>42.195213</td>\n      <td>69.897916</td>\n      <td>110.282764</td>\n      <td>94.681263</td>\n      <td>64.746787</td>\n    </tr>\n    <tr>\n      <th>...</th>\n      <td>...</td>\n      <td>...</td>\n      <td>...</td>\n      <td>...</td>\n      <td>...</td>\n      <td>...</td>\n      <td>...</td>\n      <td>...</td>\n      <td>...</td>\n      <td>...</td>\n      <td>...</td>\n      <td>...</td>\n      <td>...</td>\n      <td>...</td>\n      <td>...</td>\n      <td>...</td>\n      <td>...</td>\n      <td>...</td>\n      <td>...</td>\n      <td>...</td>\n      <td>...</td>\n    </tr>\n    <tr>\n      <th>1308</th>\n      <td>1437</td>\n      <td>1222</td>\n      <td>Z02</td>\n      <td>Z05</td>\n      <td>2</td>\n      <td>5</td>\n      <td>2</td>\n      <td>5</td>\n      <td>Z</td>\n      <td>Z</td>\n      <td>...</td>\n      <td>0.441146</td>\n      <td>0.558854</td>\n      <td>48.468888</td>\n      <td>46.616058</td>\n      <td>44.005522</td>\n      <td>40.853237</td>\n      <td>67.064362</td>\n      <td>112.014158</td>\n      <td>95.487002</td>\n      <td>59.721105</td>\n    </tr>\n    <tr>\n      <th>1309</th>\n      <td>1437</td>\n      <td>1276</td>\n      <td>Z02</td>\n      <td>Z11</td>\n      <td>2</td>\n      <td>11</td>\n      <td>2</td>\n      <td>11</td>\n      <td>Z</td>\n      <td>Z</td>\n      <td>...</td>\n      <td>0.718251</td>\n      <td>0.281749</td>\n      <td>48.468888</td>\n      <td>47.072839</td>\n      <td>44.005522</td>\n      <td>45.581777</td>\n      <td>67.064362</td>\n      <td>112.014158</td>\n      <td>95.487002</td>\n      <td>61.876126</td>\n    </tr>\n    <tr>\n      <th>1310</th>\n      <td>1437</td>\n      <td>1326</td>\n      <td>Z02</td>\n      <td>Z07</td>\n      <td>2</td>\n      <td>7</td>\n      <td>2</td>\n      <td>7</td>\n      <td>Z</td>\n      <td>Z</td>\n      <td>...</td>\n      <td>0.721993</td>\n      <td>0.278007</td>\n      <td>48.468888</td>\n      <td>49.328274</td>\n      <td>44.005522</td>\n      <td>44.641655</td>\n      <td>67.064362</td>\n      <td>112.014158</td>\n      <td>95.487002</td>\n      <td>60.653056</td>\n    </tr>\n    <tr>\n      <th>1311</th>\n      <td>1458</td>\n      <td>1159</td>\n      <td>Y03</td>\n      <td>Y14</td>\n      <td>3</td>\n      <td>14</td>\n      <td>3</td>\n      <td>14</td>\n      <td>Y</td>\n      <td>Y</td>\n      <td>...</td>\n      <td>0.784971</td>\n      <td>0.215029</td>\n      <td>44.284244</td>\n      <td>49.184447</td>\n      <td>44.101694</td>\n      <td>44.075152</td>\n      <td>67.064362</td>\n      <td>112.014158</td>\n      <td>95.487002</td>\n      <td>66.707029</td>\n    </tr>\n    <tr>\n      <th>1312</th>\n      <td>1460</td>\n      <td>1136</td>\n      <td>Z16b</td>\n      <td>Z16a</td>\n      <td>16</td>\n      <td>16</td>\n      <td>16</td>\n      <td>16</td>\n      <td>Z</td>\n      <td>Z</td>\n      <td>...</td>\n      <td>0.503567</td>\n      <td>0.496433</td>\n      <td>47.020595</td>\n      <td>45.109157</td>\n      <td>45.986912</td>\n      <td>43.063965</td>\n      <td>67.064362</td>\n      <td>112.014158</td>\n      <td>95.487002</td>\n      <td>73.715214</td>\n    </tr>\n  </tbody>\n</table>\n<p>1313 rows × 114 columns</p>\n</div>"
     },
     "execution_count": 6,
     "metadata": {},
     "output_type": "execute_result"
    }
   ],
   "source": [
    "# Get adj tempo data for each team\n",
    "efficiency_cols = ['team1_adjoe', 'team1_adjde', 'team1_adjtempo', 'team2_adjoe', 'team2_adjde', 'team2_adjtempo']\n",
    "\n",
    "df_efficiency = df1[['season', 'team1_adjoe', 'team1_adjde', 'team1_adjtempo', 'team2_adjoe', 'team2_adjde', 'team2_adjtempo']]\n",
    "\n",
    "# Get average adj tempo by year\n",
    "df_efficiency = df_efficiency.groupby(['season'])[efficiency_cols].mean().reset_index()\n",
    "\n",
    "# Calculate averages for each year\n",
    "df_efficiency['avg_tempo'] = (df_efficiency['team1_adjtempo'] + df_efficiency['team2_adjtempo'])/2\n",
    "df_efficiency['avg_adjoe'] = (df_efficiency['team1_adjoe'] + df_efficiency['team2_adjoe'])/2\n",
    "df_efficiency['avg_adjde'] = (df_efficiency['team1_adjde'] + df_efficiency['team2_adjde'])/2\n",
    "\n",
    "# Drop columns\n",
    "df_efficiency= df_efficiency.drop(columns=efficiency_cols)\n",
    "\n",
    "# Make copy of df\n",
    "df2 = df1.copy()\n",
    "\n",
    "# Join with df to get avg adj tempo for each team\n",
    "df2 = pd.merge(df2, df_efficiency, on='season', how='inner')\n",
    "\n",
    "# Make copy of df\n",
    "df3 = df2.copy()\n",
    "\n",
    "# Calculate expected tempo for each game\n",
    "df3['exp_tempo'] = (df3['team1_adjtempo']/df3['avg_tempo'])*(df3['team2_adjtempo']/df3['avg_tempo'])*df3['avg_tempo']\n",
    "\n",
    "# Rename season to year so regex doesn't include preseason/season\n",
    "df3.rename(columns={'season': 'year'}, inplace=True)\n",
    "\n",
    "# Preview df\n",
    "df3"
   ],
   "metadata": {
    "collapsed": false,
    "ExecuteTime": {
     "end_time": "2024-03-11T01:09:13.113326Z",
     "start_time": "2024-03-11T01:09:13.013032Z"
    }
   },
   "id": "386f26e624f039a7"
  },
  {
   "cell_type": "code",
   "execution_count": 7,
   "outputs": [
    {
     "name": "stderr",
     "output_type": "stream",
     "text": [
      "/var/folders/65/9l3qmfc96xsdxtpbjzp_y53w0000gn/T/ipykernel_47289/1342569607.py:7: SettingWithCopyWarning: \n",
      "A value is trying to be set on a copy of a slice from a DataFrame.\n",
      "Try using .loc[row_indexer,col_indexer] = value instead\n",
      "\n",
      "See the caveats in the documentation: https://pandas.pydata.org/pandas-docs/stable/user_guide/indexing.html#returning-a-view-versus-a-copy\n",
      "  df_team1['winner'] = 1\n",
      "/var/folders/65/9l3qmfc96xsdxtpbjzp_y53w0000gn/T/ipykernel_47289/1342569607.py:13: SettingWithCopyWarning: \n",
      "A value is trying to be set on a copy of a slice from a DataFrame.\n",
      "Try using .loc[row_indexer,col_indexer] = value instead\n",
      "\n",
      "See the caveats in the documentation: https://pandas.pydata.org/pandas-docs/stable/user_guide/indexing.html#returning-a-view-versus-a-copy\n",
      "  df_team2['winner'] = 0\n"
     ]
    },
    {
     "data": {
      "text/plain": "        id position  seed region       teamname  year        lat        long  \\\n0     1104      Y02     2      Y        Alabama  2002  33.214400  -87.545766   \n0     1194      Y15    15      Y    FL Atlantic  2002  26.372536  -80.102293   \n1     1364      Z14    14      Z  Santa Barbara  2002  34.415462 -119.848071   \n1     1112      Z03     3      Z        Arizona  2002  32.232071 -110.950769   \n2     1112      Z03     3      Z        Arizona  2002  32.232071 -110.950769   \n...    ...      ...   ...    ...            ...   ...        ...         ...   \n1310  1437      Z02     2      Z      Villanova  2022  40.039388  -75.345457   \n1311  1159      Y14    14      Y        Colgate  2022  42.818800  -75.535000   \n1311  1458      Y03     3      Y      Wisconsin  2022  43.073858  -89.405356   \n1312  1460     Z16b    16      Z      Wright St  2022  39.780634  -84.064881   \n1312  1136     Z16a    16      Z         Bryant  2022  41.920149  -71.539147   \n\n              coach_id  pt_school_ncaa  ...        de     adjde  \\\n0     mark-gottfried-1             0.0  ...   95.2313   93.8770   \n0       sidney-green-1             0.0  ...   98.4183   99.9263   \n1       bob-williams-1             0.0  ...   96.0965   97.6704   \n1         lute-olson-1            17.0  ...  104.0411   96.9262   \n2         lute-olson-1            17.0  ...  104.0411   96.9262   \n...                ...             ...  ...       ...       ...   \n1310      jay-wright-1            15.0  ...   97.6798   93.8099   \n1311     matt-langel-1             2.0  ...   99.2826  104.0600   \n1311       greg-gard-1             4.0  ...   98.9190   94.7570   \n1312      scott-nagy-1             1.0  ...  103.3480  107.2160   \n1312    jared-grasso-1             0.0  ...  100.6080  105.1650   \n\n             game_id  seed_diff      dist_km   exp_win      log5  shooting_%  \\\n0     2002-1104-1194         13   971.569051  0.878465  0.911780   44.590490   \n0     2002-1104-1194        -13  1055.792866  0.411542  0.088220   43.104531   \n1     2002-1112-1364        -11  1213.507998  0.707177  0.210667   48.737690   \n1     2002-1112-1364         11   513.706780  0.900485  0.789333   47.658492   \n2     2002-1112-1461          8   513.706780  0.900485  0.757288   47.658492   \n...              ...        ...          ...       ...       ...         ...   \n1310  2022-1437-1326          5   398.534770  0.932803  0.721993   48.468888   \n1311  2022-1458-1159        -11  1012.808714  0.612314  0.215029   49.184447   \n1311  2022-1458-1159         11   118.580022  0.852196  0.784971   44.284244   \n1312  2022-1460-1136          0    11.118637  0.476997  0.503567   47.020595   \n1312  2022-1460-1136          0  1092.637005  0.473439  0.496433   45.109157   \n\n      opp_shooting%  winner  \n0         42.342928       1  \n0         44.851876       0  \n1         42.009215       0  \n1         45.038889       1  \n2         45.038889       1  \n...             ...     ...  \n1310      44.005522       1  \n1311      44.075152       0  \n1311      44.101694       1  \n1312      45.986912       1  \n1312      43.063965       0  \n\n[2626 rows x 54 columns]",
      "text/html": "<div>\n<style scoped>\n    .dataframe tbody tr th:only-of-type {\n        vertical-align: middle;\n    }\n\n    .dataframe tbody tr th {\n        vertical-align: top;\n    }\n\n    .dataframe thead th {\n        text-align: right;\n    }\n</style>\n<table border=\"1\" class=\"dataframe\">\n  <thead>\n    <tr style=\"text-align: right;\">\n      <th></th>\n      <th>id</th>\n      <th>position</th>\n      <th>seed</th>\n      <th>region</th>\n      <th>teamname</th>\n      <th>year</th>\n      <th>lat</th>\n      <th>long</th>\n      <th>coach_id</th>\n      <th>pt_school_ncaa</th>\n      <th>...</th>\n      <th>de</th>\n      <th>adjde</th>\n      <th>game_id</th>\n      <th>seed_diff</th>\n      <th>dist_km</th>\n      <th>exp_win</th>\n      <th>log5</th>\n      <th>shooting_%</th>\n      <th>opp_shooting%</th>\n      <th>winner</th>\n    </tr>\n  </thead>\n  <tbody>\n    <tr>\n      <th>0</th>\n      <td>1104</td>\n      <td>Y02</td>\n      <td>2</td>\n      <td>Y</td>\n      <td>Alabama</td>\n      <td>2002</td>\n      <td>33.214400</td>\n      <td>-87.545766</td>\n      <td>mark-gottfried-1</td>\n      <td>0.0</td>\n      <td>...</td>\n      <td>95.2313</td>\n      <td>93.8770</td>\n      <td>2002-1104-1194</td>\n      <td>13</td>\n      <td>971.569051</td>\n      <td>0.878465</td>\n      <td>0.911780</td>\n      <td>44.590490</td>\n      <td>42.342928</td>\n      <td>1</td>\n    </tr>\n    <tr>\n      <th>0</th>\n      <td>1194</td>\n      <td>Y15</td>\n      <td>15</td>\n      <td>Y</td>\n      <td>FL Atlantic</td>\n      <td>2002</td>\n      <td>26.372536</td>\n      <td>-80.102293</td>\n      <td>sidney-green-1</td>\n      <td>0.0</td>\n      <td>...</td>\n      <td>98.4183</td>\n      <td>99.9263</td>\n      <td>2002-1104-1194</td>\n      <td>-13</td>\n      <td>1055.792866</td>\n      <td>0.411542</td>\n      <td>0.088220</td>\n      <td>43.104531</td>\n      <td>44.851876</td>\n      <td>0</td>\n    </tr>\n    <tr>\n      <th>1</th>\n      <td>1364</td>\n      <td>Z14</td>\n      <td>14</td>\n      <td>Z</td>\n      <td>Santa Barbara</td>\n      <td>2002</td>\n      <td>34.415462</td>\n      <td>-119.848071</td>\n      <td>bob-williams-1</td>\n      <td>0.0</td>\n      <td>...</td>\n      <td>96.0965</td>\n      <td>97.6704</td>\n      <td>2002-1112-1364</td>\n      <td>-11</td>\n      <td>1213.507998</td>\n      <td>0.707177</td>\n      <td>0.210667</td>\n      <td>48.737690</td>\n      <td>42.009215</td>\n      <td>0</td>\n    </tr>\n    <tr>\n      <th>1</th>\n      <td>1112</td>\n      <td>Z03</td>\n      <td>3</td>\n      <td>Z</td>\n      <td>Arizona</td>\n      <td>2002</td>\n      <td>32.232071</td>\n      <td>-110.950769</td>\n      <td>lute-olson-1</td>\n      <td>17.0</td>\n      <td>...</td>\n      <td>104.0411</td>\n      <td>96.9262</td>\n      <td>2002-1112-1364</td>\n      <td>11</td>\n      <td>513.706780</td>\n      <td>0.900485</td>\n      <td>0.789333</td>\n      <td>47.658492</td>\n      <td>45.038889</td>\n      <td>1</td>\n    </tr>\n    <tr>\n      <th>2</th>\n      <td>1112</td>\n      <td>Z03</td>\n      <td>3</td>\n      <td>Z</td>\n      <td>Arizona</td>\n      <td>2002</td>\n      <td>32.232071</td>\n      <td>-110.950769</td>\n      <td>lute-olson-1</td>\n      <td>17.0</td>\n      <td>...</td>\n      <td>104.0411</td>\n      <td>96.9262</td>\n      <td>2002-1112-1461</td>\n      <td>8</td>\n      <td>513.706780</td>\n      <td>0.900485</td>\n      <td>0.757288</td>\n      <td>47.658492</td>\n      <td>45.038889</td>\n      <td>1</td>\n    </tr>\n    <tr>\n      <th>...</th>\n      <td>...</td>\n      <td>...</td>\n      <td>...</td>\n      <td>...</td>\n      <td>...</td>\n      <td>...</td>\n      <td>...</td>\n      <td>...</td>\n      <td>...</td>\n      <td>...</td>\n      <td>...</td>\n      <td>...</td>\n      <td>...</td>\n      <td>...</td>\n      <td>...</td>\n      <td>...</td>\n      <td>...</td>\n      <td>...</td>\n      <td>...</td>\n      <td>...</td>\n      <td>...</td>\n    </tr>\n    <tr>\n      <th>1310</th>\n      <td>1437</td>\n      <td>Z02</td>\n      <td>2</td>\n      <td>Z</td>\n      <td>Villanova</td>\n      <td>2022</td>\n      <td>40.039388</td>\n      <td>-75.345457</td>\n      <td>jay-wright-1</td>\n      <td>15.0</td>\n      <td>...</td>\n      <td>97.6798</td>\n      <td>93.8099</td>\n      <td>2022-1437-1326</td>\n      <td>5</td>\n      <td>398.534770</td>\n      <td>0.932803</td>\n      <td>0.721993</td>\n      <td>48.468888</td>\n      <td>44.005522</td>\n      <td>1</td>\n    </tr>\n    <tr>\n      <th>1311</th>\n      <td>1159</td>\n      <td>Y14</td>\n      <td>14</td>\n      <td>Y</td>\n      <td>Colgate</td>\n      <td>2022</td>\n      <td>42.818800</td>\n      <td>-75.535000</td>\n      <td>matt-langel-1</td>\n      <td>2.0</td>\n      <td>...</td>\n      <td>99.2826</td>\n      <td>104.0600</td>\n      <td>2022-1458-1159</td>\n      <td>-11</td>\n      <td>1012.808714</td>\n      <td>0.612314</td>\n      <td>0.215029</td>\n      <td>49.184447</td>\n      <td>44.075152</td>\n      <td>0</td>\n    </tr>\n    <tr>\n      <th>1311</th>\n      <td>1458</td>\n      <td>Y03</td>\n      <td>3</td>\n      <td>Y</td>\n      <td>Wisconsin</td>\n      <td>2022</td>\n      <td>43.073858</td>\n      <td>-89.405356</td>\n      <td>greg-gard-1</td>\n      <td>4.0</td>\n      <td>...</td>\n      <td>98.9190</td>\n      <td>94.7570</td>\n      <td>2022-1458-1159</td>\n      <td>11</td>\n      <td>118.580022</td>\n      <td>0.852196</td>\n      <td>0.784971</td>\n      <td>44.284244</td>\n      <td>44.101694</td>\n      <td>1</td>\n    </tr>\n    <tr>\n      <th>1312</th>\n      <td>1460</td>\n      <td>Z16b</td>\n      <td>16</td>\n      <td>Z</td>\n      <td>Wright St</td>\n      <td>2022</td>\n      <td>39.780634</td>\n      <td>-84.064881</td>\n      <td>scott-nagy-1</td>\n      <td>1.0</td>\n      <td>...</td>\n      <td>103.3480</td>\n      <td>107.2160</td>\n      <td>2022-1460-1136</td>\n      <td>0</td>\n      <td>11.118637</td>\n      <td>0.476997</td>\n      <td>0.503567</td>\n      <td>47.020595</td>\n      <td>45.986912</td>\n      <td>1</td>\n    </tr>\n    <tr>\n      <th>1312</th>\n      <td>1136</td>\n      <td>Z16a</td>\n      <td>16</td>\n      <td>Z</td>\n      <td>Bryant</td>\n      <td>2022</td>\n      <td>41.920149</td>\n      <td>-71.539147</td>\n      <td>jared-grasso-1</td>\n      <td>0.0</td>\n      <td>...</td>\n      <td>100.6080</td>\n      <td>105.1650</td>\n      <td>2022-1460-1136</td>\n      <td>0</td>\n      <td>1092.637005</td>\n      <td>0.473439</td>\n      <td>0.496433</td>\n      <td>45.109157</td>\n      <td>43.063965</td>\n      <td>0</td>\n    </tr>\n  </tbody>\n</table>\n<p>2626 rows × 54 columns</p>\n</div>"
     },
     "execution_count": 7,
     "metadata": {},
     "output_type": "execute_result"
    }
   ],
   "source": [
    "# Split data\n",
    "\n",
    "# Get team 1's columns\n",
    "df_team1 = df3.filter(regex=\"team1_|game|year\")\n",
    "\n",
    "# Team 1 is winning team\n",
    "df_team1['winner'] = 1\n",
    "\n",
    "# Get team 2's columns\n",
    "df_team2 = df3.filter(regex=\"team2_|game|year\")\n",
    "\n",
    "# Team 2 is losing team\n",
    "df_team2['winner'] = 0\n",
    "\n",
    "# Dynamically rename fields\n",
    "new_prefix = \"\"\n",
    "\n",
    "def updateColNames(df, old_prefix, new_prefix):\n",
    "    df.columns = [col.replace(old_prefix, new_prefix) for col in df.columns]\n",
    "    return df\n",
    "    \n",
    "df_team1 = updateColNames(df_team1, \"team1_\", new_prefix)\n",
    "df_team2 = updateColNames(df_team2, \"team2_\", new_prefix)\n",
    "\n",
    "# Append dataframes\n",
    "df_ncaa = pd.concat([df_team1, df_team2], axis=0)\n",
    "\n",
    "# Sort on game_id\n",
    "df_ncaa = df_ncaa.sort_values(by='game_id', ascending=True)\n",
    "\n",
    "# Preview data\n",
    "df_ncaa"
   ],
   "metadata": {
    "collapsed": false,
    "ExecuteTime": {
     "end_time": "2024-03-11T01:09:13.114195Z",
     "start_time": "2024-03-11T01:09:13.036087Z"
    }
   },
   "id": "11cfbd0ffa468f7b"
  },
  {
   "cell_type": "code",
   "execution_count": 8,
   "outputs": [
    {
     "data": {
      "text/plain": "        id  seed       teamname  year          coach_id  pt_team_season_wins  \\\n0     1104     2        Alabama  2002  mark-gottfried-1                 26.0   \n0     1194    15    FL Atlantic  2002    sidney-green-1                 19.0   \n1     1364    14  Santa Barbara  2002    bob-williams-1                 20.0   \n1     1112     3        Arizona  2002      lute-olson-1                 22.0   \n2     1112     3        Arizona  2002      lute-olson-1                 22.0   \n...    ...   ...            ...   ...               ...                  ...   \n1310  1437     2      Villanova  2022      jay-wright-1                 26.0   \n1311  1159    14        Colgate  2022     matt-langel-1                 23.0   \n1311  1458     3      Wisconsin  2022       greg-gard-1                 24.0   \n1312  1460    16      Wright St  2022      scott-nagy-1                 21.0   \n1312  1136    16         Bryant  2022    jared-grasso-1                 22.0   \n\n      pt_team_season_losses  ap_preseason  coaches_preseason     fg2pct  ...  \\\n0                         7          24.0                NaN  50.657900  ...   \n0                        11           NaN                NaN  45.035500  ...   \n1                        10           NaN                NaN  47.041400  ...   \n1                         9           NaN                NaN  50.000000  ...   \n2                         9           NaN                NaN  50.000000  ...   \n...                     ...           ...                ...        ...  ...   \n1310                      7           4.0                4.0  50.348953  ...   \n1311                     11           NaN                NaN  52.712477  ...   \n1311                      7           NaN                NaN  48.927039  ...   \n1312                     13           NaN                NaN  53.206107  ...   \n1312                      9           NaN                NaN  52.631579  ...   \n\n         adjoe     adjde         game_id  seed_diff      dist_km   exp_win  \\\n0     111.4954   93.8770  2002-1104-1194         13   971.569051  0.878465   \n0      96.8669   99.9263  2002-1104-1194        -13  1055.792866  0.411542   \n1     105.4534   97.6704  2002-1112-1364        -11  1213.507998  0.707177   \n1     117.3877   96.9262  2002-1112-1364         11   513.706780  0.900485   \n2     117.3877   96.9262  2002-1112-1461          8   513.706780  0.900485   \n...        ...       ...             ...        ...          ...       ...   \n1310  117.9210   93.8099  2022-1437-1326          5   398.534770  0.932803   \n1311  108.2790  104.0600  2022-1458-1159        -11  1012.808714  0.612314   \n1311  110.3500   94.7570  2022-1458-1159         11   118.580022  0.852196   \n1312  106.3610  107.2160  2022-1460-1136          0    11.118637  0.476997   \n1312  104.1970  105.1650  2022-1460-1136          0  1092.637005  0.473439   \n\n          log5  shooting_%  opp_shooting%  winner  \n0     0.911780   44.590490      42.342928       1  \n0     0.088220   43.104531      44.851876       0  \n1     0.210667   48.737690      42.009215       0  \n1     0.789333   47.658492      45.038889       1  \n2     0.757288   47.658492      45.038889       1  \n...        ...         ...            ...     ...  \n1310  0.721993   48.468888      44.005522       1  \n1311  0.215029   49.184447      44.075152       0  \n1311  0.784971   44.284244      44.101694       1  \n1312  0.503567   47.020595      45.986912       1  \n1312  0.496433   45.109157      43.063965       0  \n\n[2626 rows x 34 columns]",
      "text/html": "<div>\n<style scoped>\n    .dataframe tbody tr th:only-of-type {\n        vertical-align: middle;\n    }\n\n    .dataframe tbody tr th {\n        vertical-align: top;\n    }\n\n    .dataframe thead th {\n        text-align: right;\n    }\n</style>\n<table border=\"1\" class=\"dataframe\">\n  <thead>\n    <tr style=\"text-align: right;\">\n      <th></th>\n      <th>id</th>\n      <th>seed</th>\n      <th>teamname</th>\n      <th>year</th>\n      <th>coach_id</th>\n      <th>pt_team_season_wins</th>\n      <th>pt_team_season_losses</th>\n      <th>ap_preseason</th>\n      <th>coaches_preseason</th>\n      <th>fg2pct</th>\n      <th>...</th>\n      <th>adjoe</th>\n      <th>adjde</th>\n      <th>game_id</th>\n      <th>seed_diff</th>\n      <th>dist_km</th>\n      <th>exp_win</th>\n      <th>log5</th>\n      <th>shooting_%</th>\n      <th>opp_shooting%</th>\n      <th>winner</th>\n    </tr>\n  </thead>\n  <tbody>\n    <tr>\n      <th>0</th>\n      <td>1104</td>\n      <td>2</td>\n      <td>Alabama</td>\n      <td>2002</td>\n      <td>mark-gottfried-1</td>\n      <td>26.0</td>\n      <td>7</td>\n      <td>24.0</td>\n      <td>NaN</td>\n      <td>50.657900</td>\n      <td>...</td>\n      <td>111.4954</td>\n      <td>93.8770</td>\n      <td>2002-1104-1194</td>\n      <td>13</td>\n      <td>971.569051</td>\n      <td>0.878465</td>\n      <td>0.911780</td>\n      <td>44.590490</td>\n      <td>42.342928</td>\n      <td>1</td>\n    </tr>\n    <tr>\n      <th>0</th>\n      <td>1194</td>\n      <td>15</td>\n      <td>FL Atlantic</td>\n      <td>2002</td>\n      <td>sidney-green-1</td>\n      <td>19.0</td>\n      <td>11</td>\n      <td>NaN</td>\n      <td>NaN</td>\n      <td>45.035500</td>\n      <td>...</td>\n      <td>96.8669</td>\n      <td>99.9263</td>\n      <td>2002-1104-1194</td>\n      <td>-13</td>\n      <td>1055.792866</td>\n      <td>0.411542</td>\n      <td>0.088220</td>\n      <td>43.104531</td>\n      <td>44.851876</td>\n      <td>0</td>\n    </tr>\n    <tr>\n      <th>1</th>\n      <td>1364</td>\n      <td>14</td>\n      <td>Santa Barbara</td>\n      <td>2002</td>\n      <td>bob-williams-1</td>\n      <td>20.0</td>\n      <td>10</td>\n      <td>NaN</td>\n      <td>NaN</td>\n      <td>47.041400</td>\n      <td>...</td>\n      <td>105.4534</td>\n      <td>97.6704</td>\n      <td>2002-1112-1364</td>\n      <td>-11</td>\n      <td>1213.507998</td>\n      <td>0.707177</td>\n      <td>0.210667</td>\n      <td>48.737690</td>\n      <td>42.009215</td>\n      <td>0</td>\n    </tr>\n    <tr>\n      <th>1</th>\n      <td>1112</td>\n      <td>3</td>\n      <td>Arizona</td>\n      <td>2002</td>\n      <td>lute-olson-1</td>\n      <td>22.0</td>\n      <td>9</td>\n      <td>NaN</td>\n      <td>NaN</td>\n      <td>50.000000</td>\n      <td>...</td>\n      <td>117.3877</td>\n      <td>96.9262</td>\n      <td>2002-1112-1364</td>\n      <td>11</td>\n      <td>513.706780</td>\n      <td>0.900485</td>\n      <td>0.789333</td>\n      <td>47.658492</td>\n      <td>45.038889</td>\n      <td>1</td>\n    </tr>\n    <tr>\n      <th>2</th>\n      <td>1112</td>\n      <td>3</td>\n      <td>Arizona</td>\n      <td>2002</td>\n      <td>lute-olson-1</td>\n      <td>22.0</td>\n      <td>9</td>\n      <td>NaN</td>\n      <td>NaN</td>\n      <td>50.000000</td>\n      <td>...</td>\n      <td>117.3877</td>\n      <td>96.9262</td>\n      <td>2002-1112-1461</td>\n      <td>8</td>\n      <td>513.706780</td>\n      <td>0.900485</td>\n      <td>0.757288</td>\n      <td>47.658492</td>\n      <td>45.038889</td>\n      <td>1</td>\n    </tr>\n    <tr>\n      <th>...</th>\n      <td>...</td>\n      <td>...</td>\n      <td>...</td>\n      <td>...</td>\n      <td>...</td>\n      <td>...</td>\n      <td>...</td>\n      <td>...</td>\n      <td>...</td>\n      <td>...</td>\n      <td>...</td>\n      <td>...</td>\n      <td>...</td>\n      <td>...</td>\n      <td>...</td>\n      <td>...</td>\n      <td>...</td>\n      <td>...</td>\n      <td>...</td>\n      <td>...</td>\n      <td>...</td>\n    </tr>\n    <tr>\n      <th>1310</th>\n      <td>1437</td>\n      <td>2</td>\n      <td>Villanova</td>\n      <td>2022</td>\n      <td>jay-wright-1</td>\n      <td>26.0</td>\n      <td>7</td>\n      <td>4.0</td>\n      <td>4.0</td>\n      <td>50.348953</td>\n      <td>...</td>\n      <td>117.9210</td>\n      <td>93.8099</td>\n      <td>2022-1437-1326</td>\n      <td>5</td>\n      <td>398.534770</td>\n      <td>0.932803</td>\n      <td>0.721993</td>\n      <td>48.468888</td>\n      <td>44.005522</td>\n      <td>1</td>\n    </tr>\n    <tr>\n      <th>1311</th>\n      <td>1159</td>\n      <td>14</td>\n      <td>Colgate</td>\n      <td>2022</td>\n      <td>matt-langel-1</td>\n      <td>23.0</td>\n      <td>11</td>\n      <td>NaN</td>\n      <td>NaN</td>\n      <td>52.712477</td>\n      <td>...</td>\n      <td>108.2790</td>\n      <td>104.0600</td>\n      <td>2022-1458-1159</td>\n      <td>-11</td>\n      <td>1012.808714</td>\n      <td>0.612314</td>\n      <td>0.215029</td>\n      <td>49.184447</td>\n      <td>44.075152</td>\n      <td>0</td>\n    </tr>\n    <tr>\n      <th>1311</th>\n      <td>1458</td>\n      <td>3</td>\n      <td>Wisconsin</td>\n      <td>2022</td>\n      <td>greg-gard-1</td>\n      <td>24.0</td>\n      <td>7</td>\n      <td>NaN</td>\n      <td>NaN</td>\n      <td>48.927039</td>\n      <td>...</td>\n      <td>110.3500</td>\n      <td>94.7570</td>\n      <td>2022-1458-1159</td>\n      <td>11</td>\n      <td>118.580022</td>\n      <td>0.852196</td>\n      <td>0.784971</td>\n      <td>44.284244</td>\n      <td>44.101694</td>\n      <td>1</td>\n    </tr>\n    <tr>\n      <th>1312</th>\n      <td>1460</td>\n      <td>16</td>\n      <td>Wright St</td>\n      <td>2022</td>\n      <td>scott-nagy-1</td>\n      <td>21.0</td>\n      <td>13</td>\n      <td>NaN</td>\n      <td>NaN</td>\n      <td>53.206107</td>\n      <td>...</td>\n      <td>106.3610</td>\n      <td>107.2160</td>\n      <td>2022-1460-1136</td>\n      <td>0</td>\n      <td>11.118637</td>\n      <td>0.476997</td>\n      <td>0.503567</td>\n      <td>47.020595</td>\n      <td>45.986912</td>\n      <td>1</td>\n    </tr>\n    <tr>\n      <th>1312</th>\n      <td>1136</td>\n      <td>16</td>\n      <td>Bryant</td>\n      <td>2022</td>\n      <td>jared-grasso-1</td>\n      <td>22.0</td>\n      <td>9</td>\n      <td>NaN</td>\n      <td>NaN</td>\n      <td>52.631579</td>\n      <td>...</td>\n      <td>104.1970</td>\n      <td>105.1650</td>\n      <td>2022-1460-1136</td>\n      <td>0</td>\n      <td>1092.637005</td>\n      <td>0.473439</td>\n      <td>0.496433</td>\n      <td>45.109157</td>\n      <td>43.063965</td>\n      <td>0</td>\n    </tr>\n  </tbody>\n</table>\n<p>2626 rows × 34 columns</p>\n</div>"
     },
     "execution_count": 8,
     "metadata": {},
     "output_type": "execute_result"
    }
   ],
   "source": [
    "# Make copy of df\n",
    "df_ncaa_1 = df_ncaa.copy()\n",
    "\n",
    "# Drop unadjusted efficiency columns\n",
    "unadjusted_eff = ['tempo', 'oe', 'de']\n",
    "df_ncaa_1 = df_ncaa_1.drop(columns=unadjusted_eff)\n",
    "\n",
    "# Drop all columns related to aggregated coach stats & irrelevant season rankings\n",
    "search_text = ['school', 'overall', 'career', 'coach_season', 'final', 'position', 'region', 'lat', 'long']\n",
    "\n",
    "# Drop columns based on each item in the search list\n",
    "for item in search_text:\n",
    "    df_ncaa_1 = df_ncaa_1.drop(columns=[col for col in df_ncaa_1.columns if item in col])\n",
    "\n",
    "# Preview df\n",
    "df_ncaa_1"
   ],
   "metadata": {
    "collapsed": false,
    "ExecuteTime": {
     "end_time": "2024-03-11T01:09:13.114968Z",
     "start_time": "2024-03-11T01:09:13.061622Z"
    }
   },
   "id": "1cfc2719bab510d3"
  },
  {
   "cell_type": "code",
   "execution_count": 9,
   "outputs": [
    {
     "data": {
      "text/plain": "        id  seed        teamname  year           coach_id  season_wins  \\\n0     1104     2         Alabama  2002   mark-gottfried-1         26.0   \n1     1104     2         Alabama  2002   mark-gottfried-1         26.0   \n2     1194    15     FL Atlantic  2002     sidney-green-1         19.0   \n3     1364    14   Santa Barbara  2002     bob-williams-1         20.0   \n4     1112     3         Arizona  2002       lute-olson-1         22.0   \n...    ...   ...             ...   ...                ...          ...   \n2621  1394    16  TAM C. Christi  2022       steve-lutz-1         23.0   \n2622  1103    13           Akron  2022       john-groce-1         24.0   \n2623  1174    15        Delaware  2022  martin-ingelsby-1         22.0   \n2624  1159    14         Colgate  2022      matt-langel-1         23.0   \n2625  1136    16          Bryant  2022     jared-grasso-1         22.0   \n\n      season_losses  ap_preseason  coaches_preseason     fg2pct  ...  \\\n0                 7          24.0                NaN  50.657900  ...   \n1                 7          24.0                NaN  50.657900  ...   \n2                11           NaN                NaN  45.035500  ...   \n3                10           NaN                NaN  47.041400  ...   \n4                 9           NaN                NaN  50.000000  ...   \n...             ...           ...                ...        ...  ...   \n2621             11           NaN                NaN  47.283049  ...   \n2622              9           NaN                NaN  52.396166  ...   \n2623             12           NaN                NaN  54.181495  ...   \n2624             11           NaN                NaN  52.712477  ...   \n2625              9           NaN                NaN  52.631579  ...   \n\n       exp_win      log5  shooting_%  opp_shooting%  winner  \\\n0     0.878465  0.911780   44.590490      42.342928       1   \n1     0.878465  0.514803   44.590490      42.342928       0   \n2     0.411542  0.088220   43.104531      44.851876       0   \n3     0.707177  0.210667   48.737690      42.009215       0   \n4     0.900485  0.789333   47.658492      45.038889       1   \n...        ...       ...         ...            ...     ...   \n2621  0.326876  0.361803   44.045657      45.152172       0   \n2622  0.594898  0.084304   46.786234      45.034946       0   \n2623  0.562108  0.084645   47.948529      45.937261       0   \n2624  0.612314  0.215029   49.184447      44.075152       0   \n2625  0.473439  0.496433   45.109157      43.063965       0   \n\n      coach_overall_ncaa  coach_overall_s16  coach_overall_ff  \\\n0                    2.0                0.0               0.0   \n1                    2.0                0.0               0.0   \n2                    0.0                0.0               0.0   \n3                    0.0                0.0               0.0   \n4                   22.0               10.0               5.0   \n...                  ...                ...               ...   \n2621                 0.0                0.0               0.0   \n2622                 3.0                1.0               0.0   \n2623                 0.0                0.0               0.0   \n2624                 2.0                0.0               0.0   \n2625                 0.0                0.0               0.0   \n\n      coach_career_overall_wins  coach_career_overall_losses  \n0                         149.0                           73  \n1                         149.0                           73  \n2                          28.0                           63  \n3                          62.0                           52  \n4                         656.0                          239  \n...                         ...                          ...  \n2621                       23.0                           11  \n2622                      274.0                          189  \n2623                       95.0                           86  \n2624                      176.0                          164  \n2625                       63.0                           75  \n\n[2626 rows x 39 columns]",
      "text/html": "<div>\n<style scoped>\n    .dataframe tbody tr th:only-of-type {\n        vertical-align: middle;\n    }\n\n    .dataframe tbody tr th {\n        vertical-align: top;\n    }\n\n    .dataframe thead th {\n        text-align: right;\n    }\n</style>\n<table border=\"1\" class=\"dataframe\">\n  <thead>\n    <tr style=\"text-align: right;\">\n      <th></th>\n      <th>id</th>\n      <th>seed</th>\n      <th>teamname</th>\n      <th>year</th>\n      <th>coach_id</th>\n      <th>season_wins</th>\n      <th>season_losses</th>\n      <th>ap_preseason</th>\n      <th>coaches_preseason</th>\n      <th>fg2pct</th>\n      <th>...</th>\n      <th>exp_win</th>\n      <th>log5</th>\n      <th>shooting_%</th>\n      <th>opp_shooting%</th>\n      <th>winner</th>\n      <th>coach_overall_ncaa</th>\n      <th>coach_overall_s16</th>\n      <th>coach_overall_ff</th>\n      <th>coach_career_overall_wins</th>\n      <th>coach_career_overall_losses</th>\n    </tr>\n  </thead>\n  <tbody>\n    <tr>\n      <th>0</th>\n      <td>1104</td>\n      <td>2</td>\n      <td>Alabama</td>\n      <td>2002</td>\n      <td>mark-gottfried-1</td>\n      <td>26.0</td>\n      <td>7</td>\n      <td>24.0</td>\n      <td>NaN</td>\n      <td>50.657900</td>\n      <td>...</td>\n      <td>0.878465</td>\n      <td>0.911780</td>\n      <td>44.590490</td>\n      <td>42.342928</td>\n      <td>1</td>\n      <td>2.0</td>\n      <td>0.0</td>\n      <td>0.0</td>\n      <td>149.0</td>\n      <td>73</td>\n    </tr>\n    <tr>\n      <th>1</th>\n      <td>1104</td>\n      <td>2</td>\n      <td>Alabama</td>\n      <td>2002</td>\n      <td>mark-gottfried-1</td>\n      <td>26.0</td>\n      <td>7</td>\n      <td>24.0</td>\n      <td>NaN</td>\n      <td>50.657900</td>\n      <td>...</td>\n      <td>0.878465</td>\n      <td>0.514803</td>\n      <td>44.590490</td>\n      <td>42.342928</td>\n      <td>0</td>\n      <td>2.0</td>\n      <td>0.0</td>\n      <td>0.0</td>\n      <td>149.0</td>\n      <td>73</td>\n    </tr>\n    <tr>\n      <th>2</th>\n      <td>1194</td>\n      <td>15</td>\n      <td>FL Atlantic</td>\n      <td>2002</td>\n      <td>sidney-green-1</td>\n      <td>19.0</td>\n      <td>11</td>\n      <td>NaN</td>\n      <td>NaN</td>\n      <td>45.035500</td>\n      <td>...</td>\n      <td>0.411542</td>\n      <td>0.088220</td>\n      <td>43.104531</td>\n      <td>44.851876</td>\n      <td>0</td>\n      <td>0.0</td>\n      <td>0.0</td>\n      <td>0.0</td>\n      <td>28.0</td>\n      <td>63</td>\n    </tr>\n    <tr>\n      <th>3</th>\n      <td>1364</td>\n      <td>14</td>\n      <td>Santa Barbara</td>\n      <td>2002</td>\n      <td>bob-williams-1</td>\n      <td>20.0</td>\n      <td>10</td>\n      <td>NaN</td>\n      <td>NaN</td>\n      <td>47.041400</td>\n      <td>...</td>\n      <td>0.707177</td>\n      <td>0.210667</td>\n      <td>48.737690</td>\n      <td>42.009215</td>\n      <td>0</td>\n      <td>0.0</td>\n      <td>0.0</td>\n      <td>0.0</td>\n      <td>62.0</td>\n      <td>52</td>\n    </tr>\n    <tr>\n      <th>4</th>\n      <td>1112</td>\n      <td>3</td>\n      <td>Arizona</td>\n      <td>2002</td>\n      <td>lute-olson-1</td>\n      <td>22.0</td>\n      <td>9</td>\n      <td>NaN</td>\n      <td>NaN</td>\n      <td>50.000000</td>\n      <td>...</td>\n      <td>0.900485</td>\n      <td>0.789333</td>\n      <td>47.658492</td>\n      <td>45.038889</td>\n      <td>1</td>\n      <td>22.0</td>\n      <td>10.0</td>\n      <td>5.0</td>\n      <td>656.0</td>\n      <td>239</td>\n    </tr>\n    <tr>\n      <th>...</th>\n      <td>...</td>\n      <td>...</td>\n      <td>...</td>\n      <td>...</td>\n      <td>...</td>\n      <td>...</td>\n      <td>...</td>\n      <td>...</td>\n      <td>...</td>\n      <td>...</td>\n      <td>...</td>\n      <td>...</td>\n      <td>...</td>\n      <td>...</td>\n      <td>...</td>\n      <td>...</td>\n      <td>...</td>\n      <td>...</td>\n      <td>...</td>\n      <td>...</td>\n      <td>...</td>\n    </tr>\n    <tr>\n      <th>2621</th>\n      <td>1394</td>\n      <td>16</td>\n      <td>TAM C. Christi</td>\n      <td>2022</td>\n      <td>steve-lutz-1</td>\n      <td>23.0</td>\n      <td>11</td>\n      <td>NaN</td>\n      <td>NaN</td>\n      <td>47.283049</td>\n      <td>...</td>\n      <td>0.326876</td>\n      <td>0.361803</td>\n      <td>44.045657</td>\n      <td>45.152172</td>\n      <td>0</td>\n      <td>0.0</td>\n      <td>0.0</td>\n      <td>0.0</td>\n      <td>23.0</td>\n      <td>11</td>\n    </tr>\n    <tr>\n      <th>2622</th>\n      <td>1103</td>\n      <td>13</td>\n      <td>Akron</td>\n      <td>2022</td>\n      <td>john-groce-1</td>\n      <td>24.0</td>\n      <td>9</td>\n      <td>NaN</td>\n      <td>NaN</td>\n      <td>52.396166</td>\n      <td>...</td>\n      <td>0.594898</td>\n      <td>0.084304</td>\n      <td>46.786234</td>\n      <td>45.034946</td>\n      <td>0</td>\n      <td>3.0</td>\n      <td>1.0</td>\n      <td>0.0</td>\n      <td>274.0</td>\n      <td>189</td>\n    </tr>\n    <tr>\n      <th>2623</th>\n      <td>1174</td>\n      <td>15</td>\n      <td>Delaware</td>\n      <td>2022</td>\n      <td>martin-ingelsby-1</td>\n      <td>22.0</td>\n      <td>12</td>\n      <td>NaN</td>\n      <td>NaN</td>\n      <td>54.181495</td>\n      <td>...</td>\n      <td>0.562108</td>\n      <td>0.084645</td>\n      <td>47.948529</td>\n      <td>45.937261</td>\n      <td>0</td>\n      <td>0.0</td>\n      <td>0.0</td>\n      <td>0.0</td>\n      <td>95.0</td>\n      <td>86</td>\n    </tr>\n    <tr>\n      <th>2624</th>\n      <td>1159</td>\n      <td>14</td>\n      <td>Colgate</td>\n      <td>2022</td>\n      <td>matt-langel-1</td>\n      <td>23.0</td>\n      <td>11</td>\n      <td>NaN</td>\n      <td>NaN</td>\n      <td>52.712477</td>\n      <td>...</td>\n      <td>0.612314</td>\n      <td>0.215029</td>\n      <td>49.184447</td>\n      <td>44.075152</td>\n      <td>0</td>\n      <td>2.0</td>\n      <td>0.0</td>\n      <td>0.0</td>\n      <td>176.0</td>\n      <td>164</td>\n    </tr>\n    <tr>\n      <th>2625</th>\n      <td>1136</td>\n      <td>16</td>\n      <td>Bryant</td>\n      <td>2022</td>\n      <td>jared-grasso-1</td>\n      <td>22.0</td>\n      <td>9</td>\n      <td>NaN</td>\n      <td>NaN</td>\n      <td>52.631579</td>\n      <td>...</td>\n      <td>0.473439</td>\n      <td>0.496433</td>\n      <td>45.109157</td>\n      <td>43.063965</td>\n      <td>0</td>\n      <td>0.0</td>\n      <td>0.0</td>\n      <td>0.0</td>\n      <td>63.0</td>\n      <td>75</td>\n    </tr>\n  </tbody>\n</table>\n<p>2626 rows × 39 columns</p>\n</div>"
     },
     "execution_count": 9,
     "metadata": {},
     "output_type": "execute_result"
    }
   ],
   "source": [
    "# Get stats for each coach by year\n",
    "df_coaches = df_ncaa.copy()\n",
    "\n",
    "# Grab relevant columns, sort data, remove duplicates\n",
    "df_coaches = df_coaches.filter(regex=\"coach_id|overall|year\")\n",
    "df_coaches = df_coaches.sort_values('coach_id')\n",
    "df_coaches = df_coaches.drop_duplicates(subset=['coach_id', 'year'], keep='first')\n",
    "\n",
    "# Make copy of df\n",
    "df_ncaa_2 = df_ncaa_1.copy()\n",
    "\n",
    "# Join datasets to get coach stats by season\n",
    "df_ncaa_2 = pd.merge(df_ncaa_2, df_coaches, on=['coach_id', 'year'], how='inner')\n",
    "\n",
    "# Rename pt_ columns\n",
    "df_ncaa_2 = updateColNames(df_ncaa_2, \"pt_team_\", new_prefix)\n",
    "df_ncaa_2 = updateColNames(df_ncaa_2, \"pt_\", \"coach_\")\n",
    "\n",
    "df_ncaa_2"
   ],
   "metadata": {
    "collapsed": false,
    "ExecuteTime": {
     "end_time": "2024-03-11T01:09:13.116306Z",
     "start_time": "2024-03-11T01:09:13.085828Z"
    }
   },
   "id": "8cafc3eb1eded2a5"
  },
  {
   "cell_type": "code",
   "execution_count": 10,
   "outputs": [],
   "source": [
    "# Add coach/team stats\n",
    "\n",
    "# Add coach S16/F4 rate fields\n",
    "df_ncaa_2['coach_s16_rate'] = df_ncaa_2['coach_overall_s16']/df_ncaa_2['coach_overall_ncaa']\n",
    "df_ncaa_2['coach_f4_rate'] = df_ncaa_2['coach_overall_ff']/df_ncaa_2['coach_overall_ncaa']\n",
    "\n",
    "# Calculate coach career winning %\n",
    "df_ncaa_2['coach_career_win_%'] = df_ncaa_2['coach_career_overall_wins']/(df_ncaa_2['coach_career_overall_wins'] + df_ncaa_2['coach_career_overall_losses'])\n",
    "\n",
    "# Calculate team winning %\n",
    "df_ncaa_2['team_season_win_%'] = df_ncaa_2['season_wins']/(df_ncaa_2['season_wins'] + df_ncaa_2['season_losses'])\n",
    "\n",
    "# Remove team/coach win-loss columns\n",
    "coach_team_drop = ['coach_career_overall_wins', 'coach_career_overall_losses', 'season_wins', 'season_losses', 'coach_overall_ncaa', 'coach_overall_s16', 'coach_overall_ff']\n",
    "\n",
    "df_ncaa_2 = df_ncaa_2.drop(columns=coach_team_drop)\n",
    "\n",
    "# Fill NA's due to % calculations\n",
    "df_ncaa_2 = df_ncaa_2.fillna(value=0)"
   ],
   "metadata": {
    "collapsed": false,
    "ExecuteTime": {
     "end_time": "2024-03-11T01:09:13.162443Z",
     "start_time": "2024-03-11T01:09:13.105878Z"
    }
   },
   "id": "59acf90e1cc61641"
  },
  {
   "cell_type": "code",
   "execution_count": 11,
   "outputs": [
    {
     "data": {
      "text/plain": "        id  seed       teamname  year          coach_id  ap_preseason  \\\n0     1104     2        Alabama  2002  mark-gottfried-1          24.0   \n1     1194    15    FL Atlantic  2002    sidney-green-1           0.0   \n2     1364    14  Santa Barbara  2002    bob-williams-1           0.0   \n3     1112     3        Arizona  2002      lute-olson-1           0.0   \n4     1112     3        Arizona  2002      lute-olson-1           0.0   \n...    ...   ...            ...   ...               ...           ...   \n2621  1326     7        Ohio St  2022  chris-holtmann-1          17.0   \n2622  1458     3      Wisconsin  2022       greg-gard-1           0.0   \n2623  1159    14        Colgate  2022     matt-langel-1           0.0   \n2624  1460    16      Wright St  2022      scott-nagy-1           0.0   \n2625  1136    16         Bryant  2022    jared-grasso-1           0.0   \n\n      coaches_preseason     fg2pct     fg3pct      ftpct  ...  shooting_%  \\\n0                   0.0  50.657900  30.867700  73.578200  ...   44.590490   \n1                   0.0  45.035500  33.911400  66.778500  ...   43.104531   \n2                   0.0  47.041400  40.824700  75.811700  ...   48.737690   \n3                   0.0  50.000000  37.609300  73.076900  ...   47.658492   \n4                   0.0  50.000000  37.609300  73.076900  ...   47.658492   \n...                 ...        ...        ...        ...  ...         ...   \n2621               17.0  53.993933  37.327189  75.956284  ...   49.328274   \n2622                0.0  48.927039  31.202435  74.193548  ...   44.284244   \n2623                0.0  52.712477  40.124224  69.275930  ...   49.184447   \n2624                0.0  53.206107  33.015873  76.616915  ...   47.020595   \n2625                0.0  52.631579  30.665025  73.355263  ...   45.109157   \n\n      opp_shooting%  winner  coach_s16_rate  coach_f4_rate  \\\n0         42.342928       1        0.000000       0.000000   \n1         44.851876       0        0.000000       0.000000   \n2         42.009215       0        0.000000       0.000000   \n3         45.038889       1        0.454545       0.227273   \n4         45.038889       1        0.454545       0.227273   \n...             ...     ...             ...            ...   \n2621      44.641655       0        0.166667       0.000000   \n2622      44.101694       1        0.500000       0.000000   \n2623      44.075152       0        0.000000       0.000000   \n2624      45.986912       1        0.000000       0.000000   \n2625      43.063965       0        0.000000       0.000000   \n\n      coach_career_win_%  team_season_win_%  ap_preseason_ranked  \\\n0               0.671171           0.787879                    1   \n1               0.307692           0.633333                    1   \n2               0.543860           0.666667                    1   \n3               0.732961           0.709677                    1   \n4               0.732961           0.709677                    1   \n...                  ...                ...                  ...   \n2621            0.611111           0.633333                    1   \n2622            0.650000           0.774194                    1   \n2623            0.517647           0.676471                    1   \n2624            0.587156           0.617647                    1   \n2625            0.456522           0.709677                    1   \n\n      coaches_preseason_ranked  seed_tier  \n0                            1          1  \n1                            1          4  \n2                            1          4  \n3                            1          1  \n4                            1          1  \n...                        ...        ...  \n2621                         1          2  \n2622                         1          1  \n2623                         1          4  \n2624                         1          4  \n2625                         1          4  \n\n[2626 rows x 39 columns]",
      "text/html": "<div>\n<style scoped>\n    .dataframe tbody tr th:only-of-type {\n        vertical-align: middle;\n    }\n\n    .dataframe tbody tr th {\n        vertical-align: top;\n    }\n\n    .dataframe thead th {\n        text-align: right;\n    }\n</style>\n<table border=\"1\" class=\"dataframe\">\n  <thead>\n    <tr style=\"text-align: right;\">\n      <th></th>\n      <th>id</th>\n      <th>seed</th>\n      <th>teamname</th>\n      <th>year</th>\n      <th>coach_id</th>\n      <th>ap_preseason</th>\n      <th>coaches_preseason</th>\n      <th>fg2pct</th>\n      <th>fg3pct</th>\n      <th>ftpct</th>\n      <th>...</th>\n      <th>shooting_%</th>\n      <th>opp_shooting%</th>\n      <th>winner</th>\n      <th>coach_s16_rate</th>\n      <th>coach_f4_rate</th>\n      <th>coach_career_win_%</th>\n      <th>team_season_win_%</th>\n      <th>ap_preseason_ranked</th>\n      <th>coaches_preseason_ranked</th>\n      <th>seed_tier</th>\n    </tr>\n  </thead>\n  <tbody>\n    <tr>\n      <th>0</th>\n      <td>1104</td>\n      <td>2</td>\n      <td>Alabama</td>\n      <td>2002</td>\n      <td>mark-gottfried-1</td>\n      <td>24.0</td>\n      <td>0.0</td>\n      <td>50.657900</td>\n      <td>30.867700</td>\n      <td>73.578200</td>\n      <td>...</td>\n      <td>44.590490</td>\n      <td>42.342928</td>\n      <td>1</td>\n      <td>0.000000</td>\n      <td>0.000000</td>\n      <td>0.671171</td>\n      <td>0.787879</td>\n      <td>1</td>\n      <td>1</td>\n      <td>1</td>\n    </tr>\n    <tr>\n      <th>1</th>\n      <td>1194</td>\n      <td>15</td>\n      <td>FL Atlantic</td>\n      <td>2002</td>\n      <td>sidney-green-1</td>\n      <td>0.0</td>\n      <td>0.0</td>\n      <td>45.035500</td>\n      <td>33.911400</td>\n      <td>66.778500</td>\n      <td>...</td>\n      <td>43.104531</td>\n      <td>44.851876</td>\n      <td>0</td>\n      <td>0.000000</td>\n      <td>0.000000</td>\n      <td>0.307692</td>\n      <td>0.633333</td>\n      <td>1</td>\n      <td>1</td>\n      <td>4</td>\n    </tr>\n    <tr>\n      <th>2</th>\n      <td>1364</td>\n      <td>14</td>\n      <td>Santa Barbara</td>\n      <td>2002</td>\n      <td>bob-williams-1</td>\n      <td>0.0</td>\n      <td>0.0</td>\n      <td>47.041400</td>\n      <td>40.824700</td>\n      <td>75.811700</td>\n      <td>...</td>\n      <td>48.737690</td>\n      <td>42.009215</td>\n      <td>0</td>\n      <td>0.000000</td>\n      <td>0.000000</td>\n      <td>0.543860</td>\n      <td>0.666667</td>\n      <td>1</td>\n      <td>1</td>\n      <td>4</td>\n    </tr>\n    <tr>\n      <th>3</th>\n      <td>1112</td>\n      <td>3</td>\n      <td>Arizona</td>\n      <td>2002</td>\n      <td>lute-olson-1</td>\n      <td>0.0</td>\n      <td>0.0</td>\n      <td>50.000000</td>\n      <td>37.609300</td>\n      <td>73.076900</td>\n      <td>...</td>\n      <td>47.658492</td>\n      <td>45.038889</td>\n      <td>1</td>\n      <td>0.454545</td>\n      <td>0.227273</td>\n      <td>0.732961</td>\n      <td>0.709677</td>\n      <td>1</td>\n      <td>1</td>\n      <td>1</td>\n    </tr>\n    <tr>\n      <th>4</th>\n      <td>1112</td>\n      <td>3</td>\n      <td>Arizona</td>\n      <td>2002</td>\n      <td>lute-olson-1</td>\n      <td>0.0</td>\n      <td>0.0</td>\n      <td>50.000000</td>\n      <td>37.609300</td>\n      <td>73.076900</td>\n      <td>...</td>\n      <td>47.658492</td>\n      <td>45.038889</td>\n      <td>1</td>\n      <td>0.454545</td>\n      <td>0.227273</td>\n      <td>0.732961</td>\n      <td>0.709677</td>\n      <td>1</td>\n      <td>1</td>\n      <td>1</td>\n    </tr>\n    <tr>\n      <th>...</th>\n      <td>...</td>\n      <td>...</td>\n      <td>...</td>\n      <td>...</td>\n      <td>...</td>\n      <td>...</td>\n      <td>...</td>\n      <td>...</td>\n      <td>...</td>\n      <td>...</td>\n      <td>...</td>\n      <td>...</td>\n      <td>...</td>\n      <td>...</td>\n      <td>...</td>\n      <td>...</td>\n      <td>...</td>\n      <td>...</td>\n      <td>...</td>\n      <td>...</td>\n      <td>...</td>\n    </tr>\n    <tr>\n      <th>2621</th>\n      <td>1326</td>\n      <td>7</td>\n      <td>Ohio St</td>\n      <td>2022</td>\n      <td>chris-holtmann-1</td>\n      <td>17.0</td>\n      <td>17.0</td>\n      <td>53.993933</td>\n      <td>37.327189</td>\n      <td>75.956284</td>\n      <td>...</td>\n      <td>49.328274</td>\n      <td>44.641655</td>\n      <td>0</td>\n      <td>0.166667</td>\n      <td>0.000000</td>\n      <td>0.611111</td>\n      <td>0.633333</td>\n      <td>1</td>\n      <td>1</td>\n      <td>2</td>\n    </tr>\n    <tr>\n      <th>2622</th>\n      <td>1458</td>\n      <td>3</td>\n      <td>Wisconsin</td>\n      <td>2022</td>\n      <td>greg-gard-1</td>\n      <td>0.0</td>\n      <td>0.0</td>\n      <td>48.927039</td>\n      <td>31.202435</td>\n      <td>74.193548</td>\n      <td>...</td>\n      <td>44.284244</td>\n      <td>44.101694</td>\n      <td>1</td>\n      <td>0.500000</td>\n      <td>0.000000</td>\n      <td>0.650000</td>\n      <td>0.774194</td>\n      <td>1</td>\n      <td>1</td>\n      <td>1</td>\n    </tr>\n    <tr>\n      <th>2623</th>\n      <td>1159</td>\n      <td>14</td>\n      <td>Colgate</td>\n      <td>2022</td>\n      <td>matt-langel-1</td>\n      <td>0.0</td>\n      <td>0.0</td>\n      <td>52.712477</td>\n      <td>40.124224</td>\n      <td>69.275930</td>\n      <td>...</td>\n      <td>49.184447</td>\n      <td>44.075152</td>\n      <td>0</td>\n      <td>0.000000</td>\n      <td>0.000000</td>\n      <td>0.517647</td>\n      <td>0.676471</td>\n      <td>1</td>\n      <td>1</td>\n      <td>4</td>\n    </tr>\n    <tr>\n      <th>2624</th>\n      <td>1460</td>\n      <td>16</td>\n      <td>Wright St</td>\n      <td>2022</td>\n      <td>scott-nagy-1</td>\n      <td>0.0</td>\n      <td>0.0</td>\n      <td>53.206107</td>\n      <td>33.015873</td>\n      <td>76.616915</td>\n      <td>...</td>\n      <td>47.020595</td>\n      <td>45.986912</td>\n      <td>1</td>\n      <td>0.000000</td>\n      <td>0.000000</td>\n      <td>0.587156</td>\n      <td>0.617647</td>\n      <td>1</td>\n      <td>1</td>\n      <td>4</td>\n    </tr>\n    <tr>\n      <th>2625</th>\n      <td>1136</td>\n      <td>16</td>\n      <td>Bryant</td>\n      <td>2022</td>\n      <td>jared-grasso-1</td>\n      <td>0.0</td>\n      <td>0.0</td>\n      <td>52.631579</td>\n      <td>30.665025</td>\n      <td>73.355263</td>\n      <td>...</td>\n      <td>45.109157</td>\n      <td>43.063965</td>\n      <td>0</td>\n      <td>0.000000</td>\n      <td>0.000000</td>\n      <td>0.456522</td>\n      <td>0.709677</td>\n      <td>1</td>\n      <td>1</td>\n      <td>4</td>\n    </tr>\n  </tbody>\n</table>\n<p>2626 rows × 39 columns</p>\n</div>"
     },
     "execution_count": 11,
     "metadata": {},
     "output_type": "execute_result"
    }
   ],
   "source": [
    "# Make copy of df\n",
    "df_ncaa_3 = df_ncaa_2.copy()\n",
    "\n",
    "# Create ranked column for AP and preseason polls\n",
    "df_ncaa_3['ap_preseason_ranked'] = df_ncaa_3['ap_preseason'].notnull().astype(int)\n",
    "df_ncaa_3['coaches_preseason_ranked'] = df_ncaa_3['coaches_preseason'].notnull().astype(int)\n",
    "\n",
    "# Define function that calculates tier for each seed\n",
    "def seed_tier(seed):\n",
    "    if 1 <= seed <= 4:\n",
    "        return 1\n",
    "    elif 5 <= seed <= 8:\n",
    "        return 2\n",
    "    elif 9 <= seed <= 12:\n",
    "        return 3\n",
    "    else:\n",
    "        return 4\n",
    "\n",
    "# Apply seed_tier function\n",
    "df_ncaa_3['seed_tier'] = df_ncaa_3.apply(lambda row: seed_tier(row['seed']), axis=1)\n",
    "df_ncaa_3['seed_tier'] = df_ncaa_3['seed_tier'].astype('category')\n",
    "\n",
    "# Sort values & reset index\n",
    "df_ncaa_3 = df_ncaa_3.sort_values(by=['game_id'], ascending=True).reset_index(drop=True)\n",
    "\n",
    "# Preview df\n",
    "df_ncaa_3"
   ],
   "metadata": {
    "collapsed": false,
    "ExecuteTime": {
     "end_time": "2024-03-11T01:09:13.230231Z",
     "start_time": "2024-03-11T01:09:13.116394Z"
    }
   },
   "id": "47a97da6282483f5"
  },
  {
   "cell_type": "code",
   "execution_count": 12,
   "outputs": [
    {
     "data": {
      "text/plain": "        id  seed  year          coach_id     fg2pct     fg3pct      ftpct  \\\n0     1104     2  2002  mark-gottfried-1  50.657900  30.867700  73.578200   \n1     1194    15  2002    sidney-green-1  45.035500  33.911400  66.778500   \n2     1364    14  2002    bob-williams-1  47.041400  40.824700  75.811700   \n3     1112     3  2002      lute-olson-1  50.000000  37.609300  73.076900   \n4     1112     3  2002      lute-olson-1  50.000000  37.609300  73.076900   \n...    ...   ...   ...               ...        ...        ...        ...   \n2621  1326     7  2022  chris-holtmann-1  53.993933  37.327189  75.956284   \n2622  1458     3  2022       greg-gard-1  48.927039  31.202435  74.193548   \n2623  1159    14  2022     matt-langel-1  52.712477  40.124224  69.275930   \n2624  1460    16  2022      scott-nagy-1  53.206107  33.015873  76.616915   \n2625  1136    16  2022    jared-grasso-1  52.631579  30.665025  73.355263   \n\n       blockpct  oppfg2pct  oppfg3pct  ...  coach_s16_rate  coach_f4_rate  \\\n0      8.046800  45.208500  31.784100  ...        0.000000       0.000000   \n1      8.187100  48.538000  34.392500  ...        0.000000       0.000000   \n2      8.718500  43.172300  32.096800  ...        0.000000       0.000000   \n3      7.251200  47.857600  34.782600  ...        0.454545       0.227273   \n4      7.251200  47.857600  34.782600  ...        0.454545       0.227273   \n...         ...        ...        ...  ...             ...            ...   \n2621  12.698413  46.208113  33.980583  ...        0.166667       0.000000   \n2622   7.480653  49.871023  32.263514  ...        0.500000       0.000000   \n2623   9.345048  48.162939  33.666191  ...        0.000000       0.000000   \n2624   7.398754  51.635514  33.783784  ...        0.000000       0.000000   \n2625   9.589041  46.955860  32.126697  ...        0.000000       0.000000   \n\n      coach_career_win_%  team_season_win_%  ap_preseason_ranked  \\\n0               0.671171           0.787879                    1   \n1               0.307692           0.633333                    1   \n2               0.543860           0.666667                    1   \n3               0.732961           0.709677                    1   \n4               0.732961           0.709677                    1   \n...                  ...                ...                  ...   \n2621            0.611111           0.633333                    1   \n2622            0.650000           0.774194                    1   \n2623            0.517647           0.676471                    1   \n2624            0.587156           0.617647                    1   \n2625            0.456522           0.709677                    1   \n\n      coaches_preseason_ranked  seed_tier  Power 6  rd1_odds              team  \n0                            1          1      1.0    2500.0           Alabama  \n1                            1          4      0.0  500000.0  Florida Atlantic  \n2                            1          4      0.0  100000.0  UC Santa Barbara  \n3                            1          1      1.0    1500.0           Arizona  \n4                            1          1      1.0    1500.0           Arizona  \n...                        ...        ...      ...       ...               ...  \n2621                         1          2      1.0   20000.0          Ohio St.  \n2622                         1          1      1.0    8000.0         Wisconsin  \n2623                         1          4      0.0  300000.0           Colgate  \n2624                         1          4      0.0  500000.0        Wright St.  \n2625                         1          4      0.0  500000.0            Bryant  \n\n[2626 rows x 39 columns]",
      "text/html": "<div>\n<style scoped>\n    .dataframe tbody tr th:only-of-type {\n        vertical-align: middle;\n    }\n\n    .dataframe tbody tr th {\n        vertical-align: top;\n    }\n\n    .dataframe thead th {\n        text-align: right;\n    }\n</style>\n<table border=\"1\" class=\"dataframe\">\n  <thead>\n    <tr style=\"text-align: right;\">\n      <th></th>\n      <th>id</th>\n      <th>seed</th>\n      <th>year</th>\n      <th>coach_id</th>\n      <th>fg2pct</th>\n      <th>fg3pct</th>\n      <th>ftpct</th>\n      <th>blockpct</th>\n      <th>oppfg2pct</th>\n      <th>oppfg3pct</th>\n      <th>...</th>\n      <th>coach_s16_rate</th>\n      <th>coach_f4_rate</th>\n      <th>coach_career_win_%</th>\n      <th>team_season_win_%</th>\n      <th>ap_preseason_ranked</th>\n      <th>coaches_preseason_ranked</th>\n      <th>seed_tier</th>\n      <th>Power 6</th>\n      <th>rd1_odds</th>\n      <th>team</th>\n    </tr>\n  </thead>\n  <tbody>\n    <tr>\n      <th>0</th>\n      <td>1104</td>\n      <td>2</td>\n      <td>2002</td>\n      <td>mark-gottfried-1</td>\n      <td>50.657900</td>\n      <td>30.867700</td>\n      <td>73.578200</td>\n      <td>8.046800</td>\n      <td>45.208500</td>\n      <td>31.784100</td>\n      <td>...</td>\n      <td>0.000000</td>\n      <td>0.000000</td>\n      <td>0.671171</td>\n      <td>0.787879</td>\n      <td>1</td>\n      <td>1</td>\n      <td>1</td>\n      <td>1.0</td>\n      <td>2500.0</td>\n      <td>Alabama</td>\n    </tr>\n    <tr>\n      <th>1</th>\n      <td>1194</td>\n      <td>15</td>\n      <td>2002</td>\n      <td>sidney-green-1</td>\n      <td>45.035500</td>\n      <td>33.911400</td>\n      <td>66.778500</td>\n      <td>8.187100</td>\n      <td>48.538000</td>\n      <td>34.392500</td>\n      <td>...</td>\n      <td>0.000000</td>\n      <td>0.000000</td>\n      <td>0.307692</td>\n      <td>0.633333</td>\n      <td>1</td>\n      <td>1</td>\n      <td>4</td>\n      <td>0.0</td>\n      <td>500000.0</td>\n      <td>Florida Atlantic</td>\n    </tr>\n    <tr>\n      <th>2</th>\n      <td>1364</td>\n      <td>14</td>\n      <td>2002</td>\n      <td>bob-williams-1</td>\n      <td>47.041400</td>\n      <td>40.824700</td>\n      <td>75.811700</td>\n      <td>8.718500</td>\n      <td>43.172300</td>\n      <td>32.096800</td>\n      <td>...</td>\n      <td>0.000000</td>\n      <td>0.000000</td>\n      <td>0.543860</td>\n      <td>0.666667</td>\n      <td>1</td>\n      <td>1</td>\n      <td>4</td>\n      <td>0.0</td>\n      <td>100000.0</td>\n      <td>UC Santa Barbara</td>\n    </tr>\n    <tr>\n      <th>3</th>\n      <td>1112</td>\n      <td>3</td>\n      <td>2002</td>\n      <td>lute-olson-1</td>\n      <td>50.000000</td>\n      <td>37.609300</td>\n      <td>73.076900</td>\n      <td>7.251200</td>\n      <td>47.857600</td>\n      <td>34.782600</td>\n      <td>...</td>\n      <td>0.454545</td>\n      <td>0.227273</td>\n      <td>0.732961</td>\n      <td>0.709677</td>\n      <td>1</td>\n      <td>1</td>\n      <td>1</td>\n      <td>1.0</td>\n      <td>1500.0</td>\n      <td>Arizona</td>\n    </tr>\n    <tr>\n      <th>4</th>\n      <td>1112</td>\n      <td>3</td>\n      <td>2002</td>\n      <td>lute-olson-1</td>\n      <td>50.000000</td>\n      <td>37.609300</td>\n      <td>73.076900</td>\n      <td>7.251200</td>\n      <td>47.857600</td>\n      <td>34.782600</td>\n      <td>...</td>\n      <td>0.454545</td>\n      <td>0.227273</td>\n      <td>0.732961</td>\n      <td>0.709677</td>\n      <td>1</td>\n      <td>1</td>\n      <td>1</td>\n      <td>1.0</td>\n      <td>1500.0</td>\n      <td>Arizona</td>\n    </tr>\n    <tr>\n      <th>...</th>\n      <td>...</td>\n      <td>...</td>\n      <td>...</td>\n      <td>...</td>\n      <td>...</td>\n      <td>...</td>\n      <td>...</td>\n      <td>...</td>\n      <td>...</td>\n      <td>...</td>\n      <td>...</td>\n      <td>...</td>\n      <td>...</td>\n      <td>...</td>\n      <td>...</td>\n      <td>...</td>\n      <td>...</td>\n      <td>...</td>\n      <td>...</td>\n      <td>...</td>\n      <td>...</td>\n    </tr>\n    <tr>\n      <th>2621</th>\n      <td>1326</td>\n      <td>7</td>\n      <td>2022</td>\n      <td>chris-holtmann-1</td>\n      <td>53.993933</td>\n      <td>37.327189</td>\n      <td>75.956284</td>\n      <td>12.698413</td>\n      <td>46.208113</td>\n      <td>33.980583</td>\n      <td>...</td>\n      <td>0.166667</td>\n      <td>0.000000</td>\n      <td>0.611111</td>\n      <td>0.633333</td>\n      <td>1</td>\n      <td>1</td>\n      <td>2</td>\n      <td>1.0</td>\n      <td>20000.0</td>\n      <td>Ohio St.</td>\n    </tr>\n    <tr>\n      <th>2622</th>\n      <td>1458</td>\n      <td>3</td>\n      <td>2022</td>\n      <td>greg-gard-1</td>\n      <td>48.927039</td>\n      <td>31.202435</td>\n      <td>74.193548</td>\n      <td>7.480653</td>\n      <td>49.871023</td>\n      <td>32.263514</td>\n      <td>...</td>\n      <td>0.500000</td>\n      <td>0.000000</td>\n      <td>0.650000</td>\n      <td>0.774194</td>\n      <td>1</td>\n      <td>1</td>\n      <td>1</td>\n      <td>1.0</td>\n      <td>8000.0</td>\n      <td>Wisconsin</td>\n    </tr>\n    <tr>\n      <th>2623</th>\n      <td>1159</td>\n      <td>14</td>\n      <td>2022</td>\n      <td>matt-langel-1</td>\n      <td>52.712477</td>\n      <td>40.124224</td>\n      <td>69.275930</td>\n      <td>9.345048</td>\n      <td>48.162939</td>\n      <td>33.666191</td>\n      <td>...</td>\n      <td>0.000000</td>\n      <td>0.000000</td>\n      <td>0.517647</td>\n      <td>0.676471</td>\n      <td>1</td>\n      <td>1</td>\n      <td>4</td>\n      <td>0.0</td>\n      <td>300000.0</td>\n      <td>Colgate</td>\n    </tr>\n    <tr>\n      <th>2624</th>\n      <td>1460</td>\n      <td>16</td>\n      <td>2022</td>\n      <td>scott-nagy-1</td>\n      <td>53.206107</td>\n      <td>33.015873</td>\n      <td>76.616915</td>\n      <td>7.398754</td>\n      <td>51.635514</td>\n      <td>33.783784</td>\n      <td>...</td>\n      <td>0.000000</td>\n      <td>0.000000</td>\n      <td>0.587156</td>\n      <td>0.617647</td>\n      <td>1</td>\n      <td>1</td>\n      <td>4</td>\n      <td>0.0</td>\n      <td>500000.0</td>\n      <td>Wright St.</td>\n    </tr>\n    <tr>\n      <th>2625</th>\n      <td>1136</td>\n      <td>16</td>\n      <td>2022</td>\n      <td>jared-grasso-1</td>\n      <td>52.631579</td>\n      <td>30.665025</td>\n      <td>73.355263</td>\n      <td>9.589041</td>\n      <td>46.955860</td>\n      <td>32.126697</td>\n      <td>...</td>\n      <td>0.000000</td>\n      <td>0.000000</td>\n      <td>0.456522</td>\n      <td>0.709677</td>\n      <td>1</td>\n      <td>1</td>\n      <td>4</td>\n      <td>0.0</td>\n      <td>500000.0</td>\n      <td>Bryant</td>\n    </tr>\n  </tbody>\n</table>\n<p>2626 rows × 39 columns</p>\n</div>"
     },
     "execution_count": 12,
     "metadata": {},
     "output_type": "execute_result"
    }
   ],
   "source": [
    "# Import supplemental data\n",
    "xl = 'MDCM Supplemental Data.xlsx'\n",
    "df_odds = pd.read_excel(xl)\n",
    "\n",
    "# Make copy of df\n",
    "df_ncaa_4 = df_ncaa_3.copy()\n",
    "\n",
    "# Merge tables to get Power 6 column\n",
    "df_ncaa_4 = pd.merge(df_ncaa_4, df_odds, on=['id', 'year'], how='left')\n",
    "\n",
    "# Fill na's with 0 for Power 6 column\n",
    "df_ncaa_4['Power 6'] = df_ncaa_4['Power 6'].fillna(value=0)\n",
    "\n",
    "# Create copy of df\n",
    "df_median_odds = df_odds[['year', 'rd1_odds']]\n",
    "\n",
    "# Create df for median odds\n",
    "df_median_odds= df_median_odds.groupby(\"year\")['rd1_odds'].median()\n",
    "\n",
    "# Join df with median odds\n",
    "df_ncaa_4 = pd.merge(df_ncaa_4, df_median_odds, on=['year'], how='left')\n",
    "\n",
    "# Fill nulls with median\n",
    "df_ncaa_4['rd1_odds_x'] = df_ncaa_4['rd1_odds_x'].fillna(df_ncaa_4['rd1_odds_y'])\n",
    "\n",
    "# Round 1 odds\n",
    "df_ncaa_4['rd1_odds'] = df_ncaa_4['rd1_odds_x']\n",
    "\n",
    "# Teamname\n",
    "df_ncaa_4['team'] = df_ncaa_4['teamname_y'].fillna(df_ncaa_4['teamname_x'])\n",
    "\n",
    "# Create dict of teams that changed names\n",
    "team_mapping = {\n",
    "    'American Univ': 'American',\n",
    "    'Boise St': 'Boise St.',\n",
    "    'Colorado St': 'Colorado St.',\n",
    "    'Coastal Car': 'Coastal Carolina',\n",
    "    'E Kentucky': 'Eastern Kentucky',\n",
    "    'East Tennessee St.': 'ETSU',\n",
    "    'East Tennessee St': 'ETSU',\n",
    "    'Long Beach St': 'Long Beach St.',\n",
    "    'Middle Tennessee St.': 'MTSU',\n",
    "    'Middle Tennessee St': 'MTSU',\n",
    "    'Louisiana': 'ULL',\n",
    "    'Miami, Ohio': 'Miami (OH)',\n",
    "    'Morgan St': 'Morgan St.',\n",
    "    'Northwestern St.': 'Northwestern LA',\n",
    "    'Northwestern St': 'Northwestern LA',\n",
    "    'MS Valley St.': 'Mississippi Valley St.',\n",
    "    'MS Valley St': 'Mississippi Valley St.',\n",
    "    \"Mt St Mary's\": \"Mount St. Mary's\",\n",
    "    \"Mt St. Mary's\": \"Mount St. Mary's\",\n",
    "    \"Mount St Mary's\": \"Mount St. Mary's\",\n",
    "    \"Mount St. Mary's\": \"Mount St. Mary's\",\n",
    "    'Murray St': 'Murray St.',\n",
    "    'NC Wilmington': 'UNC Wilmington',\n",
    "    'New Mexico St': 'New Mexico St.',\n",
    "    'S Dakota St.': 'South Dakota St.',\n",
    "    'S Dakota St': 'South Dakota St.',\n",
    "    'South Dakota St': 'South Dakota St.',\n",
    "    'San Diego St': 'San Diego St.',\n",
    "    'Southern Univ': 'Southern',\n",
    "    'Sam Houston': 'Sam Houston St.',\n",
    "    'Sam Houston St': 'Sam Houston St.',\n",
    "    'SF Austin': 'Stephen F. Austin',\n",
    "    'Stephen F Austin': 'Stephen F. Austin',\n",
    "    'W Kentucky': 'Western Kentucky',\n",
    "    'W Michigan': 'Western Michigan',\n",
    "    'WI Milwaukee': 'Milwaukee',\n",
    "    'Albany NY': 'Albany',\n",
    "    'Utah St': 'Utah St.',\n",
    "    'Weber St': 'Weber St.',\n",
    "    'U Mass': 'UMass',\n",
    "    \"St Mary's CA\": \"Saint Mary's (CA)\",\n",
    "    'Alcorn St': 'Alcorn St.',\n",
    "    'TX Southern': 'Texas Southern'\n",
    "}\n",
    "\n",
    "# Replace values in the 'Team' column\n",
    "df_ncaa_4['team'] = df_ncaa_4['team'].replace(team_mapping)\n",
    "\n",
    "# Drop columns\n",
    "df_ncaa_4 = df_ncaa_4.drop(columns=['RecordID', 'ap_preseason', 'coaches_preseason', 'rd1_odds_x', 'rd1_odds_y', 'teamname_x', 'teamname_y'])\n",
    "\n",
    "# Preview df\n",
    "df_ncaa_4"
   ],
   "metadata": {
    "collapsed": false,
    "ExecuteTime": {
     "end_time": "2024-03-11T01:09:13.588856Z",
     "start_time": "2024-03-11T01:09:13.156208Z"
    }
   },
   "id": "f893b3be0dffa0e9"
  },
  {
   "cell_type": "code",
   "execution_count": 13,
   "outputs": [
    {
     "data": {
      "text/plain": "['fg2pct',\n 'fg3pct',\n 'ftpct',\n 'blockpct',\n 'oppfg2pct',\n 'oppfg3pct',\n 'oppftpct',\n 'oppblockpct',\n 'f3grate',\n 'oppf3grate',\n 'arate',\n 'opparate',\n 'stlrate',\n 'oppstlrate',\n 'adjtempo',\n 'adjoe',\n 'adjde',\n 'seed_diff',\n 'dist_km',\n 'exp_win',\n 'log5',\n 'shooting_%',\n 'opp_shooting%',\n 'coach_s16_rate',\n 'coach_f4_rate',\n 'coach_career_win_%',\n 'team_season_win_%',\n 'rd1_odds']"
     },
     "execution_count": 13,
     "metadata": {},
     "output_type": "execute_result"
    }
   ],
   "source": [
    "# Make copy of df\n",
    "df_ncaa_5 = df_ncaa_4.copy()\n",
    "\n",
    "# Get list of categorical variables and convert data type\n",
    "cvar_list = ['game_id', 'id', 'year', 'seed', 'team', 'coach_id', 'winner', 'ap_preseason_ranked', 'coaches_preseason_ranked', 'seed_tier', 'Power 6']\n",
    "df_ncaa_5[cvar_list] = df_ncaa_5[cvar_list].astype('category')\n",
    "\n",
    "# Numerical variables are columns not in cvar_list; convert to float\n",
    "nvar_list = [col for col in df_ncaa_5.columns if col not in cvar_list]\n",
    "df_ncaa_5[nvar_list] = df_ncaa_5[nvar_list].astype('float64')\n",
    "\n",
    "# Preview df\n",
    "nvar_list"
   ],
   "metadata": {
    "collapsed": false,
    "ExecuteTime": {
     "end_time": "2024-03-11T01:09:13.589249Z",
     "start_time": "2024-03-11T01:09:13.419964Z"
    }
   },
   "id": "bb005db91cdb8918"
  },
  {
   "cell_type": "code",
   "execution_count": 14,
   "outputs": [
    {
     "data": {
      "text/plain": "        id seed  year          coach_id     fg2pct     fg3pct      ftpct  \\\n0     1104    2  2002  mark-gottfried-1  50.657900  30.867700  73.578200   \n1     1194   15  2002    sidney-green-1  45.035500  33.911400  66.778500   \n2     1364   14  2002    bob-williams-1  47.041400  40.824700  75.811700   \n3     1112    3  2002      lute-olson-1  50.000000  37.609300  73.076900   \n4     1112    3  2002      lute-olson-1  50.000000  37.609300  73.076900   \n...    ...  ...   ...               ...        ...        ...        ...   \n2621  1326    7  2022  chris-holtmann-1  53.993933  37.327189  75.956284   \n2622  1458    3  2022       greg-gard-1  48.927039  31.202435  74.193548   \n2623  1159   14  2022     matt-langel-1  52.712477  40.124224  69.275930   \n2624  1460   16  2022      scott-nagy-1  53.206107  33.015873  76.616915   \n2625  1136   16  2022    jared-grasso-1  52.631579  30.665025  73.355263   \n\n       blockpct  oppfg2pct  oppfg3pct  ...  coach_s16_rate  coach_f4_rate  \\\n0      8.046800  45.208500  31.784100  ...        0.000000       0.000000   \n1      8.187100  48.538000  34.392500  ...        0.000000       0.000000   \n2      8.718500  43.172300  32.096800  ...        0.000000       0.000000   \n3      7.251200  47.857600  34.782600  ...        0.454545       0.227273   \n4      7.251200  47.857600  34.782600  ...        0.454545       0.227273   \n...         ...        ...        ...  ...             ...            ...   \n2621  12.698413  46.208113  33.980583  ...        0.166667       0.000000   \n2622   7.480653  49.871023  32.263514  ...        0.500000       0.000000   \n2623   9.345048  48.162939  33.666191  ...        0.000000       0.000000   \n2624   7.398754  51.635514  33.783784  ...        0.000000       0.000000   \n2625   9.589041  46.955860  32.126697  ...        0.000000       0.000000   \n\n      coach_career_win_%  team_season_win_%  ap_preseason_ranked  \\\n0               0.671171           0.787879                    1   \n1               0.307692           0.633333                    1   \n2               0.543860           0.666667                    1   \n3               0.732961           0.709677                    1   \n4               0.732961           0.709677                    1   \n...                  ...                ...                  ...   \n2621            0.611111           0.633333                    1   \n2622            0.650000           0.774194                    1   \n2623            0.517647           0.676471                    1   \n2624            0.587156           0.617647                    1   \n2625            0.456522           0.709677                    1   \n\n      coaches_preseason_ranked  seed_tier  Power 6  rd1_odds              team  \n0                            1          1      1.0    2500.0           Alabama  \n1                            1          4      0.0  500000.0  Florida Atlantic  \n2                            1          4      0.0  100000.0  UC Santa Barbara  \n3                            1          1      1.0    1500.0           Arizona  \n4                            1          1      1.0    1500.0           Arizona  \n...                        ...        ...      ...       ...               ...  \n2621                         1          2      1.0   20000.0          Ohio St.  \n2622                         1          1      1.0    8000.0         Wisconsin  \n2623                         1          4      0.0  300000.0           Colgate  \n2624                         1          4      0.0  500000.0        Wright St.  \n2625                         1          4      0.0  500000.0            Bryant  \n\n[2626 rows x 39 columns]",
      "text/html": "<div>\n<style scoped>\n    .dataframe tbody tr th:only-of-type {\n        vertical-align: middle;\n    }\n\n    .dataframe tbody tr th {\n        vertical-align: top;\n    }\n\n    .dataframe thead th {\n        text-align: right;\n    }\n</style>\n<table border=\"1\" class=\"dataframe\">\n  <thead>\n    <tr style=\"text-align: right;\">\n      <th></th>\n      <th>id</th>\n      <th>seed</th>\n      <th>year</th>\n      <th>coach_id</th>\n      <th>fg2pct</th>\n      <th>fg3pct</th>\n      <th>ftpct</th>\n      <th>blockpct</th>\n      <th>oppfg2pct</th>\n      <th>oppfg3pct</th>\n      <th>...</th>\n      <th>coach_s16_rate</th>\n      <th>coach_f4_rate</th>\n      <th>coach_career_win_%</th>\n      <th>team_season_win_%</th>\n      <th>ap_preseason_ranked</th>\n      <th>coaches_preseason_ranked</th>\n      <th>seed_tier</th>\n      <th>Power 6</th>\n      <th>rd1_odds</th>\n      <th>team</th>\n    </tr>\n  </thead>\n  <tbody>\n    <tr>\n      <th>0</th>\n      <td>1104</td>\n      <td>2</td>\n      <td>2002</td>\n      <td>mark-gottfried-1</td>\n      <td>50.657900</td>\n      <td>30.867700</td>\n      <td>73.578200</td>\n      <td>8.046800</td>\n      <td>45.208500</td>\n      <td>31.784100</td>\n      <td>...</td>\n      <td>0.000000</td>\n      <td>0.000000</td>\n      <td>0.671171</td>\n      <td>0.787879</td>\n      <td>1</td>\n      <td>1</td>\n      <td>1</td>\n      <td>1.0</td>\n      <td>2500.0</td>\n      <td>Alabama</td>\n    </tr>\n    <tr>\n      <th>1</th>\n      <td>1194</td>\n      <td>15</td>\n      <td>2002</td>\n      <td>sidney-green-1</td>\n      <td>45.035500</td>\n      <td>33.911400</td>\n      <td>66.778500</td>\n      <td>8.187100</td>\n      <td>48.538000</td>\n      <td>34.392500</td>\n      <td>...</td>\n      <td>0.000000</td>\n      <td>0.000000</td>\n      <td>0.307692</td>\n      <td>0.633333</td>\n      <td>1</td>\n      <td>1</td>\n      <td>4</td>\n      <td>0.0</td>\n      <td>500000.0</td>\n      <td>Florida Atlantic</td>\n    </tr>\n    <tr>\n      <th>2</th>\n      <td>1364</td>\n      <td>14</td>\n      <td>2002</td>\n      <td>bob-williams-1</td>\n      <td>47.041400</td>\n      <td>40.824700</td>\n      <td>75.811700</td>\n      <td>8.718500</td>\n      <td>43.172300</td>\n      <td>32.096800</td>\n      <td>...</td>\n      <td>0.000000</td>\n      <td>0.000000</td>\n      <td>0.543860</td>\n      <td>0.666667</td>\n      <td>1</td>\n      <td>1</td>\n      <td>4</td>\n      <td>0.0</td>\n      <td>100000.0</td>\n      <td>UC Santa Barbara</td>\n    </tr>\n    <tr>\n      <th>3</th>\n      <td>1112</td>\n      <td>3</td>\n      <td>2002</td>\n      <td>lute-olson-1</td>\n      <td>50.000000</td>\n      <td>37.609300</td>\n      <td>73.076900</td>\n      <td>7.251200</td>\n      <td>47.857600</td>\n      <td>34.782600</td>\n      <td>...</td>\n      <td>0.454545</td>\n      <td>0.227273</td>\n      <td>0.732961</td>\n      <td>0.709677</td>\n      <td>1</td>\n      <td>1</td>\n      <td>1</td>\n      <td>1.0</td>\n      <td>1500.0</td>\n      <td>Arizona</td>\n    </tr>\n    <tr>\n      <th>4</th>\n      <td>1112</td>\n      <td>3</td>\n      <td>2002</td>\n      <td>lute-olson-1</td>\n      <td>50.000000</td>\n      <td>37.609300</td>\n      <td>73.076900</td>\n      <td>7.251200</td>\n      <td>47.857600</td>\n      <td>34.782600</td>\n      <td>...</td>\n      <td>0.454545</td>\n      <td>0.227273</td>\n      <td>0.732961</td>\n      <td>0.709677</td>\n      <td>1</td>\n      <td>1</td>\n      <td>1</td>\n      <td>1.0</td>\n      <td>1500.0</td>\n      <td>Arizona</td>\n    </tr>\n    <tr>\n      <th>...</th>\n      <td>...</td>\n      <td>...</td>\n      <td>...</td>\n      <td>...</td>\n      <td>...</td>\n      <td>...</td>\n      <td>...</td>\n      <td>...</td>\n      <td>...</td>\n      <td>...</td>\n      <td>...</td>\n      <td>...</td>\n      <td>...</td>\n      <td>...</td>\n      <td>...</td>\n      <td>...</td>\n      <td>...</td>\n      <td>...</td>\n      <td>...</td>\n      <td>...</td>\n      <td>...</td>\n    </tr>\n    <tr>\n      <th>2621</th>\n      <td>1326</td>\n      <td>7</td>\n      <td>2022</td>\n      <td>chris-holtmann-1</td>\n      <td>53.993933</td>\n      <td>37.327189</td>\n      <td>75.956284</td>\n      <td>12.698413</td>\n      <td>46.208113</td>\n      <td>33.980583</td>\n      <td>...</td>\n      <td>0.166667</td>\n      <td>0.000000</td>\n      <td>0.611111</td>\n      <td>0.633333</td>\n      <td>1</td>\n      <td>1</td>\n      <td>2</td>\n      <td>1.0</td>\n      <td>20000.0</td>\n      <td>Ohio St.</td>\n    </tr>\n    <tr>\n      <th>2622</th>\n      <td>1458</td>\n      <td>3</td>\n      <td>2022</td>\n      <td>greg-gard-1</td>\n      <td>48.927039</td>\n      <td>31.202435</td>\n      <td>74.193548</td>\n      <td>7.480653</td>\n      <td>49.871023</td>\n      <td>32.263514</td>\n      <td>...</td>\n      <td>0.500000</td>\n      <td>0.000000</td>\n      <td>0.650000</td>\n      <td>0.774194</td>\n      <td>1</td>\n      <td>1</td>\n      <td>1</td>\n      <td>1.0</td>\n      <td>8000.0</td>\n      <td>Wisconsin</td>\n    </tr>\n    <tr>\n      <th>2623</th>\n      <td>1159</td>\n      <td>14</td>\n      <td>2022</td>\n      <td>matt-langel-1</td>\n      <td>52.712477</td>\n      <td>40.124224</td>\n      <td>69.275930</td>\n      <td>9.345048</td>\n      <td>48.162939</td>\n      <td>33.666191</td>\n      <td>...</td>\n      <td>0.000000</td>\n      <td>0.000000</td>\n      <td>0.517647</td>\n      <td>0.676471</td>\n      <td>1</td>\n      <td>1</td>\n      <td>4</td>\n      <td>0.0</td>\n      <td>300000.0</td>\n      <td>Colgate</td>\n    </tr>\n    <tr>\n      <th>2624</th>\n      <td>1460</td>\n      <td>16</td>\n      <td>2022</td>\n      <td>scott-nagy-1</td>\n      <td>53.206107</td>\n      <td>33.015873</td>\n      <td>76.616915</td>\n      <td>7.398754</td>\n      <td>51.635514</td>\n      <td>33.783784</td>\n      <td>...</td>\n      <td>0.000000</td>\n      <td>0.000000</td>\n      <td>0.587156</td>\n      <td>0.617647</td>\n      <td>1</td>\n      <td>1</td>\n      <td>4</td>\n      <td>0.0</td>\n      <td>500000.0</td>\n      <td>Wright St.</td>\n    </tr>\n    <tr>\n      <th>2625</th>\n      <td>1136</td>\n      <td>16</td>\n      <td>2022</td>\n      <td>jared-grasso-1</td>\n      <td>52.631579</td>\n      <td>30.665025</td>\n      <td>73.355263</td>\n      <td>9.589041</td>\n      <td>46.955860</td>\n      <td>32.126697</td>\n      <td>...</td>\n      <td>0.000000</td>\n      <td>0.000000</td>\n      <td>0.456522</td>\n      <td>0.709677</td>\n      <td>1</td>\n      <td>1</td>\n      <td>4</td>\n      <td>0.0</td>\n      <td>500000.0</td>\n      <td>Bryant</td>\n    </tr>\n  </tbody>\n</table>\n<p>2626 rows × 39 columns</p>\n</div>"
     },
     "execution_count": 14,
     "metadata": {},
     "output_type": "execute_result"
    }
   ],
   "source": [
    "# Make clean dataset for review\n",
    "df_cleaned = df_ncaa_5.copy()\n",
    "\n",
    "# Year cutoff\n",
    "cutoff_year = 2002\n",
    "df_cleaned = df_cleaned[df_cleaned['year'].astype(int) >= cutoff_year]\n",
    "\n",
    "# Make training data for modeling by filtering out 2019 and 2024\n",
    "df_main = df_cleaned[(df_cleaned['year'] != 2019) & (df_cleaned['year'] != 2024)]\n",
    "df_2019 = df_cleaned[df_cleaned['year'] == 2019]\n",
    "df_2024 = df_cleaned[df_cleaned['year'] == 2024]\n",
    "\n",
    "# Drop columns for modeling\n",
    "drop_cols_modeling = ['game_id', 'id', 'coach_id', 'year', 'team', 'seed']\n",
    "df_main = df_main.drop(columns=drop_cols_modeling)\n",
    "\n",
    "# Get dummies for each dataset\n",
    "df_main = pd.get_dummies(df_main, prefix_sep='_')\n",
    "rdummies = ['winner_0', 'seed_tier_4', 'Power 6_0.0']\n",
    "df_main = df_main.drop(columns=rdummies)\n",
    "\n",
    "# Preview df\n",
    "df_cleaned"
   ],
   "metadata": {
    "collapsed": false,
    "ExecuteTime": {
     "end_time": "2024-03-11T01:09:13.590042Z",
     "start_time": "2024-03-11T01:09:13.438722Z"
    }
   },
   "id": "3ceef0cb0671186a"
  },
  {
   "cell_type": "code",
   "execution_count": 15,
   "outputs": [
    {
     "name": "stdout",
     "output_type": "stream",
     "text": [
      "exp_win: -0.3175313342580072\n",
      "log5: -0.30223815192413706\n",
      "seed_diff: -0.29478335786711873\n",
      "seed_tier_1: -0.28642078436232954\n",
      "adjoe: -0.2616829009767067\n",
      "adjde: 0.2604580043179573\n",
      "team_season_win_%: -0.2582518577441015\n",
      "coach_career_win_%: -0.22482991468458424\n",
      "coach_s16_rate: -0.22398277573828662\n",
      "Power 6_1.0: -0.20093482399113854\n",
      "opp_shooting%: 0.19118192572335932\n",
      "oppfg2pct: 0.18930055669802592\n",
      "rd1_odds: 0.18128304245316518\n",
      "winner_1: -0.1715099893696114\n",
      "coach_f4_rate: -0.1644162215591492\n",
      "fg2pct: -0.1504676276264716\n",
      "blockpct: -0.14221732148433128\n",
      "shooting_%: -0.1390172355918611\n",
      "seed_tier_3: 0.11452856547312215\n",
      "oppfg3pct: 0.10989326095817342\n",
      "fg3pct: -0.09887245126902666\n",
      "oppblockpct: 0.09522019180016511\n",
      "arate: -0.06980128567195142\n",
      "dist_km: 0.06690076736865151\n",
      "opparate: 0.05844097151748257\n",
      "oppf3grate: 0.057281768679905254\n",
      "oppftpct: 0.05359600669925391\n",
      "oppstlrate: 0.04981912577135972\n",
      "f3grate: 0.04900607901378638\n",
      "stlrate: -0.04234064996815553\n",
      "adjtempo: -0.028479123115902668\n",
      "ftpct: -0.01847722629732234\n",
      "seed_tier_2: 0.010909552229255328\n",
      "ap_preseason_ranked_1: -0.0\n",
      "coaches_preseason_ranked_1: -0.0\n"
     ]
    }
   ],
   "source": [
    "# Import packages\n",
    "\n",
    "# Create copy of df_main to standardize\n",
    "df_main_pca = df_main.copy()\n",
    "\n",
    "# Standardize data\n",
    "scaler = StandardScaler()\n",
    "scaled_data = scaler.fit_transform(df_main_pca)\n",
    "\n",
    "# Create PCA and specify number of components\n",
    "num_components = 5\n",
    "pca = PCA(n_components=num_components)  # You can adjust the number of components as needed\n",
    "\n",
    "# Step 3: Fit the PCA instance to the data\n",
    "pca.fit(scaled_data)\n",
    "\n",
    "# Get feature names\n",
    "feature_names = df_main_pca.columns\n",
    "\n",
    "# Get the eigenvectors (loadings) corresponding to the first principal component\n",
    "first_pc_loadings = pca.components_[0]\n",
    "\n",
    "# Sort the loadings in descending order of their absolute values\n",
    "sorted_indices = np.argsort(np.abs(first_pc_loadings))[::-1]\n",
    "\n",
    "# Get the names of features corresponding to the sorted loadings\n",
    "sorted_feature_names = [feature_names[i] for i in sorted_indices]\n",
    "\n",
    "# Print the sorted feature names along with their loadings\n",
    "for feature_name, loading in zip(sorted_feature_names, first_pc_loadings[sorted_indices]):\n",
    "    print(f\"{feature_name}: {loading}\")"
   ],
   "metadata": {
    "collapsed": false,
    "ExecuteTime": {
     "end_time": "2024-03-11T01:09:13.590571Z",
     "start_time": "2024-03-11T01:09:13.467910Z"
    }
   },
   "id": "7180f45e0347c675"
  },
  {
   "cell_type": "code",
   "execution_count": 16,
   "outputs": [
    {
     "data": {
      "text/plain": "        fg2pct    fg3pct     ftpct  blockpct  oppfg2pct  oppfg3pct  oppftpct  \\\n0    -0.139370 -2.021527  0.711696 -0.862657  -0.196408  -0.547774 -0.454721   \n1    -2.042192 -0.849202 -1.154306 -0.816382   0.997215   0.697134 -0.218170   \n2    -1.363323  1.813554  1.324623 -0.641111  -0.926384  -0.398532  0.008385   \n3    -0.362027  0.575097  0.574128 -1.125069   0.753292   0.883317  0.320180   \n4    -0.362027  0.575097  0.574128 -1.125069   0.753292   0.883317  0.320180   \n...        ...       ...       ...       ...        ...        ...       ...   \n2621  0.989664  0.466438  1.364300  0.671578   0.161952   0.500539  1.682591   \n2622 -0.725155 -1.892599  0.880563 -1.049388   1.475102  -0.318965 -0.537396   \n2623  0.555973  1.543756 -0.468951 -0.434458   0.862756   0.350490 -0.929301   \n2624  0.723035 -1.194127  1.545593 -1.076401   2.107671   0.406613  0.786717   \n2625  0.528594 -2.099590  0.650517 -0.353982   0.430019  -0.384263 -0.533876   \n\n      oppblockpct   f3grate  oppf3grate  ...  coach_s16_rate  coach_f4_rate  \\\n0       -0.841621  0.060630   -0.203955  ...       -1.003697      -0.544322   \n1        0.959438 -1.237990   -0.674736  ...       -1.003697      -0.544322   \n2       -1.139648 -0.232689    1.440267  ...       -1.003697      -0.544322   \n3        0.024391  0.002062   -0.406623  ...        0.673123       1.163275   \n4        0.024391  0.002062   -0.406623  ...        0.673123       1.163275   \n...           ...       ...         ...  ...             ...            ...   \n2621    -0.436560  1.121330    0.409805  ...       -0.388863      -0.544322   \n2622     0.362717  0.450641    0.028466  ...        0.840805      -0.544322   \n2623     0.145873  1.569475    0.563036  ...       -1.003697      -0.544322   \n2624    -1.082470 -0.210677    0.132756  ...       -1.003697      -0.544322   \n2625     2.781842  1.864970   -0.020144  ...       -1.003697      -0.544322   \n\n      coach_career_win_%  team_season_win_%  rd1_odds  winner_1  Power 6_1.0  \\\n0               0.152224           0.342506 -0.301089         1            1   \n1              -3.705929          -1.218306  3.050116         0            0   \n2              -1.199127          -0.881661  0.355680         0            0   \n3               0.808092          -0.447279 -0.307825         1            1   \n4               0.808092          -0.447279 -0.307825         1            1   \n...                  ...                ...       ...       ...          ...   \n2621           -0.485285          -1.218306 -0.183208         0            1   \n2622           -0.072498           0.204293 -0.264041         1            1   \n2623           -1.477361          -0.782647  1.702898         0            0   \n2624           -0.739557          -1.376728  3.050116         1            0   \n2625           -2.126177          -0.447279  3.050116         0            0   \n\n      seed_tier_1  seed_tier_2  seed_tier_3  \n0               1            0            0  \n1               0            0            0  \n2               0            0            0  \n3               1            0            0  \n4               1            0            0  \n...           ...          ...          ...  \n2621            0            1            0  \n2622            1            0            0  \n2623            0            0            0  \n2624            0            0            0  \n2625            0            0            0  \n\n[2492 rows x 33 columns]",
      "text/html": "<div>\n<style scoped>\n    .dataframe tbody tr th:only-of-type {\n        vertical-align: middle;\n    }\n\n    .dataframe tbody tr th {\n        vertical-align: top;\n    }\n\n    .dataframe thead th {\n        text-align: right;\n    }\n</style>\n<table border=\"1\" class=\"dataframe\">\n  <thead>\n    <tr style=\"text-align: right;\">\n      <th></th>\n      <th>fg2pct</th>\n      <th>fg3pct</th>\n      <th>ftpct</th>\n      <th>blockpct</th>\n      <th>oppfg2pct</th>\n      <th>oppfg3pct</th>\n      <th>oppftpct</th>\n      <th>oppblockpct</th>\n      <th>f3grate</th>\n      <th>oppf3grate</th>\n      <th>...</th>\n      <th>coach_s16_rate</th>\n      <th>coach_f4_rate</th>\n      <th>coach_career_win_%</th>\n      <th>team_season_win_%</th>\n      <th>rd1_odds</th>\n      <th>winner_1</th>\n      <th>Power 6_1.0</th>\n      <th>seed_tier_1</th>\n      <th>seed_tier_2</th>\n      <th>seed_tier_3</th>\n    </tr>\n  </thead>\n  <tbody>\n    <tr>\n      <th>0</th>\n      <td>-0.139370</td>\n      <td>-2.021527</td>\n      <td>0.711696</td>\n      <td>-0.862657</td>\n      <td>-0.196408</td>\n      <td>-0.547774</td>\n      <td>-0.454721</td>\n      <td>-0.841621</td>\n      <td>0.060630</td>\n      <td>-0.203955</td>\n      <td>...</td>\n      <td>-1.003697</td>\n      <td>-0.544322</td>\n      <td>0.152224</td>\n      <td>0.342506</td>\n      <td>-0.301089</td>\n      <td>1</td>\n      <td>1</td>\n      <td>1</td>\n      <td>0</td>\n      <td>0</td>\n    </tr>\n    <tr>\n      <th>1</th>\n      <td>-2.042192</td>\n      <td>-0.849202</td>\n      <td>-1.154306</td>\n      <td>-0.816382</td>\n      <td>0.997215</td>\n      <td>0.697134</td>\n      <td>-0.218170</td>\n      <td>0.959438</td>\n      <td>-1.237990</td>\n      <td>-0.674736</td>\n      <td>...</td>\n      <td>-1.003697</td>\n      <td>-0.544322</td>\n      <td>-3.705929</td>\n      <td>-1.218306</td>\n      <td>3.050116</td>\n      <td>0</td>\n      <td>0</td>\n      <td>0</td>\n      <td>0</td>\n      <td>0</td>\n    </tr>\n    <tr>\n      <th>2</th>\n      <td>-1.363323</td>\n      <td>1.813554</td>\n      <td>1.324623</td>\n      <td>-0.641111</td>\n      <td>-0.926384</td>\n      <td>-0.398532</td>\n      <td>0.008385</td>\n      <td>-1.139648</td>\n      <td>-0.232689</td>\n      <td>1.440267</td>\n      <td>...</td>\n      <td>-1.003697</td>\n      <td>-0.544322</td>\n      <td>-1.199127</td>\n      <td>-0.881661</td>\n      <td>0.355680</td>\n      <td>0</td>\n      <td>0</td>\n      <td>0</td>\n      <td>0</td>\n      <td>0</td>\n    </tr>\n    <tr>\n      <th>3</th>\n      <td>-0.362027</td>\n      <td>0.575097</td>\n      <td>0.574128</td>\n      <td>-1.125069</td>\n      <td>0.753292</td>\n      <td>0.883317</td>\n      <td>0.320180</td>\n      <td>0.024391</td>\n      <td>0.002062</td>\n      <td>-0.406623</td>\n      <td>...</td>\n      <td>0.673123</td>\n      <td>1.163275</td>\n      <td>0.808092</td>\n      <td>-0.447279</td>\n      <td>-0.307825</td>\n      <td>1</td>\n      <td>1</td>\n      <td>1</td>\n      <td>0</td>\n      <td>0</td>\n    </tr>\n    <tr>\n      <th>4</th>\n      <td>-0.362027</td>\n      <td>0.575097</td>\n      <td>0.574128</td>\n      <td>-1.125069</td>\n      <td>0.753292</td>\n      <td>0.883317</td>\n      <td>0.320180</td>\n      <td>0.024391</td>\n      <td>0.002062</td>\n      <td>-0.406623</td>\n      <td>...</td>\n      <td>0.673123</td>\n      <td>1.163275</td>\n      <td>0.808092</td>\n      <td>-0.447279</td>\n      <td>-0.307825</td>\n      <td>1</td>\n      <td>1</td>\n      <td>1</td>\n      <td>0</td>\n      <td>0</td>\n    </tr>\n    <tr>\n      <th>...</th>\n      <td>...</td>\n      <td>...</td>\n      <td>...</td>\n      <td>...</td>\n      <td>...</td>\n      <td>...</td>\n      <td>...</td>\n      <td>...</td>\n      <td>...</td>\n      <td>...</td>\n      <td>...</td>\n      <td>...</td>\n      <td>...</td>\n      <td>...</td>\n      <td>...</td>\n      <td>...</td>\n      <td>...</td>\n      <td>...</td>\n      <td>...</td>\n      <td>...</td>\n      <td>...</td>\n    </tr>\n    <tr>\n      <th>2621</th>\n      <td>0.989664</td>\n      <td>0.466438</td>\n      <td>1.364300</td>\n      <td>0.671578</td>\n      <td>0.161952</td>\n      <td>0.500539</td>\n      <td>1.682591</td>\n      <td>-0.436560</td>\n      <td>1.121330</td>\n      <td>0.409805</td>\n      <td>...</td>\n      <td>-0.388863</td>\n      <td>-0.544322</td>\n      <td>-0.485285</td>\n      <td>-1.218306</td>\n      <td>-0.183208</td>\n      <td>0</td>\n      <td>1</td>\n      <td>0</td>\n      <td>1</td>\n      <td>0</td>\n    </tr>\n    <tr>\n      <th>2622</th>\n      <td>-0.725155</td>\n      <td>-1.892599</td>\n      <td>0.880563</td>\n      <td>-1.049388</td>\n      <td>1.475102</td>\n      <td>-0.318965</td>\n      <td>-0.537396</td>\n      <td>0.362717</td>\n      <td>0.450641</td>\n      <td>0.028466</td>\n      <td>...</td>\n      <td>0.840805</td>\n      <td>-0.544322</td>\n      <td>-0.072498</td>\n      <td>0.204293</td>\n      <td>-0.264041</td>\n      <td>1</td>\n      <td>1</td>\n      <td>1</td>\n      <td>0</td>\n      <td>0</td>\n    </tr>\n    <tr>\n      <th>2623</th>\n      <td>0.555973</td>\n      <td>1.543756</td>\n      <td>-0.468951</td>\n      <td>-0.434458</td>\n      <td>0.862756</td>\n      <td>0.350490</td>\n      <td>-0.929301</td>\n      <td>0.145873</td>\n      <td>1.569475</td>\n      <td>0.563036</td>\n      <td>...</td>\n      <td>-1.003697</td>\n      <td>-0.544322</td>\n      <td>-1.477361</td>\n      <td>-0.782647</td>\n      <td>1.702898</td>\n      <td>0</td>\n      <td>0</td>\n      <td>0</td>\n      <td>0</td>\n      <td>0</td>\n    </tr>\n    <tr>\n      <th>2624</th>\n      <td>0.723035</td>\n      <td>-1.194127</td>\n      <td>1.545593</td>\n      <td>-1.076401</td>\n      <td>2.107671</td>\n      <td>0.406613</td>\n      <td>0.786717</td>\n      <td>-1.082470</td>\n      <td>-0.210677</td>\n      <td>0.132756</td>\n      <td>...</td>\n      <td>-1.003697</td>\n      <td>-0.544322</td>\n      <td>-0.739557</td>\n      <td>-1.376728</td>\n      <td>3.050116</td>\n      <td>1</td>\n      <td>0</td>\n      <td>0</td>\n      <td>0</td>\n      <td>0</td>\n    </tr>\n    <tr>\n      <th>2625</th>\n      <td>0.528594</td>\n      <td>-2.099590</td>\n      <td>0.650517</td>\n      <td>-0.353982</td>\n      <td>0.430019</td>\n      <td>-0.384263</td>\n      <td>-0.533876</td>\n      <td>2.781842</td>\n      <td>1.864970</td>\n      <td>-0.020144</td>\n      <td>...</td>\n      <td>-1.003697</td>\n      <td>-0.544322</td>\n      <td>-2.126177</td>\n      <td>-0.447279</td>\n      <td>3.050116</td>\n      <td>0</td>\n      <td>0</td>\n      <td>0</td>\n      <td>0</td>\n      <td>0</td>\n    </tr>\n  </tbody>\n</table>\n<p>2492 rows × 33 columns</p>\n</div>"
     },
     "execution_count": 16,
     "metadata": {},
     "output_type": "execute_result"
    }
   ],
   "source": [
    "# Prep df for modeling\n",
    "df_modeling = df_main.copy()\n",
    "\n",
    "# Standardize variables\n",
    "scaler = StandardScaler()\n",
    "df_modeling[nvar_list] = scaler.fit_transform(df_modeling[nvar_list])\n",
    "\n",
    "# Choose model features\n",
    "# Set dependent variable\n",
    "DV = 'winner_1'\n",
    "\n",
    "# Minimum number - 71.5% accuracy, .4953 log loss\n",
    "#model_features = ['log5', 'seed_diff', 'coach_career_win_%', 'shooting_%', 'arate', 'stlrate', 'blockpct', 'Power 6_1.0', 'rd1_odds', 'winner_1']\n",
    "\n",
    "# Based on PCA (top 10 excl. multicollinear features) - 71.1% accuracy\n",
    "#model_features = ['log5', 'seed_diff', 'seed_tier_1', 'team_season_win_%', 'coach_career_win_%', 'Power 6_1.0', 'opp_shooting%', 'rd1_odds', 'coach_f4_rate', 'blockpct', 'winner_1']\n",
    "\n",
    "# All numeric features and relevant categorical features - 71.7%, .4950 log loss\n",
    "model_features = nvar_list + [DV] + ['Power 6_1.0', 'seed_tier_1', 'seed_tier_2', 'seed_tier_3']\n",
    "\n",
    "\n",
    "\n",
    "# Create df for modeling\n",
    "df_modeling = df_modeling[model_features]\n",
    "\n",
    "# Import tts from scikit learn\n",
    "from sklearn.model_selection import train_test_split\n",
    "\n",
    "# Set partition df and size of testing partition\n",
    "df_partition = df_modeling\n",
    "testpart_size = 0.2\n",
    "\n",
    "# Create training and testing partitions\n",
    "df_train, df_test = train_test_split(df_partition, test_size=testpart_size, random_state=1)\n",
    "\n",
    "df_modeling"
   ],
   "metadata": {
    "collapsed": false,
    "ExecuteTime": {
     "end_time": "2024-03-11T01:09:13.591209Z",
     "start_time": "2024-03-11T01:09:13.545371Z"
    }
   },
   "id": "3a54d307f2822cb6"
  },
  {
   "cell_type": "code",
   "execution_count": 17,
   "outputs": [
    {
     "data": {
      "text/plain": "<Axes: >"
     },
     "execution_count": 17,
     "metadata": {},
     "output_type": "execute_result"
    },
    {
     "data": {
      "text/plain": "<Figure size 640x480 with 2 Axes>",
      "image/png": "[encoded data removed]"
     },
     "metadata": {},
     "output_type": "display_data"
    }
   ],
   "source": [
    "# Import seaborn\n",
    "import seaborn as sns\n",
    "\n",
    "# Create correlation matrix\n",
    "df4heatmaps = df_modeling\n",
    "\n",
    "# Compute the correlation matrix \n",
    "corr = df4heatmaps.corr()\n",
    "\n",
    "# Draw the heatmap\n",
    "sns.heatmap(corr, xticklabels=corr.columns, yticklabels=corr.columns)"
   ],
   "metadata": {
    "collapsed": false,
    "ExecuteTime": {
     "end_time": "2024-03-11T01:09:14.459356Z",
     "start_time": "2024-03-11T01:09:13.576401Z"
    }
   },
   "id": "ed39c6e1712b8189"
  },
  {
   "cell_type": "code",
   "execution_count": 18,
   "outputs": [
    {
     "name": "stdout",
     "output_type": "stream",
     "text": [
      "                           0\n",
      "fg2pct              0.024922\n",
      "fg3pct              0.049207\n",
      "ftpct               0.022826\n",
      "blockpct            0.136475\n",
      "oppfg2pct           0.114757\n",
      "oppfg3pct          -0.071899\n",
      "oppftpct            0.045758\n",
      "oppblockpct         0.025836\n",
      "f3grate            -0.054632\n",
      "oppf3grate         -0.021331\n",
      "arate              -0.153914\n",
      "opparate            0.041973\n",
      "stlrate             0.110473\n",
      "oppstlrate         -0.035518\n",
      "adjtempo           -0.038018\n",
      "adjoe              -0.035728\n",
      "adjde              -0.033927\n",
      "seed_diff           0.483774\n",
      "dist_km            -0.032251\n",
      "exp_win            -0.119661\n",
      "log5                0.766828\n",
      "shooting_%          0.049436\n",
      "opp_shooting%       0.030474\n",
      "coach_s16_rate     -0.038666\n",
      "coach_f4_rate       0.013673\n",
      "coach_career_win_%  0.100656\n",
      "team_season_win_%   0.059945\n",
      "rd1_odds           -0.041605\n",
      "Power 6_1.0         0.283973\n",
      "seed_tier_1         0.005593\n",
      "seed_tier_2         0.005889\n",
      "seed_tier_3         0.295064\n",
      "Intercept          -0.289639\n",
      "                           0\n",
      "fg2pct              0.000000\n",
      "fg3pct              0.000000\n",
      "ftpct               0.000000\n",
      "blockpct            0.034968\n",
      "oppfg2pct           0.002640\n",
      "oppfg3pct           0.000000\n",
      "oppftpct            0.000000\n",
      "oppblockpct         0.000000\n",
      "f3grate             0.000000\n",
      "oppf3grate          0.000000\n",
      "arate              -0.082993\n",
      "opparate            0.000000\n",
      "stlrate             0.054153\n",
      "oppstlrate          0.000000\n",
      "adjtempo            0.000000\n",
      "adjoe               0.000000\n",
      "adjde               0.000000\n",
      "seed_diff           0.408665\n",
      "dist_km             0.000000\n",
      "exp_win             0.000000\n",
      "log5                0.769056\n",
      "shooting_%          0.000000\n",
      "opp_shooting%       0.000000\n",
      "coach_s16_rate      0.000000\n",
      "coach_f4_rate       0.000000\n",
      "coach_career_win_%  0.031706\n",
      "team_season_win_%   0.000000\n",
      "rd1_odds            0.000000\n",
      "Power 6_1.0         0.000000\n",
      "seed_tier_1         0.000000\n",
      "seed_tier_2         0.000000\n",
      "seed_tier_3         0.000000\n",
      "Intercept          -0.033354\n",
      "[21.12190991]\n",
      "[[167  65]\n",
      " [ 78 189]]\n"
     ]
    }
   ],
   "source": [
    "# Logit Model: Predict Winner\n",
    "\n",
    "# Import packages\n",
    "from sklearn.linear_model import LogisticRegression, LogisticRegressionCV\n",
    "\n",
    "# Separate the predictor values and the DV values into X and y respectively\n",
    "# Placeholder variable: DV\n",
    "y_logit = df_train[DV]\n",
    "x_logit = df_train.drop(columns=[DV])\n",
    "\n",
    "# Function to get summary coefficients\n",
    "def summary_coef(model_object):\n",
    "    n_predictors = x_logit.shape[1]\n",
    "    model_coef = pd.DataFrame(model_object.coef_.reshape(1, n_predictors), columns=x_logit.columns.values)\n",
    "    model_coef['Intercept'] = model_object.intercept_\n",
    "    return model_coef.transpose()\n",
    "\n",
    "# Run Logistic regression with pre-specified penalty level (alpha)\n",
    "# Placeholder variable: alpha\n",
    "alpha = 10\n",
    "\n",
    "# The Logistic regression results are put into a model object clf\n",
    "clf_logit = LogisticRegression(C=1/alpha, penalty='l2', solver='lbfgs', max_iter=200, random_state=1).fit(x_logit,y_logit)\n",
    "\n",
    "# Display summary coefficients\n",
    "print(summary_coef(clf_logit))\n",
    "\n",
    "# Placeholder variable: kfolds\n",
    "kfolds = 5\n",
    "\n",
    "# Here we specify within which range of the penalty levels we will search for the optimal penalty level, \n",
    "# i.e., the level that leads to the best model candidate\n",
    "# We search the optimal alpha within [min_alpha, max_alpha]\n",
    "min_alpha = 0.001\n",
    "max_alpha = 100\n",
    "\n",
    "# We further discretize the continuous alpha range [min_alpha, max_alpha] into n individual points of alpha\n",
    "# We train n model candidates each of which corresponds to one individual alpha point\n",
    "n_candidates = 1000\n",
    "\n",
    "import numpy as np\n",
    "\n",
    "# We store the list of individual alpha points into alpha_list\n",
    "alpha_list = list(np.linspace(min_alpha, max_alpha, num=n_candidates))\n",
    "\n",
    "# C_list is the element-wise inverse of alpha_list. It is required as one of the parameter values for LogisticRegressionCV\n",
    "C_list = list(1/np.linspace(min_alpha, max_alpha, num=n_candidates))\n",
    "\n",
    "# Set n_jobs to be -1 to run LogisticRegressionCV on all CPU cores.\n",
    "clf_optimal_logit = LogisticRegressionCV(Cs=C_list, cv=kfolds, penalty='l1', solver='saga', max_iter=500, random_state=1, n_jobs=-1).fit(x_logit,y_logit)\n",
    "\n",
    "# Display the estimated coefficients of the final selected model\n",
    "print(summary_coef(clf_optimal_logit))\n",
    "\n",
    "# Display the optimal alpha that yields the final selected model (the best model candidate)\n",
    "print(1/clf_optimal_logit.C_)\n",
    "\n",
    "# Calculate the error rate over the test partition based on the final selected model\n",
    "\n",
    "# y_test_actual is the actual values of the DV in the test partition\n",
    "y_test_actual_logit = df_test[DV]\n",
    "\n",
    "# X_test is the predictor values in the test partition\n",
    "X_test_logit = df_test.drop(columns=[DV])\n",
    "\n",
    "# Use predict method of the clf_optimal object to apply the model associated with clf_optimal to the test partition\n",
    "# y_test_predicted is the predicted values of the DV in the test partition \n",
    "y_test_predicted_logit = clf_optimal_logit.predict(X_test_logit)\n",
    "\n",
    "# Import the metrics package\n",
    "from sklearn import metrics\n",
    "\n",
    "# Display the confusion matrix over the test partition\n",
    "print(metrics.confusion_matrix(y_test_actual_logit, y_test_predicted_logit))"
   ],
   "metadata": {
    "collapsed": false,
    "ExecuteTime": {
     "end_time": "2024-03-11T01:09:21.623354Z",
     "start_time": "2024-03-11T01:09:14.465984Z"
    }
   },
   "id": "38d5006755d2f058"
  },
  {
   "cell_type": "code",
   "execution_count": 19,
   "outputs": [
    {
     "name": "stdout",
     "output_type": "stream",
     "text": [
      "0.7134268537074149\n"
     ]
    }
   ],
   "source": [
    "# Display the accuracy over the test partition\n",
    "print(clf_optimal_logit.score(X_test_logit, y_test_actual_logit)) # 71% with model_features (2nd one), 72% with other list"
   ],
   "metadata": {
    "collapsed": false,
    "ExecuteTime": {
     "end_time": "2024-03-11T01:09:21.662168Z",
     "start_time": "2024-03-11T01:09:21.613456Z"
    }
   },
   "id": "4532aac0684c0bed"
  },
  {
   "cell_type": "code",
   "execution_count": 20,
   "outputs": [],
   "source": [
    "# Prepare 2019 data for predictions\n",
    "\n",
    "# Make copy of 2019 df for testing\n",
    "df_2019_test = df_2019.copy()\n",
    "\n",
    "# Drop columns from 2019 dataset\n",
    "drop_cols_modeling = ['game_id', 'id', 'coach_id', 'year', 'team', 'seed']\n",
    "df_2019_test = df_2019_test.drop(columns=drop_cols_modeling)\n",
    "\n",
    "# Get dummies for 2019 dataset\n",
    "df_2019_test = pd.get_dummies(df_2019_test, prefix_sep='_')\n",
    "rdummies = ['winner_0', 'seed_tier_4', 'Power 6_0.0']\n",
    "df_2019_test = df_2019_test.drop(columns=rdummies)\n",
    "\n",
    "# Standardize 2019 dataset\n",
    "df_2019_test_normalized = df_2019_test.copy()\n",
    "df_2019_test_normalized[nvar_list] = (df_2019_test_normalized[nvar_list] - df_2019_test_normalized[nvar_list].mean())/df_2019_test_normalized[nvar_list].std()\n",
    "\n",
    "# Get model features\n",
    "df_2019_test = df_2019_test[model_features]\n",
    "df_2019_test_normalized = df_2019_test_normalized[model_features]"
   ],
   "metadata": {
    "collapsed": false,
    "ExecuteTime": {
     "end_time": "2024-03-11T01:09:21.662487Z",
     "start_time": "2024-03-11T01:09:21.645294Z"
    }
   },
   "id": "bdbe8bee74682d81"
  },
  {
   "cell_type": "code",
   "execution_count": 21,
   "outputs": [
    {
     "data": {
      "text/plain": "            game_id    prob\n0    2019-1113-1385  0.5331\n1    2019-1113-1385  0.4548\n2    2019-1120-1242  0.5288\n3    2019-1120-1242  0.5312\n4    2019-1120-1246  0.6636\n..              ...     ...\n129  2019-1439-1387  0.8025\n130  2019-1449-1429  0.5178\n131  2019-1449-1429  0.4975\n132  2019-1459-1371  0.6508\n133  2019-1459-1371  0.3289\n\n[134 rows x 2 columns]",
      "text/html": "<div>\n<style scoped>\n    .dataframe tbody tr th:only-of-type {\n        vertical-align: middle;\n    }\n\n    .dataframe tbody tr th {\n        vertical-align: top;\n    }\n\n    .dataframe thead th {\n        text-align: right;\n    }\n</style>\n<table border=\"1\" class=\"dataframe\">\n  <thead>\n    <tr style=\"text-align: right;\">\n      <th></th>\n      <th>game_id</th>\n      <th>prob</th>\n    </tr>\n  </thead>\n  <tbody>\n    <tr>\n      <th>0</th>\n      <td>2019-1113-1385</td>\n      <td>0.5331</td>\n    </tr>\n    <tr>\n      <th>1</th>\n      <td>2019-1113-1385</td>\n      <td>0.4548</td>\n    </tr>\n    <tr>\n      <th>2</th>\n      <td>2019-1120-1242</td>\n      <td>0.5288</td>\n    </tr>\n    <tr>\n      <th>3</th>\n      <td>2019-1120-1242</td>\n      <td>0.5312</td>\n    </tr>\n    <tr>\n      <th>4</th>\n      <td>2019-1120-1246</td>\n      <td>0.6636</td>\n    </tr>\n    <tr>\n      <th>...</th>\n      <td>...</td>\n      <td>...</td>\n    </tr>\n    <tr>\n      <th>129</th>\n      <td>2019-1439-1387</td>\n      <td>0.8025</td>\n    </tr>\n    <tr>\n      <th>130</th>\n      <td>2019-1449-1429</td>\n      <td>0.5178</td>\n    </tr>\n    <tr>\n      <th>131</th>\n      <td>2019-1449-1429</td>\n      <td>0.4975</td>\n    </tr>\n    <tr>\n      <th>132</th>\n      <td>2019-1459-1371</td>\n      <td>0.6508</td>\n    </tr>\n    <tr>\n      <th>133</th>\n      <td>2019-1459-1371</td>\n      <td>0.3289</td>\n    </tr>\n  </tbody>\n</table>\n<p>134 rows × 2 columns</p>\n</div>"
     },
     "execution_count": 21,
     "metadata": {},
     "output_type": "execute_result"
    }
   ],
   "source": [
    "# Predict 2019 game results for initial csv submission\n",
    "\n",
    "# Create copy of df\n",
    "df_2019_predict = df_2019_test_normalized.copy()\n",
    "df_2019_predict = df_2019_predict.drop(columns=DV)\n",
    "predictWinner = clf_optimal_logit.predict_proba(df_2019_predict)[:,1]\n",
    "\n",
    "# Convert list of predictions for 2019 to df\n",
    "df_predictedWinners = pd.DataFrame(predictWinner).reset_index(drop=True)\n",
    "\n",
    "# Get game_id from original 2019 df\n",
    "df_2019_Winners = df_2019.copy()\n",
    "#df_2019_Winners = df_2019_Winners[df_2019_Winners['winner'] == 1]\n",
    "\n",
    "# Get game_id for predictions df\n",
    "df_2019_Winners_games = df_2019_Winners['game_id'].reset_index(drop=True)\n",
    "\n",
    "# Join 2 datasets to get the predicted win probability for each game\n",
    "df_2019_Predictions_logit = pd.merge(df_predictedWinners, df_2019_Winners_games, left_index=True, right_index=True)\n",
    "\n",
    "# Rename and reorder fields\n",
    "df_2019_Predictions_logit = df_2019_Predictions_logit.rename(columns={0: 'prob'})\n",
    "df_2019_Predictions_logit = df_2019_Predictions_logit[['game_id', 'prob']]\n",
    "\n",
    "# Preview df\n",
    "df_2019_Predictions_logit.head(10)\n",
    "\n",
    "# Round predictions to 4 decimal places\n",
    "df_2019_Predictions_logit['prob'] = df_2019_Predictions_logit['prob'].round(decimals=4)\n",
    "\n",
    "# Preview results\n",
    "df_2019_Predictions_logit\n",
    "\n",
    "# Output df to csv\n",
    "#df_2019_Predictions_logit.to_csv('2019 Predictions.csv', index=False)"
   ],
   "metadata": {
    "collapsed": false,
    "ExecuteTime": {
     "end_time": "2024-03-11T01:09:21.724569Z",
     "start_time": "2024-03-11T01:09:21.680126Z"
    }
   },
   "id": "e253c5c08233ce70"
  },
  {
   "cell_type": "code",
   "execution_count": 22,
   "outputs": [
    {
     "name": "stdout",
     "output_type": "stream",
     "text": [
      "AUC is 0.84161, Log Loss is 0.49665\n"
     ]
    }
   ],
   "source": [
    "# KPI metrics\n",
    "\n",
    "# Log Loss\n",
    "from sklearn.metrics import log_loss\n",
    "\n",
    "# Get actual results\n",
    "y_true = df_2019_Winners['winner'].tolist()\n",
    "\n",
    "# Get predicted\n",
    "y_predicted = df_2019_Predictions_logit['prob'].tolist()\n",
    "\n",
    "# Calculate log loss\n",
    "loss = log_loss(y_true, y_predicted)\n",
    "\n",
    "# Show log loss\n",
    "loss # 0.477\n",
    "\n",
    "# AUC\n",
    "from sklearn import metrics\n",
    "auc = metrics.roc_auc_score(y_true, y_predicted)\n",
    "print(f\"AUC is {auc.round(5)}, Log Loss is {loss.round(5)}\")"
   ],
   "metadata": {
    "collapsed": false,
    "ExecuteTime": {
     "end_time": "2024-03-11T01:09:21.725683Z",
     "start_time": "2024-03-11T01:09:21.699048Z"
    }
   },
   "id": "beb3c41299e59c85"
  },
  {
   "cell_type": "code",
   "execution_count": 23,
   "outputs": [],
   "source": [
    "\n",
    "# Write output files\n",
    "from datetime import date\n",
    "date_stamp = str(date.today())\n",
    "\n",
    "# Write output files\n",
    "df_cleaned.to_excel(\"Output Data_Review_\"+date_stamp+\".xlsx\")\n",
    "df_main[model_features].to_excel(\"Training Data_CT_\"+date_stamp+\".xlsx\")\n",
    "df_modeling.to_excel(\"Training Data_Standardized_\"+date_stamp+\".xlsx\")\n",
    "df_2019_test.to_excel(\"2019 Testing Data_CT_\"+date_stamp+\".xlsx\")\n",
    "df_2019_test_normalized.to_excel(\"2019 Testing Data_Standardized_\"+date_stamp+\".xlsx\")\n"
   ],
   "metadata": {
    "collapsed": false,
    "ExecuteTime": {
     "end_time": "2024-03-11T01:09:25.735525Z",
     "start_time": "2024-03-11T01:09:21.707073Z"
    }
   },
   "id": "f7f6e09525447c2"
  },
  {
   "cell_type": "code",
   "execution_count": 23,
   "outputs": [],
   "source": [],
   "metadata": {
    "collapsed": false,
    "ExecuteTime": {
     "end_time": "2024-03-11T01:09:25.740191Z",
     "start_time": "2024-03-11T01:09:25.735830Z"
    }
   },
   "id": "68a8dc442a9d2543"
  }
 ],
 "metadata": {
  "kernelspec": {
   "display_name": "Python 3",
   "language": "python",
   "name": "python3"
  },
  "language_info": {
   "codemirror_mode": {
    "name": "ipython",
    "version": 2
   },
   "file_extension": ".py",
   "mimetype": "text/x-python",
   "name": "python",
   "nbconvert_exporter": "python",
   "pygments_lexer": "ipython2",
   "version": "2.7.6"
  }
 },
 "nbformat": 4,
 "nbformat_minor": 5
}
